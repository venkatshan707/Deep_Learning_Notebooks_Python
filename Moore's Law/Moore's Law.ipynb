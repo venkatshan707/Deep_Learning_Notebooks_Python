{
 "cells": [
  {
   "cell_type": "markdown",
   "metadata": {},
   "source": [
    "## We will Prove Moore's Law in the Session"
   ]
  },
  {
   "cell_type": "markdown",
   "metadata": {},
   "source": [
    "***What is Moore's Law:***\n",
    "Moore's law is a term used to refer to the observation made by Gordon Moore in 1965 that the number of transistors in a dense integrated circuit (IC) doubles about every two years."
   ]
  },
  {
   "cell_type": "code",
   "execution_count": 4,
   "metadata": {},
   "outputs": [],
   "source": [
    "#Uploading files on Google Colab\n",
    "#from google.colab import files\n",
    "#uploaded = files.upload()'''"
   ]
  },
  {
   "cell_type": "code",
   "execution_count": 5,
   "metadata": {},
   "outputs": [],
   "source": [
    "import tensorflow as tf\n",
    "import numpy as np \n",
    "import matplotlib.pyplot as plt \n",
    "import seaborn as sns\n",
    "import pandas as pd"
   ]
  },
  {
   "cell_type": "code",
   "execution_count": 44,
   "metadata": {},
   "outputs": [],
   "source": [
    "df= pd.read_csv(\"https://raw.githubusercontent.com/venkatshan707/Deep_Learning_Notebooks_Python/main/Moore's%20Law/moores%20law%20data%20set.csv\")\n",
    "df.to_csv(\"moores law data set.csv\", index = False, header = False)\n",
    "df= pd.read_csv(\"moores law data set.csv\", header = None).values"
   ]
  },
  {
   "cell_type": "code",
   "execution_count": 45,
   "metadata": {},
   "outputs": [
    {
     "data": {
      "text/plain": [
       "array([[       1973,        2500],\n",
       "       [       1973,        2500],\n",
       "       [       1974,        4100],\n",
       "       [       1974,        4500],\n",
       "       [       1974,        8000],\n",
       "       [       1975,        3510],\n",
       "       [       1976,        5000],\n",
       "       [       1976,        8500],\n",
       "       [       1976,        6500],\n",
       "       [       1978,        9000],\n",
       "       [       1978,       29000],\n",
       "       [       1979,       17500],\n",
       "       [       1979,       29000],\n",
       "       [       1979,       68000],\n",
       "       [       1981,       11500],\n",
       "       [       1982,       55000],\n",
       "       [       1982,      134000],\n",
       "       [       1983,       22000],\n",
       "       [       1984,       63000],\n",
       "       [       1984,      190000],\n",
       "       [       1985,      275000],\n",
       "       [       1985,       25000],\n",
       "       [       1985,       16000],\n",
       "       [       1986,      110000],\n",
       "       [       1986,      375000],\n",
       "       [       1986,       30000],\n",
       "       [       1987,      385000],\n",
       "       [       1987,      730000],\n",
       "       [       1987,      273000],\n",
       "       [       1987,      553000],\n",
       "       [       1988,      180000],\n",
       "       [       1988,      250000],\n",
       "       [       1989,      600000],\n",
       "       [       1989,     1000000],\n",
       "       [       1989,     1180235],\n",
       "       [       1989,      310000],\n",
       "       [       1990,     1200000],\n",
       "       [       1991,     1350000],\n",
       "       [       1991,       35000],\n",
       "       [       1992,      600000],\n",
       "       [       1992,      900000],\n",
       "       [       1993,     2800000],\n",
       "       [       1993,     3100000],\n",
       "       [       1994,      578977],\n",
       "       [       1994,     2500000],\n",
       "       [       1995,     2500000],\n",
       "       [       1999,      111000],\n",
       "       [       1995,     5500000],\n",
       "       [       1996,     4300000],\n",
       "       [       1997,    10000000],\n",
       "       [       1997,     7500000],\n",
       "       [       1997,     8800000],\n",
       "       [       1998,     7500000],\n",
       "       [       1999,     9500000],\n",
       "       [       1999,    13500000],\n",
       "       [       2000,    21000000],\n",
       "       [       2000,    21000000],\n",
       "       [       1999,    27400000],\n",
       "       [       1999,    21300000],\n",
       "       [       1999,    22000000],\n",
       "       [       2000,    42000000],\n",
       "       [       2001,   191000000],\n",
       "       [       2001,    45000000],\n",
       "       [       2002,    55000000],\n",
       "       [       2004,   112000000],\n",
       "       [       2004,   400000000],\n",
       "       [       2005,   169000000],\n",
       "       [       2006,   184000000],\n",
       "       [       2005,   228000000],\n",
       "       [       2006,   362000000],\n",
       "       [       2007,   540000000],\n",
       "       [       2008,    47000000],\n",
       "       [       2003,    54300000],\n",
       "       [       2003,   105900000],\n",
       "       [       2002,   220000000],\n",
       "       [       2005,   165000000],\n",
       "       [       2005,   250000000],\n",
       "       [       2006,   291000000],\n",
       "       [       2007,   169000000],\n",
       "       [       2003,   410000000],\n",
       "       [       2008,   600000000],\n",
       "       [       2009,   760000000],\n",
       "       [       2011,  1870000000],\n",
       "       [       2012,   432000000],\n",
       "       [       2007,   463000000],\n",
       "       [       2007,    26000000],\n",
       "       [       2008,   230000000],\n",
       "       [       2004,   592000000],\n",
       "       [       2007,   411000000],\n",
       "       [       2008,   731000000],\n",
       "       [       2008,   758000000],\n",
       "       [       2007,   789000000],\n",
       "       [       2009,   904000000],\n",
       "       [       2010,  1000000000],\n",
       "       [       2012,  2990000000],\n",
       "       [       2013,  1000000000],\n",
       "       [       2011,  1160000000],\n",
       "       [       2010,  1170000000],\n",
       "       [       2010,  1200000000],\n",
       "       [       2012,  1200000000],\n",
       "       [       2012,  1303000000],\n",
       "       [       2010,  1400000000],\n",
       "       [       2012,  1400000000],\n",
       "       [       2014,  1400000000],\n",
       "       [       2006,  1700000000],\n",
       "       [       2015,  1750000000],\n",
       "       [       2013,  1860000000],\n",
       "       [       2015,  1900000000],\n",
       "       [       2008,  1900000000],\n",
       "       [       2010,  2000000000],\n",
       "       [       2014,  2000000000],\n",
       "       [       2015,  2000000000],\n",
       "       [       2015,  3000000000],\n",
       "       [       2012,  2100000000],\n",
       "       [       2011,  2270000000],\n",
       "       [       2010,  2300000000],\n",
       "       [       2014,  2600000000],\n",
       "       [       2011,  2600000000],\n",
       "       [       2012,  2750000000],\n",
       "       [       2014,  3000000000],\n",
       "       [       2016,  3000000000],\n",
       "       [       2017,  5300000000],\n",
       "       [       2017,  5300000000],\n",
       "       [       2018,  8500000000],\n",
       "       [       2012,  3100000000],\n",
       "       [       2016,  3200000000],\n",
       "       [       2016,  3300000000],\n",
       "       [       2015,  3990000000],\n",
       "       [       2013,  4200000000],\n",
       "       [       2017,  4300000000],\n",
       "       [       2014,  4310000000],\n",
       "       [       2017,  4800000000],\n",
       "       [       2017,  4800000000],\n",
       "       [       2017,  4800000000],\n",
       "       [       2012,  5000000000],\n",
       "       [       2013,  5000000000],\n",
       "       [       2014,  5560000000],\n",
       "       [       2017,  6100000000],\n",
       "       [       2018,  6900000000],\n",
       "       [       2016,  4000000000],\n",
       "       [       2018,  6900000000],\n",
       "       [       2017,  5500000000],\n",
       "       [       2018,  5500000000],\n",
       "       [       2017,  7000000000],\n",
       "       [       2015,  7100000000],\n",
       "       [       2017,  8000000000],\n",
       "       [       2016,  7200000000],\n",
       "       [       2017,  8000000000],\n",
       "       [       2016,  8000000000],\n",
       "       [       2017,  9700000000],\n",
       "       [       2017,   250000000],\n",
       "       [       2015, 10000000000],\n",
       "       [       2017,  5450000000],\n",
       "       [       2018, 10000000000],\n",
       "       [       2017,  4300000000],\n",
       "       [       2017, 18000000000],\n",
       "       [       2017, 19200000000],\n",
       "       [       2018,  8876000000],\n",
       "       [       2018, 23600000000],\n",
       "       [       2018,  9000000000]], dtype=int64)"
      ]
     },
     "execution_count": 45,
     "metadata": {},
     "output_type": "execute_result"
    }
   ],
   "source": [
    "df"
   ]
  },
  {
   "cell_type": "code",
   "execution_count": 46,
   "metadata": {},
   "outputs": [
    {
     "data": {
      "text/plain": [
       "(160, 2)"
      ]
     },
     "execution_count": 46,
     "metadata": {},
     "output_type": "execute_result"
    }
   ],
   "source": [
    "df.shape"
   ]
  },
  {
   "cell_type": "code",
   "execution_count": 47,
   "metadata": {},
   "outputs": [
    {
     "name": "stdout",
     "output_type": "stream",
     "text": [
      "<class 'numpy.ndarray'>\n"
     ]
    }
   ],
   "source": [
    "print(type (df))"
   ]
  },
  {
   "cell_type": "code",
   "execution_count": 48,
   "metadata": {},
   "outputs": [],
   "source": [
    "X = df[:,0]"
   ]
  },
  {
   "cell_type": "code",
   "execution_count": 49,
   "metadata": {},
   "outputs": [
    {
     "data": {
      "text/plain": [
       "(160,)"
      ]
     },
     "execution_count": 49,
     "metadata": {},
     "output_type": "execute_result"
    }
   ],
   "source": [
    "X.shape"
   ]
  },
  {
   "cell_type": "code",
   "execution_count": 50,
   "metadata": {},
   "outputs": [
    {
     "data": {
      "text/plain": [
       "array([1973, 1973, 1974, 1974, 1974, 1975, 1976, 1976, 1976, 1978, 1978,\n",
       "       1979, 1979, 1979, 1981, 1982, 1982, 1983, 1984, 1984, 1985, 1985,\n",
       "       1985, 1986, 1986, 1986, 1987, 1987, 1987, 1987, 1988, 1988, 1989,\n",
       "       1989, 1989, 1989, 1990, 1991, 1991, 1992, 1992, 1993, 1993, 1994,\n",
       "       1994, 1995, 1999, 1995, 1996, 1997, 1997, 1997, 1998, 1999, 1999,\n",
       "       2000, 2000, 1999, 1999, 1999, 2000, 2001, 2001, 2002, 2004, 2004,\n",
       "       2005, 2006, 2005, 2006, 2007, 2008, 2003, 2003, 2002, 2005, 2005,\n",
       "       2006, 2007, 2003, 2008, 2009, 2011, 2012, 2007, 2007, 2008, 2004,\n",
       "       2007, 2008, 2008, 2007, 2009, 2010, 2012, 2013, 2011, 2010, 2010,\n",
       "       2012, 2012, 2010, 2012, 2014, 2006, 2015, 2013, 2015, 2008, 2010,\n",
       "       2014, 2015, 2015, 2012, 2011, 2010, 2014, 2011, 2012, 2014, 2016,\n",
       "       2017, 2017, 2018, 2012, 2016, 2016, 2015, 2013, 2017, 2014, 2017,\n",
       "       2017, 2017, 2012, 2013, 2014, 2017, 2018, 2016, 2018, 2017, 2018,\n",
       "       2017, 2015, 2017, 2016, 2017, 2016, 2017, 2017, 2015, 2017, 2018,\n",
       "       2017, 2017, 2017, 2018, 2018, 2018], dtype=int64)"
      ]
     },
     "execution_count": 50,
     "metadata": {},
     "output_type": "execute_result"
    }
   ],
   "source": [
    "X"
   ]
  },
  {
   "cell_type": "markdown",
   "metadata": {},
   "source": [
    "Adove the X is 1D Array. We have to make it as 2D array as Tensor Expects input data in 2D format. As we need data in the format of NxD. Where D = 1."
   ]
  },
  {
   "cell_type": "code",
   "execution_count": 51,
   "metadata": {},
   "outputs": [],
   "source": [
    "X= df[:,0].reshape(-1,1)"
   ]
  },
  {
   "cell_type": "code",
   "execution_count": 52,
   "metadata": {},
   "outputs": [
    {
     "data": {
      "text/plain": [
       "(160, 1)"
      ]
     },
     "execution_count": 52,
     "metadata": {},
     "output_type": "execute_result"
    }
   ],
   "source": [
    "X.shape"
   ]
  },
  {
   "cell_type": "code",
   "execution_count": 53,
   "metadata": {},
   "outputs": [
    {
     "data": {
      "text/plain": [
       "array([[1973],\n",
       "       [1973],\n",
       "       [1974],\n",
       "       [1974],\n",
       "       [1974],\n",
       "       [1975],\n",
       "       [1976],\n",
       "       [1976],\n",
       "       [1976],\n",
       "       [1978],\n",
       "       [1978],\n",
       "       [1979],\n",
       "       [1979],\n",
       "       [1979],\n",
       "       [1981],\n",
       "       [1982],\n",
       "       [1982],\n",
       "       [1983],\n",
       "       [1984],\n",
       "       [1984],\n",
       "       [1985],\n",
       "       [1985],\n",
       "       [1985],\n",
       "       [1986],\n",
       "       [1986],\n",
       "       [1986],\n",
       "       [1987],\n",
       "       [1987],\n",
       "       [1987],\n",
       "       [1987],\n",
       "       [1988],\n",
       "       [1988],\n",
       "       [1989],\n",
       "       [1989],\n",
       "       [1989],\n",
       "       [1989],\n",
       "       [1990],\n",
       "       [1991],\n",
       "       [1991],\n",
       "       [1992],\n",
       "       [1992],\n",
       "       [1993],\n",
       "       [1993],\n",
       "       [1994],\n",
       "       [1994],\n",
       "       [1995],\n",
       "       [1999],\n",
       "       [1995],\n",
       "       [1996],\n",
       "       [1997],\n",
       "       [1997],\n",
       "       [1997],\n",
       "       [1998],\n",
       "       [1999],\n",
       "       [1999],\n",
       "       [2000],\n",
       "       [2000],\n",
       "       [1999],\n",
       "       [1999],\n",
       "       [1999],\n",
       "       [2000],\n",
       "       [2001],\n",
       "       [2001],\n",
       "       [2002],\n",
       "       [2004],\n",
       "       [2004],\n",
       "       [2005],\n",
       "       [2006],\n",
       "       [2005],\n",
       "       [2006],\n",
       "       [2007],\n",
       "       [2008],\n",
       "       [2003],\n",
       "       [2003],\n",
       "       [2002],\n",
       "       [2005],\n",
       "       [2005],\n",
       "       [2006],\n",
       "       [2007],\n",
       "       [2003],\n",
       "       [2008],\n",
       "       [2009],\n",
       "       [2011],\n",
       "       [2012],\n",
       "       [2007],\n",
       "       [2007],\n",
       "       [2008],\n",
       "       [2004],\n",
       "       [2007],\n",
       "       [2008],\n",
       "       [2008],\n",
       "       [2007],\n",
       "       [2009],\n",
       "       [2010],\n",
       "       [2012],\n",
       "       [2013],\n",
       "       [2011],\n",
       "       [2010],\n",
       "       [2010],\n",
       "       [2012],\n",
       "       [2012],\n",
       "       [2010],\n",
       "       [2012],\n",
       "       [2014],\n",
       "       [2006],\n",
       "       [2015],\n",
       "       [2013],\n",
       "       [2015],\n",
       "       [2008],\n",
       "       [2010],\n",
       "       [2014],\n",
       "       [2015],\n",
       "       [2015],\n",
       "       [2012],\n",
       "       [2011],\n",
       "       [2010],\n",
       "       [2014],\n",
       "       [2011],\n",
       "       [2012],\n",
       "       [2014],\n",
       "       [2016],\n",
       "       [2017],\n",
       "       [2017],\n",
       "       [2018],\n",
       "       [2012],\n",
       "       [2016],\n",
       "       [2016],\n",
       "       [2015],\n",
       "       [2013],\n",
       "       [2017],\n",
       "       [2014],\n",
       "       [2017],\n",
       "       [2017],\n",
       "       [2017],\n",
       "       [2012],\n",
       "       [2013],\n",
       "       [2014],\n",
       "       [2017],\n",
       "       [2018],\n",
       "       [2016],\n",
       "       [2018],\n",
       "       [2017],\n",
       "       [2018],\n",
       "       [2017],\n",
       "       [2015],\n",
       "       [2017],\n",
       "       [2016],\n",
       "       [2017],\n",
       "       [2016],\n",
       "       [2017],\n",
       "       [2017],\n",
       "       [2015],\n",
       "       [2017],\n",
       "       [2018],\n",
       "       [2017],\n",
       "       [2017],\n",
       "       [2017],\n",
       "       [2018],\n",
       "       [2018],\n",
       "       [2018]], dtype=int64)"
      ]
     },
     "execution_count": 53,
     "metadata": {},
     "output_type": "execute_result"
    }
   ],
   "source": [
    "# And X now looks like \n",
    "X"
   ]
  },
  {
   "cell_type": "code",
   "execution_count": 54,
   "metadata": {},
   "outputs": [],
   "source": [
    "y= df[:, 1]"
   ]
  },
  {
   "cell_type": "code",
   "execution_count": 55,
   "metadata": {},
   "outputs": [
    {
     "data": {
      "text/plain": [
       "(160,)"
      ]
     },
     "execution_count": 55,
     "metadata": {},
     "output_type": "execute_result"
    }
   ],
   "source": [
    "y.shape # We could see y also 1D. But we leave y as 1 D as we are not going to pass it as input o the model. "
   ]
  },
  {
   "cell_type": "code",
   "execution_count": 56,
   "metadata": {},
   "outputs": [
    {
     "data": {
      "text/plain": [
       "<matplotlib.collections.PathCollection at 0x246a9ff7ac8>"
      ]
     },
     "execution_count": 56,
     "metadata": {},
     "output_type": "execute_result"
    },
    {
     "data": {
      "image/png": "[encoded data removed]",
      "text/plain": [
       "<Figure size 432x288 with 1 Axes>"
      ]
     },
     "metadata": {
      "needs_background": "light"
     },
     "output_type": "display_data"
    }
   ],
   "source": [
    "# Plotting the data to know whether it's having Exponential Relationship or not\n",
    "plt.scatter(X,y)"
   ]
  },
  {
   "cell_type": "code",
   "execution_count": 57,
   "metadata": {},
   "outputs": [
    {
     "data": {
      "text/plain": [
       "<matplotlib.collections.PathCollection at 0x246aa1e5288>"
      ]
     },
     "execution_count": 57,
     "metadata": {},
     "output_type": "execute_result"
    },
    {
     "data": {
      "image/png": "[encoded data removed]",
      "text/plain": [
       "<Figure size 432x288 with 1 Axes>"
      ]
     },
     "metadata": {
      "needs_background": "light"
     },
     "output_type": "display_data"
    }
   ],
   "source": [
    "#We are going to look this as a liner realtionship with the help of the \"log\" on y\n",
    "y =np.log(y)\n",
    "plt.scatter (X, y)"
   ]
  },
  {
   "cell_type": "markdown",
   "metadata": {},
   "source": [
    "Now our data is a good Candiate for Linear Relationship"
   ]
  },
  {
   "cell_type": "code",
   "execution_count": 58,
   "metadata": {},
   "outputs": [],
   "source": [
    "#Preprocessing on X\n",
    "#Why Because we are having year value from 1970 - 2020 and which is not scaled/centered around 0.\n",
    "#So, we are going to centre those values around zero.\n",
    "X= X- X.mean() # Centered around Mean value"
   ]
  },
  {
   "cell_type": "code",
   "execution_count": 59,
   "metadata": {},
   "outputs": [
    {
     "data": {
      "text/plain": [
       "array([[-29.58125],\n",
       "       [-29.58125],\n",
       "       [-28.58125],\n",
       "       [-28.58125],\n",
       "       [-28.58125],\n",
       "       [-27.58125],\n",
       "       [-26.58125],\n",
       "       [-26.58125],\n",
       "       [-26.58125],\n",
       "       [-24.58125],\n",
       "       [-24.58125],\n",
       "       [-23.58125],\n",
       "       [-23.58125],\n",
       "       [-23.58125],\n",
       "       [-21.58125],\n",
       "       [-20.58125],\n",
       "       [-20.58125],\n",
       "       [-19.58125],\n",
       "       [-18.58125],\n",
       "       [-18.58125],\n",
       "       [-17.58125],\n",
       "       [-17.58125],\n",
       "       [-17.58125],\n",
       "       [-16.58125],\n",
       "       [-16.58125],\n",
       "       [-16.58125],\n",
       "       [-15.58125],\n",
       "       [-15.58125],\n",
       "       [-15.58125],\n",
       "       [-15.58125],\n",
       "       [-14.58125],\n",
       "       [-14.58125],\n",
       "       [-13.58125],\n",
       "       [-13.58125],\n",
       "       [-13.58125],\n",
       "       [-13.58125],\n",
       "       [-12.58125],\n",
       "       [-11.58125],\n",
       "       [-11.58125],\n",
       "       [-10.58125],\n",
       "       [-10.58125],\n",
       "       [ -9.58125],\n",
       "       [ -9.58125],\n",
       "       [ -8.58125],\n",
       "       [ -8.58125],\n",
       "       [ -7.58125],\n",
       "       [ -3.58125],\n",
       "       [ -7.58125],\n",
       "       [ -6.58125],\n",
       "       [ -5.58125],\n",
       "       [ -5.58125],\n",
       "       [ -5.58125],\n",
       "       [ -4.58125],\n",
       "       [ -3.58125],\n",
       "       [ -3.58125],\n",
       "       [ -2.58125],\n",
       "       [ -2.58125],\n",
       "       [ -3.58125],\n",
       "       [ -3.58125],\n",
       "       [ -3.58125],\n",
       "       [ -2.58125],\n",
       "       [ -1.58125],\n",
       "       [ -1.58125],\n",
       "       [ -0.58125],\n",
       "       [  1.41875],\n",
       "       [  1.41875],\n",
       "       [  2.41875],\n",
       "       [  3.41875],\n",
       "       [  2.41875],\n",
       "       [  3.41875],\n",
       "       [  4.41875],\n",
       "       [  5.41875],\n",
       "       [  0.41875],\n",
       "       [  0.41875],\n",
       "       [ -0.58125],\n",
       "       [  2.41875],\n",
       "       [  2.41875],\n",
       "       [  3.41875],\n",
       "       [  4.41875],\n",
       "       [  0.41875],\n",
       "       [  5.41875],\n",
       "       [  6.41875],\n",
       "       [  8.41875],\n",
       "       [  9.41875],\n",
       "       [  4.41875],\n",
       "       [  4.41875],\n",
       "       [  5.41875],\n",
       "       [  1.41875],\n",
       "       [  4.41875],\n",
       "       [  5.41875],\n",
       "       [  5.41875],\n",
       "       [  4.41875],\n",
       "       [  6.41875],\n",
       "       [  7.41875],\n",
       "       [  9.41875],\n",
       "       [ 10.41875],\n",
       "       [  8.41875],\n",
       "       [  7.41875],\n",
       "       [  7.41875],\n",
       "       [  9.41875],\n",
       "       [  9.41875],\n",
       "       [  7.41875],\n",
       "       [  9.41875],\n",
       "       [ 11.41875],\n",
       "       [  3.41875],\n",
       "       [ 12.41875],\n",
       "       [ 10.41875],\n",
       "       [ 12.41875],\n",
       "       [  5.41875],\n",
       "       [  7.41875],\n",
       "       [ 11.41875],\n",
       "       [ 12.41875],\n",
       "       [ 12.41875],\n",
       "       [  9.41875],\n",
       "       [  8.41875],\n",
       "       [  7.41875],\n",
       "       [ 11.41875],\n",
       "       [  8.41875],\n",
       "       [  9.41875],\n",
       "       [ 11.41875],\n",
       "       [ 13.41875],\n",
       "       [ 14.41875],\n",
       "       [ 14.41875],\n",
       "       [ 15.41875],\n",
       "       [  9.41875],\n",
       "       [ 13.41875],\n",
       "       [ 13.41875],\n",
       "       [ 12.41875],\n",
       "       [ 10.41875],\n",
       "       [ 14.41875],\n",
       "       [ 11.41875],\n",
       "       [ 14.41875],\n",
       "       [ 14.41875],\n",
       "       [ 14.41875],\n",
       "       [  9.41875],\n",
       "       [ 10.41875],\n",
       "       [ 11.41875],\n",
       "       [ 14.41875],\n",
       "       [ 15.41875],\n",
       "       [ 13.41875],\n",
       "       [ 15.41875],\n",
       "       [ 14.41875],\n",
       "       [ 15.41875],\n",
       "       [ 14.41875],\n",
       "       [ 12.41875],\n",
       "       [ 14.41875],\n",
       "       [ 13.41875],\n",
       "       [ 14.41875],\n",
       "       [ 13.41875],\n",
       "       [ 14.41875],\n",
       "       [ 14.41875],\n",
       "       [ 12.41875],\n",
       "       [ 14.41875],\n",
       "       [ 15.41875],\n",
       "       [ 14.41875],\n",
       "       [ 14.41875],\n",
       "       [ 14.41875],\n",
       "       [ 15.41875],\n",
       "       [ 15.41875],\n",
       "       [ 15.41875]])"
      ]
     },
     "execution_count": 59,
     "metadata": {},
     "output_type": "execute_result"
    }
   ],
   "source": [
    "X"
   ]
  },
  {
   "cell_type": "code",
   "execution_count": 60,
   "metadata": {},
   "outputs": [
    {
     "data": {
      "text/plain": [
       "<matplotlib.collections.PathCollection at 0x246aa272488>"
      ]
     },
     "execution_count": 60,
     "metadata": {},
     "output_type": "execute_result"
    },
    {
     "data": {
      "image/png": "[encoded data removed]",
      "text/plain": [
       "<Figure size 432x288 with 1 Axes>"
      ]
     },
     "metadata": {
      "needs_background": "light"
     },
     "output_type": "display_data"
    }
   ],
   "source": [
    "plt.scatter (X, y)"
   ]
  },
  {
   "cell_type": "markdown",
   "metadata": {},
   "source": [
    "Unlike Logistic Regression, where we were doing classification, we dont need to map 'Y' to a number between 0 and 1.\n",
    "\n",
    "In Linear Regression, the target can be any real number. Hence, we dont use any Activation Function.\n",
    "\n",
    "Therefore, in Keras, we do use a Dense layer but we pass Activation=None or we can simply omit the argument.\n",
    "\n",
    "Note: Activation-None is the default value."
   ]
  },
  {
   "cell_type": "markdown",
   "metadata": {},
   "source": [
    "### Creating a Model"
   ]
  },
  {
   "cell_type": "code",
   "execution_count": 61,
   "metadata": {},
   "outputs": [],
   "source": [
    "# Craeting Tensorflow model\n",
    "\n",
    "model = tf.keras.models.Sequential([\n",
    "    tf.keras.layers.Input (shape = (1, )),  # Input columns is 1. So, we are giving 1 value at a time to the the Neurons as i/p.\n",
    "    tf.keras.layers.Dense(1) # we are giving 1 to sepactify the No.of Perceptrons we are going to use. \n",
    "])\n",
    "\n"
   ]
  },
  {
   "cell_type": "markdown",
   "metadata": {},
   "source": [
    "### Calling a Model and Traing the model"
   ]
  },
  {
   "cell_type": "code",
   "execution_count": 62,
   "metadata": {},
   "outputs": [],
   "source": [
    "model.compile(optimizer= tf.keras.optimizers.SGD(0.001, 0.9), loss ='mse')# SGD (Learning Rate, Momentum)\n",
    "#model.compile(optimizer = 'adam', loss = 'mse')"
   ]
  },
  {
   "cell_type": "markdown",
   "metadata": {},
   "source": [
    "***Learning Rate Scheduler***\n",
    "\n",
    "whats is need of Learning Rate Scheduler?\n",
    "\n",
    "If we have fixed Learning rate of 0.001. While creating a model it may miss the local Minima, That's why we are decreaing learning rate after some of the epochs."
   ]
  },
  {
   "cell_type": "code",
   "execution_count": 63,
   "metadata": {},
   "outputs": [],
   "source": [
    "\n",
    "def schedule (epoch, lr): \n",
    "    if epoch >= 50:\n",
    "        return 0.0001\n",
    "    return 0.001\n",
    "\n",
    "scheduler = tf.keras.callbacks.LearningRateScheduler (schedule) #passing our defined function to the Learning Rate Scheduler"
   ]
  },
  {
   "cell_type": "code",
   "execution_count": 64,
   "metadata": {},
   "outputs": [
    {
     "name": "stdout",
     "output_type": "stream",
     "text": [
      "Epoch 1/200\n",
      "5/5 [==============================] - 1s 5ms/step - loss: 315.6649 - lr: 0.0010\n",
      "Epoch 2/200\n",
      "5/5 [==============================] - 0s 11ms/step - loss: 311.1088 - lr: 0.0010\n",
      "Epoch 3/200\n",
      "5/5 [==============================] - 0s 12ms/step - loss: 256.5286 - lr: 0.0010\n",
      "Epoch 4/200\n",
      "5/5 [==============================] - 0s 6ms/step - loss: 218.9422 - lr: 0.0010\n",
      "Epoch 5/200\n",
      "5/5 [==============================] - 0s 4ms/step - loss: 181.4386 - lr: 0.0010\n",
      "Epoch 6/200\n",
      "5/5 [==============================] - 0s 11ms/step - loss: 146.7407 - lr: 0.0010\n",
      "Epoch 7/200\n",
      "5/5 [==============================] - 0s 18ms/step - loss: 114.3330 - lr: 0.0010\n",
      "Epoch 8/200\n",
      "5/5 [==============================] - 0s 6ms/step - loss: 97.1543 - lr: 0.0010\n",
      "Epoch 9/200\n",
      "5/5 [==============================] - 0s 17ms/step - loss: 82.7336 - lr: 0.0010\n",
      "Epoch 10/200\n",
      "5/5 [==============================] - 0s 5ms/step - loss: 59.4225 - lr: 0.0010\n",
      "Epoch 11/200\n",
      "5/5 [==============================] - 0s 10ms/step - loss: 43.7188 - lr: 0.0010\n",
      "Epoch 12/200\n",
      "5/5 [==============================] - 0s 14ms/step - loss: 34.6519 - lr: 0.0010\n",
      "Epoch 13/200\n",
      "5/5 [==============================] - 0s 4ms/step - loss: 28.1754 - lr: 0.0010\n",
      "Epoch 14/200\n",
      "5/5 [==============================] - 0s 3ms/step - loss: 23.0824 - lr: 0.0010\n",
      "Epoch 15/200\n",
      "5/5 [==============================] - 0s 5ms/step - loss: 19.9489 - lr: 0.0010\n",
      "Epoch 16/200\n",
      "5/5 [==============================] - 0s 27ms/step - loss: 15.9154 - lr: 0.0010\n",
      "Epoch 17/200\n",
      "5/5 [==============================] - 0s 5ms/step - loss: 14.0640 - lr: 0.0010\n",
      "Epoch 18/200\n",
      "5/5 [==============================] - 0s 12ms/step - loss: 9.3975 - lr: 0.0010\n",
      "Epoch 19/200\n",
      "5/5 [==============================] - 0s 4ms/step - loss: 9.0219 - lr: 0.0010\n",
      "Epoch 20/200\n",
      "5/5 [==============================] - 0s 9ms/step - loss: 5.5915 - lr: 0.0010\n",
      "Epoch 21/200\n",
      "5/5 [==============================] - 0s 6ms/step - loss: 4.7027 - lr: 0.0010\n",
      "Epoch 22/200\n",
      "5/5 [==============================] - 0s 5ms/step - loss: 3.1587 - lr: 0.0010\n",
      "Epoch 23/200\n",
      "5/5 [==============================] - 0s 4ms/step - loss: 2.9773 - lr: 0.0010\n",
      "Epoch 24/200\n",
      "5/5 [==============================] - 0s 4ms/step - loss: 2.6636 - lr: 0.0010\n",
      "Epoch 25/200\n",
      "5/5 [==============================] - 0s 9ms/step - loss: 1.9386 - lr: 0.0010\n",
      "Epoch 26/200\n",
      "5/5 [==============================] - 0s 4ms/step - loss: 1.6717 - lr: 0.0010\n",
      "Epoch 27/200\n",
      "5/5 [==============================] - 0s 4ms/step - loss: 1.6813 - lr: 0.0010\n",
      "Epoch 28/200\n",
      "5/5 [==============================] - 0s 4ms/step - loss: 1.4075 - lr: 0.0010\n",
      "Epoch 29/200\n",
      "5/5 [==============================] - 0s 4ms/step - loss: 1.3508 - lr: 0.0010\n",
      "Epoch 30/200\n",
      "5/5 [==============================] - 0s 4ms/step - loss: 1.3102 - lr: 0.0010\n",
      "Epoch 31/200\n",
      "5/5 [==============================] - 0s 4ms/step - loss: 1.1845 - lr: 0.0010\n",
      "Epoch 32/200\n",
      "5/5 [==============================] - 0s 6ms/step - loss: 1.0531 - lr: 0.0010\n",
      "Epoch 33/200\n",
      "5/5 [==============================] - 0s 7ms/step - loss: 1.0183 - lr: 0.0010\n",
      "Epoch 34/200\n",
      "5/5 [==============================] - 0s 5ms/step - loss: 0.9663 - lr: 0.0010\n",
      "Epoch 35/200\n",
      "5/5 [==============================] - 0s 5ms/step - loss: 0.9601 - lr: 0.0010\n",
      "Epoch 36/200\n",
      "5/5 [==============================] - 0s 4ms/step - loss: 0.9489 - lr: 0.0010\n",
      "Epoch 37/200\n",
      "5/5 [==============================] - 0s 7ms/step - loss: 0.9239 - lr: 0.0010\n",
      "Epoch 38/200\n",
      "5/5 [==============================] - 0s 5ms/step - loss: 0.9217 - lr: 0.0010\n",
      "Epoch 39/200\n",
      "5/5 [==============================] - 0s 6ms/step - loss: 0.8984 - lr: 0.0010\n",
      "Epoch 40/200\n",
      "5/5 [==============================] - 0s 4ms/step - loss: 0.9016 - lr: 0.0010\n",
      "Epoch 41/200\n",
      "5/5 [==============================] - 0s 5ms/step - loss: 0.9146 - lr: 0.0010\n",
      "Epoch 42/200\n",
      "5/5 [==============================] - 0s 4ms/step - loss: 0.9121 - lr: 0.0010\n",
      "Epoch 43/200\n",
      "5/5 [==============================] - 0s 15ms/step - loss: 0.9731 - lr: 0.0010\n",
      "Epoch 44/200\n",
      "5/5 [==============================] - 0s 4ms/step - loss: 0.9597 - lr: 0.0010\n",
      "Epoch 45/200\n",
      "5/5 [==============================] - 0s 4ms/step - loss: 0.9210 - lr: 0.0010\n",
      "Epoch 46/200\n",
      "5/5 [==============================] - 0s 4ms/step - loss: 0.9358 - lr: 0.0010\n",
      "Epoch 47/200\n",
      "5/5 [==============================] - 0s 7ms/step - loss: 0.9047 - lr: 0.0010\n",
      "Epoch 48/200\n",
      "5/5 [==============================] - 0s 14ms/step - loss: 0.8674 - lr: 0.0010\n",
      "Epoch 49/200\n",
      "5/5 [==============================] - 0s 4ms/step - loss: 0.8852 - lr: 0.0010\n",
      "Epoch 50/200\n",
      "5/5 [==============================] - 0s 21ms/step - loss: 0.9006 - lr: 0.0010\n",
      "Epoch 51/200\n",
      "5/5 [==============================] - 0s 4ms/step - loss: 0.9163 - lr: 1.0000e-04\n",
      "Epoch 52/200\n",
      "5/5 [==============================] - 0s 12ms/step - loss: 0.9685 - lr: 1.0000e-04\n",
      "Epoch 53/200\n",
      "5/5 [==============================] - 0s 4ms/step - loss: 0.8935 - lr: 1.0000e-04\n",
      "Epoch 54/200\n",
      "5/5 [==============================] - 0s 17ms/step - loss: 0.8830 - lr: 1.0000e-04\n",
      "Epoch 55/200\n",
      "5/5 [==============================] - 0s 4ms/step - loss: 0.8931 - lr: 1.0000e-04\n",
      "Epoch 56/200\n",
      "5/5 [==============================] - 0s 4ms/step - loss: 0.8863 - lr: 1.0000e-04\n",
      "Epoch 57/200\n",
      "5/5 [==============================] - 0s 4ms/step - loss: 0.8842 - lr: 1.0000e-04\n",
      "Epoch 58/200\n",
      "5/5 [==============================] - 0s 5ms/step - loss: 0.8824 - lr: 1.0000e-04\n",
      "Epoch 59/200\n",
      "5/5 [==============================] - 0s 5ms/step - loss: 0.8800 - lr: 1.0000e-04\n",
      "Epoch 60/200\n",
      "5/5 [==============================] - 0s 4ms/step - loss: 0.8770 - lr: 1.0000e-04\n",
      "Epoch 61/200\n",
      "5/5 [==============================] - 0s 4ms/step - loss: 0.8761 - lr: 1.0000e-04\n",
      "Epoch 62/200\n",
      "5/5 [==============================] - 0s 4ms/step - loss: 0.8776 - lr: 1.0000e-04\n",
      "Epoch 63/200\n",
      "5/5 [==============================] - 0s 7ms/step - loss: 0.8757 - lr: 1.0000e-04\n",
      "Epoch 64/200\n",
      "5/5 [==============================] - 0s 4ms/step - loss: 0.8767 - lr: 1.0000e-04\n",
      "Epoch 65/200\n",
      "5/5 [==============================] - 0s 20ms/step - loss: 0.8762 - lr: 1.0000e-04\n",
      "Epoch 66/200\n",
      "5/5 [==============================] - 0s 5ms/step - loss: 0.8764 - lr: 1.0000e-04\n",
      "Epoch 67/200\n",
      "5/5 [==============================] - 0s 7ms/step - loss: 0.8762 - lr: 1.0000e-04\n",
      "Epoch 68/200\n",
      "5/5 [==============================] - 0s 4ms/step - loss: 0.8762 - lr: 1.0000e-04\n",
      "Epoch 69/200\n",
      "5/5 [==============================] - 0s 9ms/step - loss: 0.8758 - lr: 1.0000e-04\n",
      "Epoch 70/200\n",
      "5/5 [==============================] - 0s 4ms/step - loss: 0.8766 - lr: 1.0000e-04\n",
      "Epoch 71/200\n",
      "5/5 [==============================] - 0s 7ms/step - loss: 0.8761 - lr: 1.0000e-04\n",
      "Epoch 72/200\n",
      "5/5 [==============================] - 0s 4ms/step - loss: 0.8766 - lr: 1.0000e-04\n",
      "Epoch 73/200\n",
      "5/5 [==============================] - 0s 12ms/step - loss: 0.8762 - lr: 1.0000e-04\n",
      "Epoch 74/200\n",
      "5/5 [==============================] - 0s 6ms/step - loss: 0.8814 - lr: 1.0000e-04\n",
      "Epoch 75/200\n",
      "5/5 [==============================] - 0s 12ms/step - loss: 0.8781 - lr: 1.0000e-04\n",
      "Epoch 76/200\n",
      "5/5 [==============================] - 0s 4ms/step - loss: 0.8773 - lr: 1.0000e-04\n",
      "Epoch 77/200\n",
      "5/5 [==============================] - 0s 4ms/step - loss: 0.8751 - lr: 1.0000e-04\n",
      "Epoch 78/200\n",
      "5/5 [==============================] - 0s 4ms/step - loss: 0.8755 - lr: 1.0000e-04\n",
      "Epoch 79/200\n",
      "5/5 [==============================] - 0s 4ms/step - loss: 0.8768 - lr: 1.0000e-04\n",
      "Epoch 80/200\n",
      "5/5 [==============================] - 0s 4ms/step - loss: 0.8762 - lr: 1.0000e-04\n",
      "Epoch 81/200\n",
      "5/5 [==============================] - 0s 10ms/step - loss: 0.8756 - lr: 1.0000e-04\n",
      "Epoch 82/200\n",
      "5/5 [==============================] - 0s 4ms/step - loss: 0.8755 - lr: 1.0000e-04\n",
      "Epoch 83/200\n",
      "5/5 [==============================] - 0s 4ms/step - loss: 0.8761 - lr: 1.0000e-04\n",
      "Epoch 84/200\n",
      "5/5 [==============================] - 0s 4ms/step - loss: 0.8767 - lr: 1.0000e-04\n",
      "Epoch 85/200\n",
      "5/5 [==============================] - 0s 4ms/step - loss: 0.8764 - lr: 1.0000e-04\n",
      "Epoch 86/200\n",
      "5/5 [==============================] - 0s 2ms/step - loss: 0.8758 - lr: 1.0000e-04\n",
      "Epoch 87/200\n",
      "5/5 [==============================] - 0s 4ms/step - loss: 0.8759 - lr: 1.0000e-04\n",
      "Epoch 88/200\n"
     ]
    },
    {
     "name": "stdout",
     "output_type": "stream",
     "text": [
      "5/5 [==============================] - 0s 4ms/step - loss: 0.8772 - lr: 1.0000e-04\n",
      "Epoch 89/200\n",
      "5/5 [==============================] - 0s 5ms/step - loss: 0.8768 - lr: 1.0000e-04\n",
      "Epoch 90/200\n",
      "5/5 [==============================] - 0s 20ms/step - loss: 0.8762 - lr: 1.0000e-04\n",
      "Epoch 91/200\n",
      "5/5 [==============================] - 0s 5ms/step - loss: 0.8756 - lr: 1.0000e-04\n",
      "Epoch 92/200\n",
      "5/5 [==============================] - 0s 11ms/step - loss: 0.8767 - lr: 1.0000e-04\n",
      "Epoch 93/200\n",
      "5/5 [==============================] - 0s 4ms/step - loss: 0.8760 - lr: 1.0000e-04\n",
      "Epoch 94/200\n",
      "5/5 [==============================] - 0s 11ms/step - loss: 0.8762 - lr: 1.0000e-04\n",
      "Epoch 95/200\n",
      "5/5 [==============================] - 0s 5ms/step - loss: 0.8792 - lr: 1.0000e-04\n",
      "Epoch 96/200\n",
      "5/5 [==============================] - 0s 21ms/step - loss: 0.8767 - lr: 1.0000e-04\n",
      "Epoch 97/200\n",
      "5/5 [==============================] - 0s 4ms/step - loss: 0.8757 - lr: 1.0000e-04\n",
      "Epoch 98/200\n",
      "5/5 [==============================] - 0s 15ms/step - loss: 0.8762 - lr: 1.0000e-04\n",
      "Epoch 99/200\n",
      "5/5 [==============================] - 0s 4ms/step - loss: 0.8753 - lr: 1.0000e-04\n",
      "Epoch 100/200\n",
      "5/5 [==============================] - 0s 4ms/step - loss: 0.8753 - lr: 1.0000e-04\n",
      "Epoch 101/200\n",
      "5/5 [==============================] - 0s 10ms/step - loss: 0.8758 - lr: 1.0000e-04\n",
      "Epoch 102/200\n",
      "5/5 [==============================] - 0s 4ms/step - loss: 0.8767 - lr: 1.0000e-04\n",
      "Epoch 103/200\n",
      "5/5 [==============================] - 0s 4ms/step - loss: 0.8754 - lr: 1.0000e-04\n",
      "Epoch 104/200\n",
      "5/5 [==============================] - 0s 8ms/step - loss: 0.8762 - lr: 1.0000e-04\n",
      "Epoch 105/200\n",
      "5/5 [==============================] - 0s 3ms/step - loss: 0.8752 - lr: 1.0000e-04\n",
      "Epoch 106/200\n",
      "5/5 [==============================] - 0s 4ms/step - loss: 0.8798 - lr: 1.0000e-04\n",
      "Epoch 107/200\n",
      "5/5 [==============================] - 0s 9ms/step - loss: 0.8768 - lr: 1.0000e-04\n",
      "Epoch 108/200\n",
      "5/5 [==============================] - 0s 4ms/step - loss: 0.8750 - lr: 1.0000e-04\n",
      "Epoch 109/200\n",
      "5/5 [==============================] - 0s 6ms/step - loss: 0.8765 - lr: 1.0000e-04\n",
      "Epoch 110/200\n",
      "5/5 [==============================] - 0s 6ms/step - loss: 0.8764 - lr: 1.0000e-04\n",
      "Epoch 111/200\n",
      "5/5 [==============================] - 0s 10ms/step - loss: 0.8766 - lr: 1.0000e-04\n",
      "Epoch 112/200\n",
      "5/5 [==============================] - 0s 10ms/step - loss: 0.8756 - lr: 1.0000e-04\n",
      "Epoch 113/200\n",
      "5/5 [==============================] - 0s 7ms/step - loss: 0.8754 - lr: 1.0000e-04\n",
      "Epoch 114/200\n",
      "5/5 [==============================] - 0s 4ms/step - loss: 0.8754 - lr: 1.0000e-04\n",
      "Epoch 115/200\n",
      "5/5 [==============================] - 0s 14ms/step - loss: 0.8762 - lr: 1.0000e-04\n",
      "Epoch 116/200\n",
      "5/5 [==============================] - 0s 4ms/step - loss: 0.8753 - lr: 1.0000e-04\n",
      "Epoch 117/200\n",
      "5/5 [==============================] - 0s 7ms/step - loss: 0.8756 - lr: 1.0000e-04\n",
      "Epoch 118/200\n",
      "5/5 [==============================] - 0s 4ms/step - loss: 0.8756 - lr: 1.0000e-04\n",
      "Epoch 119/200\n",
      "5/5 [==============================] - 0s 5ms/step - loss: 0.8775 - lr: 1.0000e-04\n",
      "Epoch 120/200\n",
      "5/5 [==============================] - 0s 8ms/step - loss: 0.8786 - lr: 1.0000e-04\n",
      "Epoch 121/200\n",
      "5/5 [==============================] - 0s 4ms/step - loss: 0.8774 - lr: 1.0000e-04\n",
      "Epoch 122/200\n",
      "5/5 [==============================] - 0s 5ms/step - loss: 0.8755 - lr: 1.0000e-04\n",
      "Epoch 123/200\n",
      "5/5 [==============================] - 0s 4ms/step - loss: 0.8765 - lr: 1.0000e-04\n",
      "Epoch 124/200\n",
      "5/5 [==============================] - 0s 4ms/step - loss: 0.8753 - lr: 1.0000e-04\n",
      "Epoch 125/200\n",
      "5/5 [==============================] - 0s 6ms/step - loss: 0.8755 - lr: 1.0000e-04\n",
      "Epoch 126/200\n",
      "5/5 [==============================] - 0s 4ms/step - loss: 0.8769 - lr: 1.0000e-04\n",
      "Epoch 127/200\n",
      "5/5 [==============================] - 0s 4ms/step - loss: 0.8758 - lr: 1.0000e-04\n",
      "Epoch 128/200\n",
      "5/5 [==============================] - 0s 4ms/step - loss: 0.8759 - lr: 1.0000e-04\n",
      "Epoch 129/200\n",
      "5/5 [==============================] - 0s 4ms/step - loss: 0.8758 - lr: 1.0000e-04\n",
      "Epoch 130/200\n",
      "5/5 [==============================] - 0s 39ms/step - loss: 0.8783 - lr: 1.0000e-04\n",
      "Epoch 131/200\n",
      "5/5 [==============================] - 0s 4ms/step - loss: 0.8751 - lr: 1.0000e-04\n",
      "Epoch 132/200\n",
      "5/5 [==============================] - 0s 11ms/step - loss: 0.8760 - lr: 1.0000e-04\n",
      "Epoch 133/200\n",
      "5/5 [==============================] - 0s 4ms/step - loss: 0.8768 - lr: 1.0000e-04\n",
      "Epoch 134/200\n",
      "5/5 [==============================] - 0s 10ms/step - loss: 0.8755 - lr: 1.0000e-04\n",
      "Epoch 135/200\n",
      "5/5 [==============================] - 0s 4ms/step - loss: 0.8765 - lr: 1.0000e-04\n",
      "Epoch 136/200\n",
      "5/5 [==============================] - 0s 10ms/step - loss: 0.8760 - lr: 1.0000e-04\n",
      "Epoch 137/200\n",
      "5/5 [==============================] - 0s 4ms/step - loss: 0.8755 - lr: 1.0000e-04\n",
      "Epoch 138/200\n",
      "5/5 [==============================] - 0s 5ms/step - loss: 0.8760 - lr: 1.0000e-04\n",
      "Epoch 139/200\n",
      "5/5 [==============================] - 0s 5ms/step - loss: 0.8751 - lr: 1.0000e-04\n",
      "Epoch 140/200\n",
      "5/5 [==============================] - 0s 13ms/step - loss: 0.8764 - lr: 1.0000e-04\n",
      "Epoch 141/200\n",
      "5/5 [==============================] - 0s 4ms/step - loss: 0.8765 - lr: 1.0000e-04\n",
      "Epoch 142/200\n",
      "5/5 [==============================] - 0s 4ms/step - loss: 0.8753 - lr: 1.0000e-04\n",
      "Epoch 143/200\n",
      "5/5 [==============================] - 0s 5ms/step - loss: 0.8768 - lr: 1.0000e-04\n",
      "Epoch 144/200\n",
      "5/5 [==============================] - 0s 15ms/step - loss: 0.8776 - lr: 1.0000e-04\n",
      "Epoch 145/200\n",
      "5/5 [==============================] - 0s 4ms/step - loss: 0.8778 - lr: 1.0000e-04\n",
      "Epoch 146/200\n",
      "5/5 [==============================] - 0s 6ms/step - loss: 0.8828 - lr: 1.0000e-04\n",
      "Epoch 147/200\n",
      "5/5 [==============================] - 0s 4ms/step - loss: 0.8763 - lr: 1.0000e-04\n",
      "Epoch 148/200\n",
      "5/5 [==============================] - 0s 4ms/step - loss: 0.8758 - lr: 1.0000e-04\n",
      "Epoch 149/200\n",
      "5/5 [==============================] - 0s 4ms/step - loss: 0.8754 - lr: 1.0000e-04\n",
      "Epoch 150/200\n",
      "5/5 [==============================] - 0s 4ms/step - loss: 0.8754 - lr: 1.0000e-04\n",
      "Epoch 151/200\n",
      "5/5 [==============================] - 0s 5ms/step - loss: 0.8759 - lr: 1.0000e-04\n",
      "Epoch 152/200\n",
      "5/5 [==============================] - 0s 4ms/step - loss: 0.8758 - lr: 1.0000e-04\n",
      "Epoch 153/200\n",
      "5/5 [==============================] - 0s 5ms/step - loss: 0.8754 - lr: 1.0000e-04\n",
      "Epoch 154/200\n",
      "5/5 [==============================] - 0s 4ms/step - loss: 0.8757 - lr: 1.0000e-04\n",
      "Epoch 155/200\n",
      "5/5 [==============================] - 0s 17ms/step - loss: 0.8757 - lr: 1.0000e-04\n",
      "Epoch 156/200\n",
      "5/5 [==============================] - 0s 4ms/step - loss: 0.8758 - lr: 1.0000e-04\n",
      "Epoch 157/200\n",
      "5/5 [==============================] - 0s 14ms/step - loss: 0.8763 - lr: 1.0000e-04\n",
      "Epoch 158/200\n",
      "5/5 [==============================] - 0s 4ms/step - loss: 0.8758 - lr: 1.0000e-04\n",
      "Epoch 159/200\n",
      "5/5 [==============================] - 0s 11ms/step - loss: 0.8775 - lr: 1.0000e-04\n",
      "Epoch 160/200\n",
      "5/5 [==============================] - 0s 5ms/step - loss: 0.8755 - lr: 1.0000e-04\n",
      "Epoch 161/200\n",
      "5/5 [==============================] - 0s 6ms/step - loss: 0.8762 - lr: 1.0000e-04\n",
      "Epoch 162/200\n",
      "5/5 [==============================] - 0s 8ms/step - loss: 0.8754 - lr: 1.0000e-04\n",
      "Epoch 163/200\n",
      "5/5 [==============================] - 0s 11ms/step - loss: 0.8754 - lr: 1.0000e-04\n",
      "Epoch 164/200\n",
      "5/5 [==============================] - 0s 5ms/step - loss: 0.8774 - lr: 1.0000e-04\n",
      "Epoch 165/200\n",
      "5/5 [==============================] - 0s 9ms/step - loss: 0.8769 - lr: 1.0000e-04\n",
      "Epoch 166/200\n",
      "5/5 [==============================] - 0s 6ms/step - loss: 0.8750 - lr: 1.0000e-04\n",
      "Epoch 167/200\n",
      "5/5 [==============================] - 0s 4ms/step - loss: 0.8769 - lr: 1.0000e-04\n",
      "Epoch 168/200\n",
      "5/5 [==============================] - 0s 3ms/step - loss: 0.8781 - lr: 1.0000e-04\n",
      "Epoch 169/200\n",
      "5/5 [==============================] - 0s 6ms/step - loss: 0.8765 - lr: 1.0000e-04\n",
      "Epoch 170/200\n",
      "5/5 [==============================] - 0s 4ms/step - loss: 0.8748 - lr: 1.0000e-04\n",
      "Epoch 171/200\n",
      "5/5 [==============================] - 0s 4ms/step - loss: 0.8756 - lr: 1.0000e-04\n",
      "Epoch 172/200\n"
     ]
    },
    {
     "name": "stdout",
     "output_type": "stream",
     "text": [
      "5/5 [==============================] - 0s 16ms/step - loss: 0.8760 - lr: 1.0000e-04\n",
      "Epoch 173/200\n",
      "5/5 [==============================] - 0s 4ms/step - loss: 0.8756 - lr: 1.0000e-04\n",
      "Epoch 174/200\n",
      "5/5 [==============================] - 0s 12ms/step - loss: 0.8759 - lr: 1.0000e-04\n",
      "Epoch 175/200\n",
      "5/5 [==============================] - 0s 4ms/step - loss: 0.8751 - lr: 1.0000e-04\n",
      "Epoch 176/200\n",
      "5/5 [==============================] - 0s 5ms/step - loss: 0.8762 - lr: 1.0000e-04\n",
      "Epoch 177/200\n",
      "5/5 [==============================] - 0s 4ms/step - loss: 0.8765 - lr: 1.0000e-04\n",
      "Epoch 178/200\n",
      "5/5 [==============================] - 0s 15ms/step - loss: 0.8763 - lr: 1.0000e-04\n",
      "Epoch 179/200\n",
      "5/5 [==============================] - 0s 3ms/step - loss: 0.8751 - lr: 1.0000e-04\n",
      "Epoch 180/200\n",
      "5/5 [==============================] - 0s 4ms/step - loss: 0.8756 - lr: 1.0000e-04\n",
      "Epoch 181/200\n",
      "5/5 [==============================] - 0s 4ms/step - loss: 0.8752 - lr: 1.0000e-04\n",
      "Epoch 182/200\n",
      "5/5 [==============================] - 0s 19ms/step - loss: 0.8762 - lr: 1.0000e-04\n",
      "Epoch 183/200\n",
      "5/5 [==============================] - 0s 5ms/step - loss: 0.8757 - lr: 1.0000e-04\n",
      "Epoch 184/200\n",
      "5/5 [==============================] - 0s 12ms/step - loss: 0.8755 - lr: 1.0000e-04\n",
      "Epoch 185/200\n",
      "5/5 [==============================] - 0s 4ms/step - loss: 0.8754 - lr: 1.0000e-04\n",
      "Epoch 186/200\n",
      "5/5 [==============================] - 0s 8ms/step - loss: 0.8784 - lr: 1.0000e-04\n",
      "Epoch 187/200\n",
      "5/5 [==============================] - 0s 4ms/step - loss: 0.8752 - lr: 1.0000e-04\n",
      "Epoch 188/200\n",
      "5/5 [==============================] - 0s 7ms/step - loss: 0.8780 - lr: 1.0000e-04\n",
      "Epoch 189/200\n",
      "5/5 [==============================] - 0s 7ms/step - loss: 0.8771 - lr: 1.0000e-04\n",
      "Epoch 190/200\n",
      "5/5 [==============================] - 0s 9ms/step - loss: 0.8789 - lr: 1.0000e-04\n",
      "Epoch 191/200\n",
      "5/5 [==============================] - 0s 5ms/step - loss: 0.8770 - lr: 1.0000e-04\n",
      "Epoch 192/200\n",
      "5/5 [==============================] - 0s 6ms/step - loss: 0.8760 - lr: 1.0000e-04\n",
      "Epoch 193/200\n",
      "5/5 [==============================] - 0s 4ms/step - loss: 0.8755 - lr: 1.0000e-04\n",
      "Epoch 194/200\n",
      "5/5 [==============================] - 0s 5ms/step - loss: 0.8791 - lr: 1.0000e-04\n",
      "Epoch 195/200\n",
      "5/5 [==============================] - 0s 4ms/step - loss: 0.8765 - lr: 1.0000e-04\n",
      "Epoch 196/200\n",
      "5/5 [==============================] - 0s 8ms/step - loss: 0.8789 - lr: 1.0000e-04\n",
      "Epoch 197/200\n",
      "5/5 [==============================] - 0s 4ms/step - loss: 0.8766 - lr: 1.0000e-04\n",
      "Epoch 198/200\n",
      "5/5 [==============================] - 0s 10ms/step - loss: 0.8758 - lr: 1.0000e-04\n",
      "Epoch 199/200\n",
      "5/5 [==============================] - 0s 10ms/step - loss: 0.8754 - lr: 1.0000e-04\n",
      "Epoch 200/200\n",
      "5/5 [==============================] - 0s 4ms/step - loss: 0.8758 - lr: 1.0000e-04\n"
     ]
    }
   ],
   "source": [
    "# Training the Model \n",
    "r = model.fit (X, y, epochs = 200, callbacks = [scheduler])"
   ]
  },
  {
   "cell_type": "code",
   "execution_count": 65,
   "metadata": {},
   "outputs": [
    {
     "data": {
      "image/png": "[encoded data removed]",
      "text/plain": [
       "<Figure size 432x288 with 1 Axes>"
      ]
     },
     "metadata": {
      "needs_background": "light"
     },
     "output_type": "display_data"
    }
   ],
   "source": [
    "# Plotting the loss \n",
    "plt.plot(r.history ['loss'], label='loss')\n",
    "plt.show()"
   ]
  },
  {
   "cell_type": "markdown",
   "metadata": {},
   "source": [
    "We could see there is convergence. Also, We could find that after epoch '24' there no decrease in loss"
   ]
  },
  {
   "cell_type": "code",
   "execution_count": 66,
   "metadata": {},
   "outputs": [
    {
     "name": "stdout",
     "output_type": "stream",
     "text": [
      "[<keras.layers.core.dense.Dense object at 0x00000246AA2ACC48>]\n",
      "[array([[0.34278023]], dtype=float32), array([17.88251], dtype=float32)]\n"
     ]
    }
   ],
   "source": [
    "#Now, lets get the trained weight of the model. To do this, we have to access the relevant layer.\n",
    "#We have only one layer. And the Weight is nothing but slope of the line in this case\n",
    "\n",
    "#The slope of the line is related to the doubling rate of transistor count\n",
    "\n",
    "print (model.layers) \n",
    "\n",
    "#Note: there is only 1 layer, the 'Input layer doesnt exist \n",
    "\n",
    "print (model.layers[0].get_weights())"
   ]
  },
  {
   "cell_type": "markdown",
   "metadata": {},
   "source": [
    "print(model.layers[0] get weights() ==> returns two arrays, the first array represents W and the second array represents B. W is a 2D array and B is a 1D array. And the funny part is both of them just contain one number in our case here. Also, this is different from linear regression equation, where W is a vector and B is a scaler.\n",
    "\n",
    "Reason: This is a more general version of the dense layer where we can have multiple outputs. In particular, if the input size is D and the output size is M, then\n",
    "\n",
    "W.shape=(D,M) i.e. DxM Matrix\n",
    "\n",
    "b.shape=(M.) i.e. M size vector\n",
    "\n",
    "In the above case, both the input and output are of size 1, therefore, W is a 1x1 Matrix and B is a lenght 1 Vector.\n",
    "\n",
    "https://www.linkedin.com/pulse/machine-learning-basics-scalars-vectors-matrices-tensors-prasad/\n"
   ]
  },
  {
   "cell_type": "code",
   "execution_count": 67,
   "metadata": {},
   "outputs": [
    {
     "data": {
      "text/plain": [
       "list"
      ]
     },
     "execution_count": 67,
     "metadata": {},
     "output_type": "execute_result"
    }
   ],
   "source": [
    "type(model.layers[0].get_weights())"
   ]
  },
  {
   "cell_type": "code",
   "execution_count": 68,
   "metadata": {},
   "outputs": [
    {
     "name": "stdout",
     "output_type": "stream",
     "text": [
      "[[0.34278023]]\n",
      "\n",
      " 0.34278023\n"
     ]
    }
   ],
   "source": [
    "print (model.layers[0].get_weights()[0])   # Getting the Value of First layer's first neuron's weight alone\n",
    "print ('\\n',model.layers[0].get_weights()[0][0,0]) "
   ]
  },
  {
   "cell_type": "code",
   "execution_count": 69,
   "metadata": {},
   "outputs": [],
   "source": [
    "a = model.layers[0].get_weights()[0][0,0]"
   ]
  },
  {
   "cell_type": "markdown",
   "metadata": {},
   "source": [
    "[![image](https://www.linkpicture.com/q/Moorelawexplanation.png)](https://www.linkpicture.com/view.php?img=LPic632413c92ff6e766022929)"
   ]
  },
  {
   "cell_type": "markdown",
   "metadata": {},
   "source": [
    "[![image](https://www.linkpicture.com/q/Moorelawexplanation1.png)](https://www.linkpicture.com/view.php?img=LPic632413c92ff6e766022929)"
   ]
  },
  {
   "cell_type": "code",
   "execution_count": 70,
   "metadata": {},
   "outputs": [
    {
     "name": "stdout",
     "output_type": "stream",
     "text": [
      "Time to Double: 2.022132885689366\n"
     ]
    }
   ],
   "source": [
    "print(\"Time to Double:\", np.log(2)/a)"
   ]
  },
  {
   "cell_type": "markdown",
   "metadata": {},
   "source": [
    "# Prediction"
   ]
  },
  {
   "cell_type": "code",
   "execution_count": 71,
   "metadata": {},
   "outputs": [
    {
     "name": "stdout",
     "output_type": "stream",
     "text": [
      "(160, 1)\n",
      "(160,)\n"
     ]
    }
   ],
   "source": [
    "Yhat= model.predict (X)\n",
    "print (Yhat.shape)\n",
    "print(y.shape)"
   ]
  },
  {
   "cell_type": "markdown",
   "metadata": {},
   "source": [
    "Note : Since Tensorflow's Dense layer has multiple outputs, it's going to return a 2D matrix. But our Ourginal output 'y' is 1D Vector. So, we have to flatten our predicted output(Yhat)) to 1D. "
   ]
  },
  {
   "cell_type": "code",
   "execution_count": 74,
   "metadata": {},
   "outputs": [
    {
     "name": "stdout",
     "output_type": "stream",
     "text": [
      "(160,)\n",
      "(160,)\n"
     ]
    }
   ],
   "source": [
    "Yhat= model.predict (X).flatten()\n",
    "print (Yhat.shape)\n",
    "print(y.shape) # Predicted op in 1D format"
   ]
  },
  {
   "cell_type": "code",
   "execution_count": 76,
   "metadata": {},
   "outputs": [
    {
     "data": {
      "image/png": "[encoded data removed]",
      "text/plain": [
       "<Figure size 432x288 with 1 Axes>"
      ]
     },
     "metadata": {
      "needs_background": "light"
     },
     "output_type": "display_data"
    }
   ],
   "source": [
    "plt.scatter (X,y, color = 'b')\n",
    "plt.scatter (X, Yhat, color = 'r')\n",
    "plt.show()"
   ]
  },
  {
   "cell_type": "markdown",
   "metadata": {},
   "source": [
    "Observation:\n",
    "\n",
    "As expected, the line passes through the data points. therefore, here we have again confirmed the Moore's Law is true. Lets go ahead: Now, let us check whether the Dense layer does the Linear transformation as expected i.e. y=wx+b\n",
    "\n",
    "So lets calculate the predictions manually and check if our predictions equal to the predictions we got using model predict().\n"
   ]
  },
  {
   "cell_type": "code",
   "execution_count": 80,
   "metadata": {},
   "outputs": [
    {
     "data": {
      "text/plain": [
       "True"
      ]
     },
     "execution_count": 80,
     "metadata": {},
     "output_type": "execute_result"
    }
   ],
   "source": [
    "# Manual Calculation\n",
    "# Get the weights\n",
    "\n",
    "w, b = model.layers[0].get_weights()\n",
    "\n",
    "# Reshape X because we flattened it earlier.\n",
    "\n",
    "X=X.reshape(-1,1)\n",
    "\n",
    "# (N = 1) = (1 x 1) + (1) --> (Nx 1) \n",
    "Yhat2= (X.dot(w) + b).flatten()\n",
    "# Now we need to check if that is equal to that,\n",
    "np.allclose (Yhat, Yhat2)\n",
    "#allclose() is a numpy function that automatically checks the difference between Yhat and Yhat2 and tells a \n",
    "#us whether they are same or not using a boolean True or False"
   ]
  },
  {
   "cell_type": "code",
   "execution_count": null,
   "metadata": {},
   "outputs": [],
   "source": []
  }
 ],
 "metadata": {
  "kernelspec": {
   "display_name": "Python 3",
   "language": "python",
   "name": "python3"
  },
  "language_info": {
   "codemirror_mode": {
    "name": "ipython",
    "version": 3
   },
   "file_extension": ".py",
   "mimetype": "text/x-python",
   "name": "python",
   "nbconvert_exporter": "python",
   "pygments_lexer": "ipython3",
   "version": "3.7.6"
  }
 },
 "nbformat": 4,
 "nbformat_minor": 4
}
