{
 "cells": [
  {
   "cell_type": "markdown",
   "metadata": {},
   "source": [
    "## We will Prove Moore's Law in the Session"
   ]
  },
  {
   "cell_type": "markdown",
   "metadata": {},
   "source": [
    "***What is Moore's Law:***\n",
    "Moore's law is a term used to refer to the observation made by Gordon Moore in 1965 that the number of transistors in a dense integrated circuit (IC) doubles about every two years."
   ]
  },
  {
   "cell_type": "code",
   "execution_count": 5,
   "metadata": {},
   "outputs": [],
   "source": [
    "#Uploading files on Google Colab\n",
    "#from google.colab import files\n",
    "#uploaded = files.upload()'''"
   ]
  },
  {
   "cell_type": "code",
   "execution_count": 9,
   "metadata": {},
   "outputs": [],
   "source": [
    "import tensorflow as tf\n",
    "import numpy as np \n",
    "import matplotlib.pyplot as plt \n",
    "import seaborn as sns\n",
    "import pandas as pd"
   ]
  },
  {
   "cell_type": "code",
   "execution_count": 50,
   "metadata": {},
   "outputs": [],
   "source": [
    "df= pd.read_csv(\"https://raw.githubusercontent.com/venkatshan707/Deep_Learning_Notebooks_Python/main/Untitled%20Folder/moores%20law%20data%20set.csv\")\n",
    "df.to_csv(\"moores law data set.csv\", index = False, header = False)\n",
    "df= pd.read_csv(\"moores law data set.csv\", header = None).values"
   ]
  },
  {
   "cell_type": "code",
   "execution_count": 52,
   "metadata": {},
   "outputs": [
    {
     "data": {
      "text/plain": [
       "array([[       1972,        3500],\n",
       "       [       1973,        2500],\n",
       "       [       1973,        2500],\n",
       "       [       1974,        4100],\n",
       "       [       1974,        4500],\n",
       "       [       1974,        8000],\n",
       "       [       1975,        3510],\n",
       "       [       1976,        5000],\n",
       "       [       1976,        8500],\n",
       "       [       1976,        6500],\n",
       "       [       1978,        9000],\n",
       "       [       1978,       29000],\n",
       "       [       1979,       17500],\n",
       "       [       1979,       29000],\n",
       "       [       1979,       68000],\n",
       "       [       1981,       11500],\n",
       "       [       1982,       55000],\n",
       "       [       1982,      134000],\n",
       "       [       1983,       22000],\n",
       "       [       1984,       63000],\n",
       "       [       1984,      190000],\n",
       "       [       1985,      275000],\n",
       "       [       1985,       25000],\n",
       "       [       1985,       16000],\n",
       "       [       1986,      110000],\n",
       "       [       1986,      375000],\n",
       "       [       1986,       30000],\n",
       "       [       1987,      385000],\n",
       "       [       1987,      730000],\n",
       "       [       1987,      273000],\n",
       "       [       1987,      553000],\n",
       "       [       1988,      180000],\n",
       "       [       1988,      250000],\n",
       "       [       1989,      600000],\n",
       "       [       1989,     1000000],\n",
       "       [       1989,     1180235],\n",
       "       [       1989,      310000],\n",
       "       [       1990,     1200000],\n",
       "       [       1991,     1350000],\n",
       "       [       1991,       35000],\n",
       "       [       1992,      600000],\n",
       "       [       1992,      900000],\n",
       "       [       1993,     2800000],\n",
       "       [       1993,     3100000],\n",
       "       [       1994,      578977],\n",
       "       [       1994,     2500000],\n",
       "       [       1995,     2500000],\n",
       "       [       1999,      111000],\n",
       "       [       1995,     5500000],\n",
       "       [       1996,     4300000],\n",
       "       [       1997,    10000000],\n",
       "       [       1997,     7500000],\n",
       "       [       1997,     8800000],\n",
       "       [       1998,     7500000],\n",
       "       [       1999,     9500000],\n",
       "       [       1999,    13500000],\n",
       "       [       2000,    21000000],\n",
       "       [       2000,    21000000],\n",
       "       [       1999,    27400000],\n",
       "       [       1999,    21300000],\n",
       "       [       1999,    22000000],\n",
       "       [       2000,    42000000],\n",
       "       [       2001,   191000000],\n",
       "       [       2001,    45000000],\n",
       "       [       2002,    55000000],\n",
       "       [       2004,   112000000],\n",
       "       [       2004,   400000000],\n",
       "       [       2005,   169000000],\n",
       "       [       2006,   184000000],\n",
       "       [       2005,   228000000],\n",
       "       [       2006,   362000000],\n",
       "       [       2007,   540000000],\n",
       "       [       2008,    47000000],\n",
       "       [       2003,    54300000],\n",
       "       [       2003,   105900000],\n",
       "       [       2002,   220000000],\n",
       "       [       2005,   165000000],\n",
       "       [       2005,   250000000],\n",
       "       [       2006,   291000000],\n",
       "       [       2007,   169000000],\n",
       "       [       2003,   410000000],\n",
       "       [       2008,   600000000],\n",
       "       [       2009,   760000000],\n",
       "       [       2011,  1870000000],\n",
       "       [       2012,   432000000],\n",
       "       [       2007,   463000000],\n",
       "       [       2007,    26000000],\n",
       "       [       2008,   230000000],\n",
       "       [       2004,   592000000],\n",
       "       [       2007,   411000000],\n",
       "       [       2008,   731000000],\n",
       "       [       2008,   758000000],\n",
       "       [       2007,   789000000],\n",
       "       [       2009,   904000000],\n",
       "       [       2010,  1000000000],\n",
       "       [       2012,  2990000000],\n",
       "       [       2013,  1000000000],\n",
       "       [       2011,  1160000000],\n",
       "       [       2010,  1170000000],\n",
       "       [       2010,  1200000000],\n",
       "       [       2012,  1200000000],\n",
       "       [       2012,  1303000000],\n",
       "       [       2010,  1400000000],\n",
       "       [       2012,  1400000000],\n",
       "       [       2014,  1400000000],\n",
       "       [       2006,  1700000000],\n",
       "       [       2015,  1750000000],\n",
       "       [       2013,  1860000000],\n",
       "       [       2015,  1900000000],\n",
       "       [       2008,  1900000000],\n",
       "       [       2010,  2000000000],\n",
       "       [       2014,  2000000000],\n",
       "       [       2015,  2000000000],\n",
       "       [       2015,  3000000000],\n",
       "       [       2012,  2100000000],\n",
       "       [       2011,  2270000000],\n",
       "       [       2010,  2300000000],\n",
       "       [       2014,  2600000000],\n",
       "       [       2011,  2600000000],\n",
       "       [       2012,  2750000000],\n",
       "       [       2014,  3000000000],\n",
       "       [       2016,  3000000000],\n",
       "       [       2017,  5300000000],\n",
       "       [       2017,  5300000000],\n",
       "       [       2018,  8500000000],\n",
       "       [       2012,  3100000000],\n",
       "       [       2016,  3200000000],\n",
       "       [       2016,  3300000000],\n",
       "       [       2015,  3990000000],\n",
       "       [       2013,  4200000000],\n",
       "       [       2017,  4300000000],\n",
       "       [       2014,  4310000000],\n",
       "       [       2017,  4800000000],\n",
       "       [       2017,  4800000000],\n",
       "       [       2017,  4800000000],\n",
       "       [       2012,  5000000000],\n",
       "       [       2013,  5000000000],\n",
       "       [       2014,  5560000000],\n",
       "       [       2017,  6100000000],\n",
       "       [       2018,  6900000000],\n",
       "       [       2016,  4000000000],\n",
       "       [       2018,  6900000000],\n",
       "       [       2017,  5500000000],\n",
       "       [       2018,  5500000000],\n",
       "       [       2017,  7000000000],\n",
       "       [       2015,  7100000000],\n",
       "       [       2017,  8000000000],\n",
       "       [       2016,  7200000000],\n",
       "       [       2017,  8000000000],\n",
       "       [       2016,  8000000000],\n",
       "       [       2017,  9700000000],\n",
       "       [       2017,   250000000],\n",
       "       [       2015, 10000000000],\n",
       "       [       2017,  5450000000],\n",
       "       [       2018, 10000000000],\n",
       "       [       2017,  4300000000],\n",
       "       [       2017, 18000000000],\n",
       "       [       2017, 19200000000],\n",
       "       [       2018,  8876000000],\n",
       "       [       2018, 23600000000],\n",
       "       [       2018,  9000000000]], dtype=int64)"
      ]
     },
     "execution_count": 52,
     "metadata": {},
     "output_type": "execute_result"
    }
   ],
   "source": [
    "df"
   ]
  },
  {
   "cell_type": "code",
   "execution_count": 53,
   "metadata": {},
   "outputs": [
    {
     "data": {
      "text/plain": [
       "(161, 2)"
      ]
     },
     "execution_count": 53,
     "metadata": {},
     "output_type": "execute_result"
    }
   ],
   "source": [
    "df.shape"
   ]
  },
  {
   "cell_type": "code",
   "execution_count": 54,
   "metadata": {},
   "outputs": [
    {
     "name": "stdout",
     "output_type": "stream",
     "text": [
      "<class 'numpy.ndarray'>\n"
     ]
    }
   ],
   "source": [
    "print(type (df))"
   ]
  },
  {
   "cell_type": "code",
   "execution_count": 57,
   "metadata": {},
   "outputs": [],
   "source": [
    "X = df[:,0]"
   ]
  },
  {
   "cell_type": "code",
   "execution_count": 58,
   "metadata": {},
   "outputs": [
    {
     "data": {
      "text/plain": [
       "(161,)"
      ]
     },
     "execution_count": 58,
     "metadata": {},
     "output_type": "execute_result"
    }
   ],
   "source": [
    "X.shape"
   ]
  },
  {
   "cell_type": "code",
   "execution_count": 59,
   "metadata": {},
   "outputs": [
    {
     "data": {
      "text/plain": [
       "array([1972, 1973, 1973, 1974, 1974, 1974, 1975, 1976, 1976, 1976, 1978,\n",
       "       1978, 1979, 1979, 1979, 1981, 1982, 1982, 1983, 1984, 1984, 1985,\n",
       "       1985, 1985, 1986, 1986, 1986, 1987, 1987, 1987, 1987, 1988, 1988,\n",
       "       1989, 1989, 1989, 1989, 1990, 1991, 1991, 1992, 1992, 1993, 1993,\n",
       "       1994, 1994, 1995, 1999, 1995, 1996, 1997, 1997, 1997, 1998, 1999,\n",
       "       1999, 2000, 2000, 1999, 1999, 1999, 2000, 2001, 2001, 2002, 2004,\n",
       "       2004, 2005, 2006, 2005, 2006, 2007, 2008, 2003, 2003, 2002, 2005,\n",
       "       2005, 2006, 2007, 2003, 2008, 2009, 2011, 2012, 2007, 2007, 2008,\n",
       "       2004, 2007, 2008, 2008, 2007, 2009, 2010, 2012, 2013, 2011, 2010,\n",
       "       2010, 2012, 2012, 2010, 2012, 2014, 2006, 2015, 2013, 2015, 2008,\n",
       "       2010, 2014, 2015, 2015, 2012, 2011, 2010, 2014, 2011, 2012, 2014,\n",
       "       2016, 2017, 2017, 2018, 2012, 2016, 2016, 2015, 2013, 2017, 2014,\n",
       "       2017, 2017, 2017, 2012, 2013, 2014, 2017, 2018, 2016, 2018, 2017,\n",
       "       2018, 2017, 2015, 2017, 2016, 2017, 2016, 2017, 2017, 2015, 2017,\n",
       "       2018, 2017, 2017, 2017, 2018, 2018, 2018], dtype=int64)"
      ]
     },
     "execution_count": 59,
     "metadata": {},
     "output_type": "execute_result"
    }
   ],
   "source": [
    "X"
   ]
  },
  {
   "cell_type": "markdown",
   "metadata": {},
   "source": [
    "Adove the X is 1D Array. We have to make it as 2D array. As we need data in the format of NxD. Where D = 1.\n",
    "Why 2D format?. Tensorflow expects data in 2D format."
   ]
  },
  {
   "cell_type": "code",
   "execution_count": 61,
   "metadata": {},
   "outputs": [],
   "source": [
    "X= df[:,0].reshape(-1,1)"
   ]
  },
  {
   "cell_type": "code",
   "execution_count": 63,
   "metadata": {},
   "outputs": [
    {
     "data": {
      "text/plain": [
       "(161, 1)"
      ]
     },
     "execution_count": 63,
     "metadata": {},
     "output_type": "execute_result"
    }
   ],
   "source": [
    "X.shape"
   ]
  },
  {
   "cell_type": "code",
   "execution_count": 75,
   "metadata": {},
   "outputs": [
    {
     "data": {
      "text/plain": [
       "array([[1972],\n",
       "       [1973],\n",
       "       [1973],\n",
       "       [1974],\n",
       "       [1974],\n",
       "       [1974],\n",
       "       [1975],\n",
       "       [1976],\n",
       "       [1976],\n",
       "       [1976],\n",
       "       [1978],\n",
       "       [1978],\n",
       "       [1979],\n",
       "       [1979],\n",
       "       [1979],\n",
       "       [1981],\n",
       "       [1982],\n",
       "       [1982],\n",
       "       [1983],\n",
       "       [1984],\n",
       "       [1984],\n",
       "       [1985],\n",
       "       [1985],\n",
       "       [1985],\n",
       "       [1986],\n",
       "       [1986],\n",
       "       [1986],\n",
       "       [1987],\n",
       "       [1987],\n",
       "       [1987],\n",
       "       [1987],\n",
       "       [1988],\n",
       "       [1988],\n",
       "       [1989],\n",
       "       [1989],\n",
       "       [1989],\n",
       "       [1989],\n",
       "       [1990],\n",
       "       [1991],\n",
       "       [1991],\n",
       "       [1992],\n",
       "       [1992],\n",
       "       [1993],\n",
       "       [1993],\n",
       "       [1994],\n",
       "       [1994],\n",
       "       [1995],\n",
       "       [1999],\n",
       "       [1995],\n",
       "       [1996],\n",
       "       [1997],\n",
       "       [1997],\n",
       "       [1997],\n",
       "       [1998],\n",
       "       [1999],\n",
       "       [1999],\n",
       "       [2000],\n",
       "       [2000],\n",
       "       [1999],\n",
       "       [1999],\n",
       "       [1999],\n",
       "       [2000],\n",
       "       [2001],\n",
       "       [2001],\n",
       "       [2002],\n",
       "       [2004],\n",
       "       [2004],\n",
       "       [2005],\n",
       "       [2006],\n",
       "       [2005],\n",
       "       [2006],\n",
       "       [2007],\n",
       "       [2008],\n",
       "       [2003],\n",
       "       [2003],\n",
       "       [2002],\n",
       "       [2005],\n",
       "       [2005],\n",
       "       [2006],\n",
       "       [2007],\n",
       "       [2003],\n",
       "       [2008],\n",
       "       [2009],\n",
       "       [2011],\n",
       "       [2012],\n",
       "       [2007],\n",
       "       [2007],\n",
       "       [2008],\n",
       "       [2004],\n",
       "       [2007],\n",
       "       [2008],\n",
       "       [2008],\n",
       "       [2007],\n",
       "       [2009],\n",
       "       [2010],\n",
       "       [2012],\n",
       "       [2013],\n",
       "       [2011],\n",
       "       [2010],\n",
       "       [2010],\n",
       "       [2012],\n",
       "       [2012],\n",
       "       [2010],\n",
       "       [2012],\n",
       "       [2014],\n",
       "       [2006],\n",
       "       [2015],\n",
       "       [2013],\n",
       "       [2015],\n",
       "       [2008],\n",
       "       [2010],\n",
       "       [2014],\n",
       "       [2015],\n",
       "       [2015],\n",
       "       [2012],\n",
       "       [2011],\n",
       "       [2010],\n",
       "       [2014],\n",
       "       [2011],\n",
       "       [2012],\n",
       "       [2014],\n",
       "       [2016],\n",
       "       [2017],\n",
       "       [2017],\n",
       "       [2018],\n",
       "       [2012],\n",
       "       [2016],\n",
       "       [2016],\n",
       "       [2015],\n",
       "       [2013],\n",
       "       [2017],\n",
       "       [2014],\n",
       "       [2017],\n",
       "       [2017],\n",
       "       [2017],\n",
       "       [2012],\n",
       "       [2013],\n",
       "       [2014],\n",
       "       [2017],\n",
       "       [2018],\n",
       "       [2016],\n",
       "       [2018],\n",
       "       [2017],\n",
       "       [2018],\n",
       "       [2017],\n",
       "       [2015],\n",
       "       [2017],\n",
       "       [2016],\n",
       "       [2017],\n",
       "       [2016],\n",
       "       [2017],\n",
       "       [2017],\n",
       "       [2015],\n",
       "       [2017],\n",
       "       [2018],\n",
       "       [2017],\n",
       "       [2017],\n",
       "       [2017],\n",
       "       [2018],\n",
       "       [2018],\n",
       "       [2018]], dtype=int64)"
      ]
     },
     "execution_count": 75,
     "metadata": {},
     "output_type": "execute_result"
    }
   ],
   "source": [
    "# And X now looks like \n",
    "X"
   ]
  },
  {
   "cell_type": "code",
   "execution_count": 69,
   "metadata": {},
   "outputs": [],
   "source": [
    "y= df[:, 1]"
   ]
  },
  {
   "cell_type": "code",
   "execution_count": 72,
   "metadata": {},
   "outputs": [
    {
     "data": {
      "text/plain": [
       "(161,)"
      ]
     },
     "execution_count": 72,
     "metadata": {},
     "output_type": "execute_result"
    }
   ],
   "source": [
    "y.shape # We could see y also 1D. We have to convert it as 2D"
   ]
  },
  {
   "cell_type": "code",
   "execution_count": 73,
   "metadata": {},
   "outputs": [],
   "source": [
    "y= df[:,1].reshape(-1,1)"
   ]
  },
  {
   "cell_type": "code",
   "execution_count": 74,
   "metadata": {},
   "outputs": [
    {
     "data": {
      "text/plain": [
       "(161, 1)"
      ]
     },
     "execution_count": 74,
     "metadata": {},
     "output_type": "execute_result"
    }
   ],
   "source": [
    "y.shape"
   ]
  },
  {
   "cell_type": "code",
   "execution_count": 77,
   "metadata": {},
   "outputs": [
    {
     "data": {
      "text/plain": [
       "<matplotlib.collections.PathCollection at 0x202dd70bfc8>"
      ]
     },
     "execution_count": 77,
     "metadata": {},
     "output_type": "execute_result"
    },
    {
     "data": {
      "image/png": "[encoded data removed]",
      "text/plain": [
       "<Figure size 432x288 with 1 Axes>"
      ]
     },
     "metadata": {
      "needs_background": "light"
     },
     "output_type": "display_data"
    }
   ],
   "source": [
    "# Plotting the data to know whether it's having Exponential Relationship or not\n",
    "plt.scatter(X,y)"
   ]
  },
  {
   "cell_type": "code",
   "execution_count": 81,
   "metadata": {},
   "outputs": [
    {
     "data": {
      "text/plain": [
       "<matplotlib.collections.PathCollection at 0x202df86b208>"
      ]
     },
     "execution_count": 81,
     "metadata": {},
     "output_type": "execute_result"
    },
    {
     "data": {
      "image/png": "[encoded data removed]",
      "text/plain": [
       "<Figure size 432x288 with 1 Axes>"
      ]
     },
     "metadata": {
      "needs_background": "light"
     },
     "output_type": "display_data"
    }
   ],
   "source": [
    "#We are going to look this as a liner realtionship with the help of the \"log\" on y\n",
    "y =np.log(y)\n",
    "plt.scatter (X, y)"
   ]
  },
  {
   "cell_type": "markdown",
   "metadata": {},
   "source": [
    "Now our data is a good Candiate for Linear Relationship"
   ]
  },
  {
   "cell_type": "code",
   "execution_count": 83,
   "metadata": {},
   "outputs": [],
   "source": [
    "#Preprocessing on X\n",
    "#Why Because we are having year value from 1970 - 2020 and which is not scaled/centered around 0.\n",
    "#So, we are going to centre those values around zero.\n",
    "X= X- X.mean() # Centered around Mean value"
   ]
  },
  {
   "cell_type": "code",
   "execution_count": 84,
   "metadata": {},
   "outputs": [
    {
     "data": {
      "text/plain": [
       "array([[-30.39130435],\n",
       "       [-29.39130435],\n",
       "       [-29.39130435],\n",
       "       [-28.39130435],\n",
       "       [-28.39130435],\n",
       "       [-28.39130435],\n",
       "       [-27.39130435],\n",
       "       [-26.39130435],\n",
       "       [-26.39130435],\n",
       "       [-26.39130435],\n",
       "       [-24.39130435],\n",
       "       [-24.39130435],\n",
       "       [-23.39130435],\n",
       "       [-23.39130435],\n",
       "       [-23.39130435],\n",
       "       [-21.39130435],\n",
       "       [-20.39130435],\n",
       "       [-20.39130435],\n",
       "       [-19.39130435],\n",
       "       [-18.39130435],\n",
       "       [-18.39130435],\n",
       "       [-17.39130435],\n",
       "       [-17.39130435],\n",
       "       [-17.39130435],\n",
       "       [-16.39130435],\n",
       "       [-16.39130435],\n",
       "       [-16.39130435],\n",
       "       [-15.39130435],\n",
       "       [-15.39130435],\n",
       "       [-15.39130435],\n",
       "       [-15.39130435],\n",
       "       [-14.39130435],\n",
       "       [-14.39130435],\n",
       "       [-13.39130435],\n",
       "       [-13.39130435],\n",
       "       [-13.39130435],\n",
       "       [-13.39130435],\n",
       "       [-12.39130435],\n",
       "       [-11.39130435],\n",
       "       [-11.39130435],\n",
       "       [-10.39130435],\n",
       "       [-10.39130435],\n",
       "       [ -9.39130435],\n",
       "       [ -9.39130435],\n",
       "       [ -8.39130435],\n",
       "       [ -8.39130435],\n",
       "       [ -7.39130435],\n",
       "       [ -3.39130435],\n",
       "       [ -7.39130435],\n",
       "       [ -6.39130435],\n",
       "       [ -5.39130435],\n",
       "       [ -5.39130435],\n",
       "       [ -5.39130435],\n",
       "       [ -4.39130435],\n",
       "       [ -3.39130435],\n",
       "       [ -3.39130435],\n",
       "       [ -2.39130435],\n",
       "       [ -2.39130435],\n",
       "       [ -3.39130435],\n",
       "       [ -3.39130435],\n",
       "       [ -3.39130435],\n",
       "       [ -2.39130435],\n",
       "       [ -1.39130435],\n",
       "       [ -1.39130435],\n",
       "       [ -0.39130435],\n",
       "       [  1.60869565],\n",
       "       [  1.60869565],\n",
       "       [  2.60869565],\n",
       "       [  3.60869565],\n",
       "       [  2.60869565],\n",
       "       [  3.60869565],\n",
       "       [  4.60869565],\n",
       "       [  5.60869565],\n",
       "       [  0.60869565],\n",
       "       [  0.60869565],\n",
       "       [ -0.39130435],\n",
       "       [  2.60869565],\n",
       "       [  2.60869565],\n",
       "       [  3.60869565],\n",
       "       [  4.60869565],\n",
       "       [  0.60869565],\n",
       "       [  5.60869565],\n",
       "       [  6.60869565],\n",
       "       [  8.60869565],\n",
       "       [  9.60869565],\n",
       "       [  4.60869565],\n",
       "       [  4.60869565],\n",
       "       [  5.60869565],\n",
       "       [  1.60869565],\n",
       "       [  4.60869565],\n",
       "       [  5.60869565],\n",
       "       [  5.60869565],\n",
       "       [  4.60869565],\n",
       "       [  6.60869565],\n",
       "       [  7.60869565],\n",
       "       [  9.60869565],\n",
       "       [ 10.60869565],\n",
       "       [  8.60869565],\n",
       "       [  7.60869565],\n",
       "       [  7.60869565],\n",
       "       [  9.60869565],\n",
       "       [  9.60869565],\n",
       "       [  7.60869565],\n",
       "       [  9.60869565],\n",
       "       [ 11.60869565],\n",
       "       [  3.60869565],\n",
       "       [ 12.60869565],\n",
       "       [ 10.60869565],\n",
       "       [ 12.60869565],\n",
       "       [  5.60869565],\n",
       "       [  7.60869565],\n",
       "       [ 11.60869565],\n",
       "       [ 12.60869565],\n",
       "       [ 12.60869565],\n",
       "       [  9.60869565],\n",
       "       [  8.60869565],\n",
       "       [  7.60869565],\n",
       "       [ 11.60869565],\n",
       "       [  8.60869565],\n",
       "       [  9.60869565],\n",
       "       [ 11.60869565],\n",
       "       [ 13.60869565],\n",
       "       [ 14.60869565],\n",
       "       [ 14.60869565],\n",
       "       [ 15.60869565],\n",
       "       [  9.60869565],\n",
       "       [ 13.60869565],\n",
       "       [ 13.60869565],\n",
       "       [ 12.60869565],\n",
       "       [ 10.60869565],\n",
       "       [ 14.60869565],\n",
       "       [ 11.60869565],\n",
       "       [ 14.60869565],\n",
       "       [ 14.60869565],\n",
       "       [ 14.60869565],\n",
       "       [  9.60869565],\n",
       "       [ 10.60869565],\n",
       "       [ 11.60869565],\n",
       "       [ 14.60869565],\n",
       "       [ 15.60869565],\n",
       "       [ 13.60869565],\n",
       "       [ 15.60869565],\n",
       "       [ 14.60869565],\n",
       "       [ 15.60869565],\n",
       "       [ 14.60869565],\n",
       "       [ 12.60869565],\n",
       "       [ 14.60869565],\n",
       "       [ 13.60869565],\n",
       "       [ 14.60869565],\n",
       "       [ 13.60869565],\n",
       "       [ 14.60869565],\n",
       "       [ 14.60869565],\n",
       "       [ 12.60869565],\n",
       "       [ 14.60869565],\n",
       "       [ 15.60869565],\n",
       "       [ 14.60869565],\n",
       "       [ 14.60869565],\n",
       "       [ 14.60869565],\n",
       "       [ 15.60869565],\n",
       "       [ 15.60869565],\n",
       "       [ 15.60869565]])"
      ]
     },
     "execution_count": 84,
     "metadata": {},
     "output_type": "execute_result"
    }
   ],
   "source": [
    "X"
   ]
  },
  {
   "cell_type": "code",
   "execution_count": 85,
   "metadata": {},
   "outputs": [
    {
     "data": {
      "text/plain": [
       "<matplotlib.collections.PathCollection at 0x202df8d4b48>"
      ]
     },
     "execution_count": 85,
     "metadata": {},
     "output_type": "execute_result"
    },
    {
     "data": {
      "image/png": "[encoded data removed]",
      "text/plain": [
       "<Figure size 432x288 with 1 Axes>"
      ]
     },
     "metadata": {
      "needs_background": "light"
     },
     "output_type": "display_data"
    }
   ],
   "source": [
    "plt.scatter (X, y)"
   ]
  },
  {
   "cell_type": "markdown",
   "metadata": {},
   "source": [
    "Unlike Logistic Regression, where we were doing classification, we dont need to map 'Y' to a number between 0 and 1.\n",
    "\n",
    "In Linear Regression, the target can be any real number. Hence, we dont use any Activation Function.\n",
    "\n",
    "Therefore, in Keras, we do use a Dense layer but we pass Activation=None or we can simply omit the argument.\n",
    "\n",
    "Note: Activation-None is the default value."
   ]
  },
  {
   "cell_type": "code",
   "execution_count": 89,
   "metadata": {},
   "outputs": [],
   "source": [
    "# Craeting Tensorflow model\n",
    "\n",
    "model = tf.keras.models.Sequential([\n",
    "    tf.keras.layers.Input (shape = (1, )),\n",
    "    tf.keras.layers.Dense(1)\n",
    "])"
   ]
  }
 ],
 "metadata": {
  "kernelspec": {
   "display_name": "Python 3",
   "language": "python",
   "name": "python3"
  },
  "language_info": {
   "codemirror_mode": {
    "name": "ipython",
    "version": 3
   },
   "file_extension": ".py",
   "mimetype": "text/x-python",
   "name": "python",
   "nbconvert_exporter": "python",
   "pygments_lexer": "ipython3",
   "version": "3.7.6"
  }
 },
 "nbformat": 4,
 "nbformat_minor": 4
}
