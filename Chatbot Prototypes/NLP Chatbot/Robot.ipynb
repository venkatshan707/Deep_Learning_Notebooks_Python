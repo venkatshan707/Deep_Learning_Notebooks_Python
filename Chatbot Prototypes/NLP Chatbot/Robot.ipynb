{
  "nbformat": 4,
  "nbformat_minor": 0,
  "metadata": {
    "colab": {
      "provenance": [],
      "collapsed_sections": []
    },
    "kernelspec": {
      "name": "python3",
      "display_name": "Python 3"
    },
    "language_info": {
      "name": "python"
    }
  },
  "cells": [
    {
      "cell_type": "code",
      "execution_count": null,
      "metadata": {
        "id": "l-n-JGyCC1At"
      },
      "outputs": [],
      "source": [
        "import numpy as np\n",
        "import nltk\n",
        "import string\n",
        "import random"
      ]
    },
    {
      "cell_type": "code",
      "source": [
        "f = open('/content/data.txt', 'r',errors = 'ignore') \n",
        "raw_doc= f.read"
      ],
      "metadata": {
        "id": "1RwbMt6hDf4S"
      },
      "execution_count": null,
      "outputs": []
    },
    {
      "cell_type": "code",
      "source": [
        "raw_doc = raw_doc.lower() #Converting entire text to lowercase \n",
        "nltk.download('punkt') #Using the Punkt tokenizer \n",
        "nltk.download('wordnet') #Using the wordnet dictionary nltk.download('omw-1.4')\n",
        "nltk.download('omw-1.4')\n",
        "sentence_tokens = nltk.sent_tokenize(raw_doc) \n",
        "word_tokens = nltk.word_tokenize(raw_doc)"
      ],
      "metadata": {
        "colab": {
          "base_uri": "https://localhost:8080/"
        },
        "id": "VeM4EPcbHa_M",
        "outputId": "5082de76-67ff-48c7-a950-65259ea96061"
      },
      "execution_count": null,
      "outputs": [
        {
          "output_type": "stream",
          "name": "stderr",
          "text": [
            "[nltk_data] Downloading package punkt to /root/nltk_data...\n",
            "[nltk_data]   Package punkt is already up-to-date!\n",
            "[nltk_data] Downloading package wordnet to /root/nltk_data...\n",
            "[nltk_data]   Package wordnet is already up-to-date!\n",
            "[nltk_data] Downloading package omw-1.4 to /root/nltk_data...\n"
          ]
        }
      ]
    },
    {
      "cell_type": "code",
      "source": [
        "raw_doc"
      ],
      "metadata": {
        "colab": {
          "base_uri": "https://localhost:8080/",
          "height": 174
        },
        "id": "9TFP7qzgH1Cf",
        "outputId": "8023c79c-5ea6-48a3-f0f0-9ca1cab70c81"
      },
      "execution_count": null,
      "outputs": [
        {
          "output_type": "execute_result",
          "data": {
            "text/plain": [
              "'chatbot\\nfrom wikipedia, the free encyclopedia\\njump to navigationjump to search\\nfor other uses, see chatbot (disambiguation).\\n\\na virtual assistant chatbot\\n\\nthe 1966 eliza chatbot\\na chatbot or chatterbot is a software application used to conduct an on-line chat conversation via text or text-to-speech, in lieu of providing direct contact with a live human agent.[1][2] a chatbot is a type of software that can help customers by automating conversations and interact with them through messaging platforms.[3] designed to convincingly simulate the way a human would behave as a conversational partner, chatbot systems typically require continuous tuning and testing, and many in production remain unable to adequately converse, while none of them can pass the standard turing test.[4] the term \"chatterbot\" was originally coined by michael mauldin (creator of the first verbot) in 1994 to describe these conversational programs.[5]\\n\\nchatbots are used in dialog systems for various purposes including customer service, request routing, or information gathering. while some chatbot applications use extensive word-classification processes, natural-language processors, and sophisticated ai, others simply scan for general keywords and generate responses using common phrases obtained from an associated library or database.\\n\\nmost chatbots are accessed on-line via website popups or through virtual assistants. they can be classified into usage categories that include: commerce (e-commerce via chat), education, entertainment, finance, health, news, and productivity.[6]\\n\\n\\ncontents\\n1\\tbackground\\n2\\tdevelopment\\n3\\tapplication\\n3.1\\tmessaging apps\\n3.1.1\\tas part of company apps and websites\\n3.1.2\\tchatbot sequences\\n3.2\\tcompany internal platforms\\n3.3\\tcustomer service\\n3.4\\thealthcare\\n3.5\\tpolitics\\n3.6\\ttoys\\n3.7\\tmalicious use\\n4\\tlimitations of chatbots\\n5\\tchatbots and jobs\\n6\\tsee also\\n7\\treferences\\n7.1\\tbibliography\\n8\\tfurther reading\\nbackground\\nin 1950, alan turing\\'s famous article \"computing machinery and intelligence\" was published,[7] which proposed what is now called the turing test as a criterion of intelligence. this criterion depends on the ability of a computer program to impersonate a human in a real-time written conversation with a human judge to the extent that the judge is unable to distinguish reliably—on the basis of the conversational content alone—between the program and a real human. the notoriety of turing\\'s proposed test stimulated great interest in joseph weizenbaum\\'s program eliza, published in 1966, which seemed to be able to fool users into believing that they were conversing with a real human. however weizenbaum himself did not claim that eliza was genuinely intelligent, and the introduction to his paper presented it more as a debunking exercise:\\n\\n[in] artificial intelligence ... machines are made to behave in wondrous ways, often sufficient to dazzle even the most experienced observer. but once a particular program is unmasked, once its inner workings are explained ... its magic crumbles away; it stands revealed as a mere collection of procedures ... the observer says to himself \"i could have written that\". with that thought, he moves the program in question from the shelf marked \"intelligent\", to that reserved for curios ... the object of this paper is to cause just such a re-evaluation of the program about to be \"explained\". few programs ever needed it more.[8]\\n\\neliza\\'s key method of operation (copied by chatbot designers ever since) involves the recognition of clue words or phrases in the input, and the output of the corresponding pre-prepared or pre-programmed responses that can move the conversation forward in an apparently meaningful way (e.g. by responding to any input that contains the word \\'mother\\' with \\'tell me more about your family\\').[9] thus an illusion of understanding is generated, even though the processing involved has been merely superficial. eliza showed that such an illusion is surprisingly easy to generate because human judges are so ready to give the benefit of the doubt when conversational responses are capable of being interpreted as \"intelligent\".\\n\\ninterface designers have come to appreciate that humans\\' readiness to interpret computer output as genuinely conversational—even when it is actually based on rather simple pattern-matching—can be exploited for useful purposes. most people prefer to engage with programs that are human-like, and this gives chatbot-style techniques a potentially useful role in interactive systems that need to elicit information from users, as long as that information is relatively straightforward and falls into predictable categories. thus, for example, online help systems can usefully employ chatbot techniques to identify the area of help that users require, potentially providing a \"friendlier\" interface than a more formal search or menu system. this sort of usage holds the prospect of moving chatbot technology from weizenbaum\\'s \"shelf ... reserved for curios\" to that marked \"genuinely useful computational methods\".\\n\\ndevelopment\\namong the most notable early chatbots are eliza (1966) and parry (1972).[10][11][12][13] more recent notable programs include a.l.i.c.e., jabberwacky and d.u.d.e (agence nationale de la recherche and cnrs 2006). while eliza and parry were used exclusively to simulate typed conversation, many chatbots now include other functional features, such as games and web searching abilities. in 1984, a book called the policeman\\'s beard is half constructed was published, allegedly written by the chatbot racter (though the program as released would not have been capable of doing so).[14]\\n\\none pertinent field of ai research is natural-language processing. usually, weak ai fields employ specialized software or programming languages created specifically for the narrow function required. for example, a.l.i.c.e. uses a markup language called aiml,[2] which is specific to its function as a conversational agent, and has since been adopted by various other developers of, so-called, alicebots. nevertheless, a.l.i.c.e. is still purely based on pattern matching techniques without any reasoning capabilities, the same technique eliza was using back in 1966. this is not strong ai, which would require sapience and logical reasoning abilities.\\n\\njabberwacky learns new responses and context based on real-time user interactions, rather than being driven from a static database. some more recent chatbots also combine real-time learning with evolutionary algorithms that optimize their ability to communicate based on each conversation held. still, there is currently no general purpose conversational artificial intelligence, and some software developers focus on the practical aspect, information retrieval.\\n\\nchatbot competitions focus on the turing test or more specific goals. two such annual contests are the loebner prize and the chatterbox challenge (the latter has been offline since 2015, however, materials can still be found from web archives).[15]\\n\\ndbpedia created a chatbot during the gsoc of 2017.[16][17][18] it can communicate through facebook messenger.\\n\\napplication\\nsee also: virtual assistant\\nmessaging apps\\nmany companies\\' chatbots run on messaging apps or simply via sms. they are used for b2c customer service, sales and marketing.[19]\\n\\nin 2016, facebook messenger allowed developers to place chatbots on their platform. there were 30,000 bots created for messenger in the first six months, rising to 100,000 by september 2017.[20]\\n\\nsince september 2017, this has also been as part of a pilot program on whatsapp. airlines klm and aeroméxico both announced their participation in the testing;[21][22][23][24] both airlines had previously launched customer services on the facebook messenger platform.\\n\\nthe bots usually appear as one of the user\\'s contacts, but can sometimes act as participants in a group chat.\\n\\nmany banks, insurers, media companies, e-commerce companies, airlines, hotel chains, retailers, health care providers, government entities and restaurant chains have used chatbots to answer simple questions, increase customer engagement,[25] for promotion, and to offer additional ways to order from them.[26][27]\\n\\na 2017 study showed 4% of companies used chatbots.[28] according to a 2016 study, 80% of businesses said they intended to have one by 2020.[29]\\n\\nas part of company apps and websites\\nprevious generations of chatbots were present on company websites, e.g. ask jenn from alaska airlines which debuted in 2008[30] or expedia\\'s virtual customer service agent which launched in 2011.[30][31] the newer generation of chatbots includes ibm watson-powered \"rocky\", introduced in february 2017 by the new york city-based e-commerce company rare carat to provide information to prospective diamond buyers.[32][33]\\n\\nchatbot sequences\\nused by marketers to script sequences of messages, very similar to an autoresponder sequence. such sequences can be triggered by user opt-in or the use of keywords within user interactions. after a trigger occurs a sequence of messages is delivered until the next anticipated user response. each user response is used in the decision tree to help the chatbot navigate the response sequences to deliver the correct response message.\\n\\ncompany internal platforms\\nother companies explore ways they can use chatbots internally, for example for customer support, human resources, or even in internet-of-things (iot) projects. overstock.com, for one, has reportedly launched a chatbot named mila to automate certain simple yet time-consuming processes when requesting sick leave.[34] other large companies such as lloyds banking group, royal bank of scotland, renault and citroën are now using automated online assistants instead of call centres with humans to provide a first point of contact. a saas chatbot business ecosystem has been steadily growing since the f8 conference when facebook\\'s mark zuckerberg unveiled that messenger would allow chatbots into the app.[35] in large companies, like in hospitals and aviation organizations, it architects are designing reference architectures for intelligent chatbots that are used to unlock and share knowledge and experience in the organization more efficiently, and reduce the errors in answers from expert service desks significantly.[36] these intelligent chatbots make use of all kinds of artificial intelligence like image moderation and natural-language understanding (nlu), natural-language generation (nlg), machine learning and deep learning.\\n\\ncustomer service\\nmany high-tech banking organizations are looking to integrate automated ai-based solutions such as chatbots into their customer service in order to provide faster and cheaper assistance to their clients who are becoming increasingly comfortable with technology. in particular, chatbots can efficiently conduct a dialogue, usually replacing other communication tools such as email, phone, or sms. in banking, their major application is related to quick customer service answering common requests, as well as transactional support.\\n\\nseveral studies report significant reduction in the cost of customer services, expected to lead to billions of dollars of economic savings in the next ten years.[37] in 2019, gartner predicted that by 2021, 15% of all customer service interactions globally will be handled completely by ai.[38] a study by juniper research in 2019 estimates retail sales resulting from chatbot-based interactions will reach $112 billion by 2023.[39]\\n\\nsince 2016, when facebook allowed businesses to deliver automated customer support, e-commerce guidance, content, and interactive experiences through chatbots, a large variety of chatbots were developed for the facebook messenger platform.[40]\\n\\nin 2016, russia-based tochka bank launched the world\\'s first facebook bot for a range of financial services, including a possibility of making payments.[41]\\n\\nin july 2016, barclays africa also launched a facebook chatbot, making it the first bank to do so in africa.[42]\\n\\nthe france\\'s third-largest bank by total assets[43] société générale launched their chatbot called sobot in march 2018. while 80% of users of the sobot expressed their satisfaction after having tested it, société générale deputy director bertrand cozzarolo stated that it will never replace the expertise provided by a human advisor. [44]\\n\\nthe advantages of using chatbots for customer interactions in banking include cost reduction, financial advice, and 24/7 support.[45][46]\\n\\nhealthcare\\nsee also: artificial intelligence in healthcare\\nchatbots are also appearing in the healthcare industry.[47][48] a study suggested that physicians in the united states believed that chatbots would be most beneficial for scheduling doctor appointments, locating health clinics, or providing medication information.[49]\\n\\nwhatsapp has teamed up with the world health organisation (who) to make a chatbot service that answers users’ questions on covid-19.[50]\\n\\nin 2020, the indian government launched a chatbot called mygov corona helpdesk,[51] that worked through whatsapp and helped people access information about the coronavirus (covid-19) pandemic.[52][53]\\n\\ncertain patient groups are still reluctant to use chatbots. a mixed-methods study showed that people are still hesitant to use chatbots for their healthcare due to poor understanding of the technological complexity, the lack of empathy, and concerns about cyber-security.[54] the analysis showed that while 6% had heard of a health chatbot and 3% had experience of using it, 67% perceived themselves as likely to use one within 12 months. the majority of participants would use a health chatbot for seeking general health information (78%), booking a medical appointment (78%), and looking for local health services (80%). however, a health chatbot was perceived as less suitable for seeking results of medical tests and seeking specialist advice such as sexual health. the analysis of attitudinal variables showed that most participants reported their preference for discussing their health with doctors (73%) and having access to reliable and accurate health information (93%). while 80% were curious about new technologies that could improve their health, 66% reported only seeking a doctor when experiencing a health problem and 65% thought that a chatbot was a good idea. interestingly, 30% reported dislike about talking to computers, 41% felt it would be strange to discuss health matters with a chatbot and about half were unsure if they could trust the advice given by a chatbot. therefore, perceived trustworthiness, individual attitudes towards bots, and dislike for talking to computers are the main barriers to health chatbots.\\n\\npolitics\\nsee also: government by algorithm § ai politicians\\nin new zealand, the chatbot sam – short for semantic analysis machine[55] (made by nick gerritsen of touchtech[56]) – has been developed. it is designed to share its political thoughts, for example on topics such as climate change, healthcare and education, etc. it talks to people through facebook messenger.[57][58][59][60]\\n\\nin india, the state government has launched a chatbot for its aaple sarkar platform,[61] which provides conversational access to information regarding public services managed.[62][63]\\n\\ntoys\\nchatbots have also been incorporated into devices not primarily meant for computing, such as toys.[64]\\n\\nhello barbie is an internet-connected version of the doll that uses a chatbot provided by the company toytalk,[65] which previously used the chatbot for a range of smartphone-based characters for children.[66] these characters\\' behaviors are constrained by a set of rules that in effect emulate a particular character and produce a storyline.[67]\\n\\nthe my friend cayla doll was marketed as a line of 18-inch (46 cm) dolls which uses speech recognition technology in conjunction with an android or ios mobile app to recognize the child\\'s speech and have a conversation. it, like the hello barbie doll, attracted controversy due to vulnerabilities with the doll\\'s bluetooth stack and its use of data collected from the child\\'s speech.\\n\\nibm\\'s watson computer has been used as the basis for chatbot-based educational toys for companies such as cognitoys[64] intended to interact with children for educational purposes.[68]\\n\\nmalicious use\\nmalicious chatbots are frequently used to fill chat rooms with spam and advertisements, by mimicking human behavior and conversations or to entice people into revealing personal information, such as bank account numbers. they were commonly found on yahoo! messenger, windows live messenger, aol instant messenger and other instant messaging protocols. there has also been a published report of a chatbot used in a fake personal ad on a dating service\\'s website.[69]\\n\\ntay, an ai chatbot that learns from previous interaction, caused major controversy due to it being targeted by internet trolls on twitter. the bot was exploited, and after 16 hours began to send extremely offensive tweets to users. this suggests that although the bot learned effectively from experience, adequate protection was not put in place to prevent misuse.[70]\\n\\nif a text-sending algorithm can pass itself off as a human instead of a chatbot, its message would be more credible. therefore, human-seeming chatbots with well-crafted online identities could start scattering fake news that seems plausible, for instance making false claims during an election. with enough chatbots, it might be even possible to achieve artificial social proof.[71][72]\\n\\nlimitations of chatbots\\nthe creation and implementation of chatbots is still a developing area, heavily related to artificial intelligence and machine learning, so the provided solutions, while possessing obvious advantages, have some important limitations in terms of functionalities and use cases. however, this is changing over time.\\n\\nthe most common limitations are listed below:[73]\\n\\nas the database, used for output generation, is fixed and limited, chatbots can fail while dealing with an unsaved query.[46]\\na chatbot\\'s efficiency highly depends on language processing and is limited because of irregularities, such as accents and mistakes.\\nchatbots are unable to deal with multiple questions at the same time and so conversation opportunities are limited.[73]\\nchatbots require a large amount of conversational data to train. generative models, which are based on deep learning algorithms to generate new responses word by word based on user input, are usually trained on a large dataset of natural-language phrases.[2]\\nchatbots have difficulty managing non-linear conversations that must go back and forth on a topic with a user. [74]\\nas it happens usually with technology-led changes in existing services, some consumers, more often than not from older generations, are uncomfortable with chatbots due to their limited understanding, making it obvious that their requests are being dealt with by machines.[73]\\nchatbots and jobs\\nchatbots are increasingly present in businesses and often are used to automate tasks that do not require skill-based talents. with customer service taking place via messaging apps as well as phone calls, there are growing numbers of use-cases where chatbot deployment gives organizations a clear return on investment. call center workers may be particularly at risk from ai-driven chatbots.[75]\\n\\nchatbot jobs\\n\\nchatbot developers create, debug, and maintain applications that automate customer services or other communication processes. their duties include reviewing and simplifying code when needed. they may also help companies implement bots in their operations.\\n\\na study by forrester (june 2017) predicted that 25% of all jobs would be impacted by ai technologies by 2019.[76]'"
            ],
            "application/vnd.google.colaboratory.intrinsic+json": {
              "type": "string"
            }
          },
          "metadata": {},
          "execution_count": 15
        }
      ]
    },
    {
      "cell_type": "code",
      "source": [
        "sentence_tokens = nltk.sent_tokenize(raw_doc) \n",
        "word_tokens = nltk.word_tokenize (raw_doc)"
      ],
      "metadata": {
        "id": "STBVF5zKH4QA"
      },
      "execution_count": null,
      "outputs": []
    },
    {
      "cell_type": "markdown",
      "source": [
        "After Tokanization"
      ],
      "metadata": {
        "id": "KiNtfx9onFDP"
      }
    },
    {
      "cell_type": "code",
      "source": [
        "sentence_tokens[:5]"
      ],
      "metadata": {
        "colab": {
          "base_uri": "https://localhost:8080/"
        },
        "id": "F98yt_-Vm7q2",
        "outputId": "950341f2-9a0a-4272-b7ae-58c5db1a6176"
      },
      "execution_count": null,
      "outputs": [
        {
          "output_type": "execute_result",
          "data": {
            "text/plain": [
              "['chatbot\\nfrom wikipedia, the free encyclopedia\\njump to navigationjump to search\\nfor other uses, see chatbot (disambiguation).',\n",
              " 'a virtual assistant chatbot\\n\\nthe 1966 eliza chatbot\\na chatbot or chatterbot is a software application used to conduct an on-line chat conversation via text or text-to-speech, in lieu of providing direct contact with a live human agent.',\n",
              " '[1][2] a chatbot is a type of software that can help customers by automating conversations and interact with them through messaging platforms.',\n",
              " '[3] designed to convincingly simulate the way a human would behave as a conversational partner, chatbot systems typically require continuous tuning and testing, and many in production remain unable to adequately converse, while none of them can pass the standard turing test.',\n",
              " '[4] the term \"chatterbot\" was originally coined by michael mauldin (creator of the first verbot) in 1994 to describe these conversational programs.']"
            ]
          },
          "metadata": {},
          "execution_count": 17
        }
      ]
    },
    {
      "cell_type": "code",
      "source": [
        "word_tokens[:7]"
      ],
      "metadata": {
        "colab": {
          "base_uri": "https://localhost:8080/"
        },
        "id": "3dr-lrsunA_8",
        "outputId": "0c959dc7-8c4c-4d46-debe-37370428fefb"
      },
      "execution_count": null,
      "outputs": [
        {
          "output_type": "execute_result",
          "data": {
            "text/plain": [
              "['chatbot', 'from', 'wikipedia', ',', 'the', 'free', 'encyclopedia']"
            ]
          },
          "metadata": {},
          "execution_count": 18
        }
      ]
    },
    {
      "cell_type": "markdown",
      "source": [
        "Performing Test Preprocessing Steps"
      ],
      "metadata": {
        "id": "04heWPXZnT1N"
      }
    },
    {
      "cell_type": "code",
      "source": [
        "\n",
        "lemmer = nltk.stem.WordNetLemmatizer()\n",
        "\n",
        "def LemTokens (tokens):\n",
        "  return [lemmer.lemmatize(token) for token in tokens]\n",
        "\n",
        "remove_punc_dict = dict((ord(punct), None) for punct in string.punctuation)\n",
        "def LemNormalize(text):\n",
        "  return LemTokens (nltk.word_tokenize (text.lower().translate(remove_punc_dict)))"
      ],
      "metadata": {
        "id": "jX5YrPSunSz9"
      },
      "execution_count": null,
      "outputs": []
    },
    {
      "cell_type": "markdown",
      "source": [
        "Definine Greeting Functions"
      ],
      "metadata": {
        "id": "emxSTtuQn9Jt"
      }
    },
    {
      "cell_type": "code",
      "source": [
        "greet_inputs =('hello', 'hi', 'whas sup', 'how are you?') \n",
        "greet_responses = ('hi', 'Hey', 'Hey There!', 'There there!') \n",
        "\n",
        "def greet(sentence):\n",
        "   for word in sentence.split():\n",
        "     if word.lower() in greet_inputs:\n",
        "       return random.choice (greet_responses)"
      ],
      "metadata": {
        "id": "IQWCRHayoAVY"
      },
      "execution_count": null,
      "outputs": []
    },
    {
      "cell_type": "markdown",
      "source": [
        "Response Generation By Bot"
      ],
      "metadata": {
        "id": "CJ8k6tqHobsr"
      }
    },
    {
      "cell_type": "code",
      "source": [
        "from sklearn.feature_extraction.text import TfidfVectorizer \n",
        "from sklearn.metrics.pairwise import cosine_similarity"
      ],
      "metadata": {
        "id": "ZVCVuRV0oapW"
      },
      "execution_count": null,
      "outputs": []
    },
    {
      "cell_type": "code",
      "source": [
        "def response(user_response):\n",
        "  robo1_response =''\n",
        "  TfidfVec = TfidfVectorizer(tokenizer= LemNormalize, stop_words = 'english')\n",
        "  tfidf =TfidfVec.fit_transform(sentence_tokens)\n",
        "  vals= cosine_similarity(tfidf[-1], tfidf)\n",
        "\n",
        "  idx= vals.argsort()[0][-2]\n",
        "\n",
        "  flat = vals.flatten()\n",
        "\n",
        "  flat.sort()\n",
        "\n",
        "  req_tfidf =flat[-2]\n",
        "\n",
        "  if (req_tfidf == 0):\n",
        "    robo1_response= robo1_response +\"I am sorry. Unable to understand you!\"\n",
        "    return robo1_response\n",
        "\n",
        "  else:\n",
        "    robo1_response= robo1_response+ sentence_tokens[idx]\n",
        "    return robo1_response "
      ],
      "metadata": {
        "id": "RnP7Hl68ovZS"
      },
      "execution_count": null,
      "outputs": []
    },
    {
      "cell_type": "markdown",
      "source": [
        "Defining The Chatflow"
      ],
      "metadata": {
        "id": "3utdp7QKp5tL"
      }
    },
    {
      "cell_type": "code",
      "source": [
        "flag = True\n",
        "print(\"Hello! I am the Learning Bot. Start typing your text after greeting to talk to me. For ending convo type bye!\")\n",
        "while(flag ==True):\n",
        "    user_response =input()\n",
        "    user_response = user_response.lower()\n",
        "    if(user_response != 'bye'):\n",
        "      if(user_response == 'thank you' or user_response=='thanks'):\n",
        "        flag = False\n",
        "        print('Bot: You are welcome..')\n",
        "      else:\n",
        "        if(greet (user_response) != None):\n",
        "          print(\"Bot\"+ greet (user_response))\n",
        "        else:\n",
        "          sentence_tokens.append(user_response)\n",
        "          word_tokens =word_tokens +nltk.word_tokenize(user_response)\n",
        "          final_words= list(set(word_tokens))\n",
        "          print(\"Bot:\", end = '')\n",
        "          print(response(user_response))\n",
        "          sentence_tokens.remove(user_response)\n",
        "    else:\n",
        "      flag = False\n",
        "      print('Bot: Goodbye!') "
      ],
      "metadata": {
        "colab": {
          "base_uri": "https://localhost:8080/",
          "height": 574
        },
        "id": "2lrz4_Z5qhNw",
        "outputId": "132a096b-ef64-46f9-eae5-d8ea3934d96a"
      },
      "execution_count": null,
      "outputs": [
        {
          "output_type": "stream",
          "name": "stdout",
          "text": [
            "Hello! I am the Learning Bot. Start typing your text after greeting to talk to me. For ending convo type bye!\n",
            "Hi\n",
            "BotThere there!\n",
            "h\n",
            "Bot:"
          ]
        },
        {
          "output_type": "stream",
          "name": "stderr",
          "text": [
            "/usr/local/lib/python3.7/dist-packages/sklearn/feature_extraction/text.py:401: UserWarning: Your stop_words may be inconsistent with your preprocessing. Tokenizing the stop words generated tokens ['ha', 'le', 'u', 'wa'] not in stop_words.\n",
            "  % sorted(inconsistent)\n"
          ]
        },
        {
          "output_type": "stream",
          "name": "stdout",
          "text": [
            "I am sorry. Unable to understand you!\n",
            "scotland\n",
            "Bot:[34] other large companies such as lloyds banking group, royal bank of scotland, renault and citroën are now using automated online assistants instead of call centres with humans to provide a first point of contact.\n"
          ]
        },
        {
          "output_type": "error",
          "ename": "KeyboardInterrupt",
          "evalue": "ignored",
          "traceback": [
            "\u001b[0;31m---------------------------------------------------------------------------\u001b[0m",
            "\u001b[0;31mKeyboardInterrupt\u001b[0m                         Traceback (most recent call last)",
            "\u001b[0;32m<ipython-input-23-bbb028e73d64>\u001b[0m in \u001b[0;36m<module>\u001b[0;34m\u001b[0m\n\u001b[1;32m      2\u001b[0m \u001b[0mprint\u001b[0m\u001b[0;34m(\u001b[0m\u001b[0;34m\"Hello! I am the Learning Bot. Start typing your text after greeting to talk to me. For ending convo type bye!\"\u001b[0m\u001b[0;34m)\u001b[0m\u001b[0;34m\u001b[0m\u001b[0;34m\u001b[0m\u001b[0m\n\u001b[1;32m      3\u001b[0m \u001b[0;32mwhile\u001b[0m\u001b[0;34m(\u001b[0m\u001b[0mflag\u001b[0m \u001b[0;34m==\u001b[0m\u001b[0;32mTrue\u001b[0m\u001b[0;34m)\u001b[0m\u001b[0;34m:\u001b[0m\u001b[0;34m\u001b[0m\u001b[0;34m\u001b[0m\u001b[0m\n\u001b[0;32m----> 4\u001b[0;31m     \u001b[0muser_response\u001b[0m \u001b[0;34m=\u001b[0m\u001b[0minput\u001b[0m\u001b[0;34m(\u001b[0m\u001b[0;34m)\u001b[0m\u001b[0;34m\u001b[0m\u001b[0;34m\u001b[0m\u001b[0m\n\u001b[0m\u001b[1;32m      5\u001b[0m     \u001b[0muser_response\u001b[0m \u001b[0;34m=\u001b[0m \u001b[0muser_response\u001b[0m\u001b[0;34m.\u001b[0m\u001b[0mlower\u001b[0m\u001b[0;34m(\u001b[0m\u001b[0;34m)\u001b[0m\u001b[0;34m\u001b[0m\u001b[0;34m\u001b[0m\u001b[0m\n\u001b[1;32m      6\u001b[0m     \u001b[0;32mif\u001b[0m\u001b[0;34m(\u001b[0m\u001b[0muser_response\u001b[0m \u001b[0;34m!=\u001b[0m \u001b[0;34m'bye'\u001b[0m\u001b[0;34m)\u001b[0m\u001b[0;34m:\u001b[0m\u001b[0;34m\u001b[0m\u001b[0;34m\u001b[0m\u001b[0m\n",
            "\u001b[0;32m/usr/local/lib/python3.7/dist-packages/ipykernel/kernelbase.py\u001b[0m in \u001b[0;36mraw_input\u001b[0;34m(self, prompt)\u001b[0m\n\u001b[1;32m    861\u001b[0m             \u001b[0mself\u001b[0m\u001b[0;34m.\u001b[0m\u001b[0m_parent_ident\u001b[0m\u001b[0;34m,\u001b[0m\u001b[0;34m\u001b[0m\u001b[0;34m\u001b[0m\u001b[0m\n\u001b[1;32m    862\u001b[0m             \u001b[0mself\u001b[0m\u001b[0;34m.\u001b[0m\u001b[0m_parent_header\u001b[0m\u001b[0;34m,\u001b[0m\u001b[0;34m\u001b[0m\u001b[0;34m\u001b[0m\u001b[0m\n\u001b[0;32m--> 863\u001b[0;31m             \u001b[0mpassword\u001b[0m\u001b[0;34m=\u001b[0m\u001b[0;32mFalse\u001b[0m\u001b[0;34m,\u001b[0m\u001b[0;34m\u001b[0m\u001b[0;34m\u001b[0m\u001b[0m\n\u001b[0m\u001b[1;32m    864\u001b[0m         )\n\u001b[1;32m    865\u001b[0m \u001b[0;34m\u001b[0m\u001b[0m\n",
            "\u001b[0;32m/usr/local/lib/python3.7/dist-packages/ipykernel/kernelbase.py\u001b[0m in \u001b[0;36m_input_request\u001b[0;34m(self, prompt, ident, parent, password)\u001b[0m\n\u001b[1;32m    902\u001b[0m             \u001b[0;32mexcept\u001b[0m \u001b[0mKeyboardInterrupt\u001b[0m\u001b[0;34m:\u001b[0m\u001b[0;34m\u001b[0m\u001b[0;34m\u001b[0m\u001b[0m\n\u001b[1;32m    903\u001b[0m                 \u001b[0;31m# re-raise KeyboardInterrupt, to truncate traceback\u001b[0m\u001b[0;34m\u001b[0m\u001b[0;34m\u001b[0m\u001b[0;34m\u001b[0m\u001b[0m\n\u001b[0;32m--> 904\u001b[0;31m                 \u001b[0;32mraise\u001b[0m \u001b[0mKeyboardInterrupt\u001b[0m\u001b[0;34m(\u001b[0m\u001b[0;34m\"Interrupted by user\"\u001b[0m\u001b[0;34m)\u001b[0m \u001b[0;32mfrom\u001b[0m \u001b[0;32mNone\u001b[0m\u001b[0;34m\u001b[0m\u001b[0;34m\u001b[0m\u001b[0m\n\u001b[0m\u001b[1;32m    905\u001b[0m             \u001b[0;32mexcept\u001b[0m \u001b[0mException\u001b[0m \u001b[0;32mas\u001b[0m \u001b[0me\u001b[0m\u001b[0;34m:\u001b[0m\u001b[0;34m\u001b[0m\u001b[0;34m\u001b[0m\u001b[0m\n\u001b[1;32m    906\u001b[0m                 \u001b[0mself\u001b[0m\u001b[0;34m.\u001b[0m\u001b[0mlog\u001b[0m\u001b[0;34m.\u001b[0m\u001b[0mwarning\u001b[0m\u001b[0;34m(\u001b[0m\u001b[0;34m\"Invalid Message:\"\u001b[0m\u001b[0;34m,\u001b[0m \u001b[0mexc_info\u001b[0m\u001b[0;34m=\u001b[0m\u001b[0;32mTrue\u001b[0m\u001b[0;34m)\u001b[0m\u001b[0;34m\u001b[0m\u001b[0;34m\u001b[0m\u001b[0m\n",
            "\u001b[0;31mKeyboardInterrupt\u001b[0m: Interrupted by user"
          ]
        }
      ]
    }
  ]
}