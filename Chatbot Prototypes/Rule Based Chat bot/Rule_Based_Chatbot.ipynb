{
  "nbformat": 4,
  "nbformat_minor": 0,
  "metadata": {
    "colab": {
      "provenance": [],
      "collapsed_sections": []
    },
    "kernelspec": {
      "name": "python3",
      "display_name": "Python 3"
    },
    "language_info": {
      "name": "python"
    }
  },
  "cells": [
    {
      "cell_type": "code",
      "execution_count": null,
      "metadata": {
        "id": "jL97IL7m0Uy-"
      },
      "outputs": [],
      "source": [
        "import re \n",
        "import random"
      ]
    },
    {
      "cell_type": "code",
      "source": [
        "class RuleBot:\n",
        "  ### Potential Negative Responses\n",
        "  negative_responses = (\"no\", \"nope\", \"nah\", \"naw\", \"not a chance\", \"sorry\")\n",
        "  ### Exit conversation Keywords\n",
        "  exit_commands = (\"quit\", \"pause\", \"exit\", \"goodbye\", \"bye\", \"later\") ### Random starter question\n",
        " \n",
        "  random_questions = (\n",
        "\n",
        "  \"Why are you here?\",\n",
        "\n",
        "  \"Are there many humans like you?\",\n",
        "\n",
        "  \"What do you consume for sustenance? \", \"Is there intelligent life on this planet?\",\n",
        "\n",
        "  \"Does Earth have a leader?\",\n",
        "\n",
        "  \"What planets have you visited?\",\n",
        "\n",
        "  \"What technology do you have on this planet?\"\n",
        "  )\n",
        "\n",
        "  def __init__(self):\n",
        "    self.alienbabble = {'describe_planet_intent': r'.*\\s*your planet.*',\n",
        "                        'answer_why_intent': r'why\\sare.*', \n",
        "                        'about_intellipat': r'.*\\s*intellipaat', \n",
        "                        'about_session': r'.*\\s*session'}\n",
        "\n",
        "  def greet(self):\n",
        "    self.name = input(\"What is your name?\\n\")\n",
        "    will_help =input(\n",
        "        f\"Hi {self.name}, I am Rule-Bot. Will you help me learn about your planet?\\n\") \n",
        "    if will_help in self.negative_responses:\n",
        "      print(\"Ok, have a nice Earth day!\")\n",
        "      return\n",
        "    self.chat()\n",
        "\n",
        "  def make_exit(self, reply): \n",
        "    for command in self.exit_commands:\n",
        "      if reply == command:\n",
        "        print(\"Okay, have a nice Earth day!\")\n",
        "        return True\n",
        "\n",
        "  def chat(self):\n",
        "    reply = input(random.choice(self.random_questions)).lower()\n",
        "    while not self.make_exit(reply): \n",
        "      reply = input(self.match_reply(reply))\n",
        "\n",
        "  def match_reply(self, reply):\n",
        "    for key, value in self.alienbabble.items():\n",
        "      intent= key\n",
        "      regex_pattern = value\n",
        "      found_match = re.match(regex_pattern, reply)\n",
        "      if found_match and intent == 'describe_planet_intent':\n",
        "            return self.describe_planet_intent()\n",
        "      elif found_match and intent == 'answer_why_intent':\n",
        "        return self.answer_why_intent()\n",
        "\n",
        "      elif found_match and intent == 'about_intellipat':\n",
        "        return self.about_intellipat()\n",
        "\n",
        "      elif found_match and intent == 'about_session':\n",
        "        return self.about_session()\n",
        "    if not found_match:\n",
        "      return self.no_match_intent(reply)\n",
        "\n",
        "  def describe_planet_intent(self):\n",
        "    responses= (\"My planet is a utopia of diverse organises and species.\\n\",\n",
        "              \" Iam from Opidipus, the capital of the wayward Galaxies.\\n\")\n",
        "    return random.choice(responses)\n",
        "\n",
        "  def answer_why_intent (self):\n",
        "    responses= (\"I come in peace\\n\", \"I am here to collect data on your planet and its inhabitants\\n\",\n",
        "              \"I heard the coffee is good\\n\")\n",
        "    return random.choice(responses)\n",
        "\n",
        "  def about_intellipat(self):\n",
        "    responses =(\"Intellipaat is world's largest professional educational company\\n\", \"Intellipaat will make you learn concepts in the way never le \\n\",\n",
        "              \" Intellipaat is where your career and skill grows\\n\") \n",
        "    return \"Intellipaat is Great place to Learn \\n\"\n",
        "\n",
        "  def about_session(self):\n",
        "    responses =('Session is on 14th Aug 2022 \\n', 'Session was Cool!!')\n",
        "    return random.choice(responses)\n",
        "\n",
        "  def no_match_intent(self, reply):\n",
        "    self.make_exit(reply)\n",
        "    responses = (\n",
        "        \"Please tell me more. \\n\", \"Tell me more!\\n\", \"Why do you say that?\\n\", \"I see. Can you elaborate?\\n\", \n",
        "        \"Interesting. Can you tell me more?\\n\", \n",
        "        \"I see. How do you think?\\n\", \"Why?\\n\",\n",
        "        \"How do you think I feel when you say that?\\n\")\n",
        "    return random.choice(responses)\n",
        "\n",
        "AlienBot = RuleBot()\n",
        "AlienBot.greet()"
      ],
      "metadata": {
        "colab": {
          "base_uri": "https://localhost:8080/"
        },
        "id": "1ZtyATF8-qgh",
        "outputId": "b64e661f-1e4e-409a-cc47-1254a58159aa"
      },
      "execution_count": null,
      "outputs": [
        {
          "output_type": "stream",
          "name": "stdout",
          "text": [
            "What is your name?\n",
            "venkat\n",
            "Hi venkat, I am Rule-Bot. Will you help me learn about your planet?\n",
            "tt\n",
            "What do you consume for sustenance? tt\n",
            "I see. How do you think?\n",
            "bye\n",
            "Okay, have a nice Earth day!\n"
          ]
        }
      ]
    },
    {
      "cell_type": "code",
      "source": [],
      "metadata": {
        "id": "5P5D_YxeGTpG"
      },
      "execution_count": null,
      "outputs": []
    }
  ]
}