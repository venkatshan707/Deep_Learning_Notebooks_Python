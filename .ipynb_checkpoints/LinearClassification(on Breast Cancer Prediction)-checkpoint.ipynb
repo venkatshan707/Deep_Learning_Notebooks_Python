{
 "cells": [
  {
   "cell_type": "markdown",
   "metadata": {
    "colab_type": "text",
    "id": "view-in-github"
   },
   "source": [
    "<a href=\"https://colab.research.google.com/github/venkatshan707/Deep_Learning_Notebooks_Python/blob/main/LinearClassification(on Breast Cancer Prediction).ipynb\" target=\"_parent\"><img src=\"https://colab.research.google.com/assets/colab-badge.svg\" alt=\"Open In Colab\"/></a>"
   ]
  },
  {
   "cell_type": "code",
   "execution_count": 2,
   "metadata": {
    "id": "xcuCW52ILk0T"
   },
   "outputs": [],
   "source": [
    "import tensorflow as tf # Importing Tensorflow Library\n",
    "import pandas as pd\n",
    "import numpy as np\n"
   ]
  },
  {
   "cell_type": "code",
   "execution_count": 3,
   "metadata": {
    "colab": {
     "base_uri": "https://localhost:8080/"
    },
    "id": "DGNolGmAOwK2",
    "outputId": "6c52c7dc-8d8b-4558-c6f5-f28dcce26d90"
   },
   "outputs": [
    {
     "name": "stdout",
     "output_type": "stream",
     "text": [
      "2.8.2\n"
     ]
    }
   ],
   "source": [
    "print(tf.__version__)"
   ]
  },
  {
   "cell_type": "code",
   "execution_count": 5,
   "metadata": {
    "id": "EC8KLJAUPm1p"
   },
   "outputs": [],
   "source": [
    "# Loading breast cancer dataset from Sklearn \n",
    "from sklearn.datasets import load_breast_cancer\n",
    "df = load_breast_cancer()"
   ]
  },
  {
   "cell_type": "code",
   "execution_count": 6,
   "metadata": {
    "colab": {
     "base_uri": "https://localhost:8080/"
    },
    "id": "YZ6L9ppqQLTF",
    "outputId": "fc65d70c-74a0-4787-8901-43e8f4ff8d35"
   },
   "outputs": [
    {
     "data": {
      "text/plain": [
       "sklearn.utils.Bunch"
      ]
     },
     "execution_count": 6,
     "metadata": {},
     "output_type": "execute_result"
    }
   ],
   "source": [
    "type (df) # It's Bunch object"
   ]
  },
  {
   "cell_type": "code",
   "execution_count": 7,
   "metadata": {
    "colab": {
     "base_uri": "https://localhost:8080/"
    },
    "id": "1K9FODnJQVTi",
    "outputId": "3f34cf7f-d375-4e2c-da93-3cd07f75cadf"
   },
   "outputs": [
    {
     "data": {
      "text/plain": [
       "array([[1.799e+01, 1.038e+01, 1.228e+02, ..., 2.654e-01, 4.601e-01,\n",
       "        1.189e-01],\n",
       "       [2.057e+01, 1.777e+01, 1.329e+02, ..., 1.860e-01, 2.750e-01,\n",
       "        8.902e-02],\n",
       "       [1.969e+01, 2.125e+01, 1.300e+02, ..., 2.430e-01, 3.613e-01,\n",
       "        8.758e-02],\n",
       "       ...,\n",
       "       [1.660e+01, 2.808e+01, 1.083e+02, ..., 1.418e-01, 2.218e-01,\n",
       "        7.820e-02],\n",
       "       [2.060e+01, 2.933e+01, 1.401e+02, ..., 2.650e-01, 4.087e-01,\n",
       "        1.240e-01],\n",
       "       [7.760e+00, 2.454e+01, 4.792e+01, ..., 0.000e+00, 2.871e-01,\n",
       "        7.039e-02]])"
      ]
     },
     "execution_count": 7,
     "metadata": {},
     "output_type": "execute_result"
    }
   ],
   "source": [
    "df.data"
   ]
  },
  {
   "cell_type": "code",
   "execution_count": 8,
   "metadata": {
    "colab": {
     "base_uri": "https://localhost:8080/"
    },
    "id": "7RLy7e1HQcwp",
    "outputId": "93a59f4c-8878-4808-c233-ec285492c96a"
   },
   "outputs": [
    {
     "data": {
      "text/plain": [
       "dict_keys(['data', 'target', 'target_names', 'DESCR', 'feature_names', 'filename'])"
      ]
     },
     "execution_count": 8,
     "metadata": {},
     "output_type": "execute_result"
    }
   ],
   "source": [
    "df.keys()"
   ]
  },
  {
   "cell_type": "code",
   "execution_count": 9,
   "metadata": {
    "colab": {
     "base_uri": "https://localhost:8080/"
    },
    "id": "YUICLl20QmIE",
    "outputId": "c249db0c-204a-4df2-b80e-d851df744f90"
   },
   "outputs": [
    {
     "data": {
      "text/plain": [
       "(569, 30)"
      ]
     },
     "execution_count": 9,
     "metadata": {},
     "output_type": "execute_result"
    }
   ],
   "source": [
    "df.data.shape # We have 569 records of 30 independant variables."
   ]
  },
  {
   "cell_type": "code",
   "execution_count": 10,
   "metadata": {
    "id": "_KSRhUeVRFLq"
   },
   "outputs": [],
   "source": [
    "dataf = pd.DataFrame (df.data)"
   ]
  },
  {
   "cell_type": "code",
   "execution_count": 11,
   "metadata": {
    "colab": {
     "base_uri": "https://localhost:8080/"
    },
    "id": "yOshNjxzRL-L",
    "outputId": "6699f61d-2c0e-4ad9-dbac-cf5b9ac452b8"
   },
   "outputs": [
    {
     "name": "stderr",
     "output_type": "stream",
     "text": [
      "C:\\Users\\ELCOT\\anaconda3\\lib\\site-packages\\ipykernel_launcher.py:1: UserWarning: Pandas doesn't allow columns to be created via a new attribute name - see https://pandas.pydata.org/pandas-docs/stable/indexing.html#attribute-access\n",
      "  \"\"\"Entry point for launching an IPython kernel.\n"
     ]
    }
   ],
   "source": [
    "dataf.coulmns = df.feature_names"
   ]
  },
  {
   "cell_type": "code",
   "execution_count": 12,
   "metadata": {
    "colab": {
     "base_uri": "https://localhost:8080/"
    },
    "id": "I4AeN0cuRp55",
    "outputId": "f6ad1ba0-dd79-4bbc-bd05-40a6b6b82e63"
   },
   "outputs": [
    {
     "data": {
      "text/plain": [
       "array(['malignant', 'benign'], dtype='<U9')"
      ]
     },
     "execution_count": 12,
     "metadata": {},
     "output_type": "execute_result"
    }
   ],
   "source": [
    "df.target_names"
   ]
  },
  {
   "cell_type": "code",
   "execution_count": 13,
   "metadata": {
    "colab": {
     "base_uri": "https://localhost:8080/"
    },
    "id": "hjrBlIc1ScS4",
    "outputId": "ad2c06f7-48da-4846-9dd4-262529900679"
   },
   "outputs": [
    {
     "data": {
      "text/plain": [
       "array([0, 0, 0, 0, 0, 0, 0, 0, 0, 0, 0, 0, 0, 0, 0, 0, 0, 0, 0, 1, 1, 1,\n",
       "       0, 0, 0, 0, 0, 0, 0, 0, 0, 0, 0, 0, 0, 0, 0, 1, 0, 0, 0, 0, 0, 0,\n",
       "       0, 0, 1, 0, 1, 1, 1, 1, 1, 0, 0, 1, 0, 0, 1, 1, 1, 1, 0, 1, 0, 0,\n",
       "       1, 1, 1, 1, 0, 1, 0, 0, 1, 0, 1, 0, 0, 1, 1, 1, 0, 0, 1, 0, 0, 0,\n",
       "       1, 1, 1, 0, 1, 1, 0, 0, 1, 1, 1, 0, 0, 1, 1, 1, 1, 0, 1, 1, 0, 1,\n",
       "       1, 1, 1, 1, 1, 1, 1, 0, 0, 0, 1, 0, 0, 1, 1, 1, 0, 0, 1, 0, 1, 0,\n",
       "       0, 1, 0, 0, 1, 1, 0, 1, 1, 0, 1, 1, 1, 1, 0, 1, 1, 1, 1, 1, 1, 1,\n",
       "       1, 1, 0, 1, 1, 1, 1, 0, 0, 1, 0, 1, 1, 0, 0, 1, 1, 0, 0, 1, 1, 1,\n",
       "       1, 0, 1, 1, 0, 0, 0, 1, 0, 1, 0, 1, 1, 1, 0, 1, 1, 0, 0, 1, 0, 0,\n",
       "       0, 0, 1, 0, 0, 0, 1, 0, 1, 0, 1, 1, 0, 1, 0, 0, 0, 0, 1, 1, 0, 0,\n",
       "       1, 1, 1, 0, 1, 1, 1, 1, 1, 0, 0, 1, 1, 0, 1, 1, 0, 0, 1, 0, 1, 1,\n",
       "       1, 1, 0, 1, 1, 1, 1, 1, 0, 1, 0, 0, 0, 0, 0, 0, 0, 0, 0, 0, 0, 0,\n",
       "       0, 0, 1, 1, 1, 1, 1, 1, 0, 1, 0, 1, 1, 0, 1, 1, 0, 1, 0, 0, 1, 1,\n",
       "       1, 1, 1, 1, 1, 1, 1, 1, 1, 1, 1, 0, 1, 1, 0, 1, 0, 1, 1, 1, 1, 1,\n",
       "       1, 1, 1, 1, 1, 1, 1, 1, 1, 0, 1, 1, 1, 0, 1, 0, 1, 1, 1, 1, 0, 0,\n",
       "       0, 1, 1, 1, 1, 0, 1, 0, 1, 0, 1, 1, 1, 0, 1, 1, 1, 1, 1, 1, 1, 0,\n",
       "       0, 0, 1, 1, 1, 1, 1, 1, 1, 1, 1, 1, 1, 0, 0, 1, 0, 0, 0, 1, 0, 0,\n",
       "       1, 1, 1, 1, 1, 0, 1, 1, 1, 1, 1, 0, 1, 1, 1, 0, 1, 1, 0, 0, 1, 1,\n",
       "       1, 1, 1, 1, 0, 1, 1, 1, 1, 1, 1, 1, 0, 1, 1, 1, 1, 1, 0, 1, 1, 0,\n",
       "       1, 1, 1, 1, 1, 1, 1, 1, 1, 1, 1, 1, 0, 1, 0, 0, 1, 0, 1, 1, 1, 1,\n",
       "       1, 0, 1, 1, 0, 1, 0, 1, 1, 0, 1, 0, 1, 1, 1, 1, 1, 1, 1, 1, 0, 0,\n",
       "       1, 1, 1, 1, 1, 1, 0, 1, 1, 1, 1, 1, 1, 1, 1, 1, 1, 0, 1, 1, 1, 1,\n",
       "       1, 1, 1, 0, 1, 0, 1, 1, 0, 1, 1, 1, 1, 1, 0, 0, 1, 0, 1, 0, 1, 1,\n",
       "       1, 1, 1, 0, 1, 1, 0, 1, 0, 1, 0, 0, 1, 1, 1, 0, 1, 1, 1, 1, 1, 1,\n",
       "       1, 1, 1, 1, 1, 0, 1, 0, 0, 1, 1, 1, 1, 1, 1, 1, 1, 1, 1, 1, 1, 1,\n",
       "       1, 1, 1, 1, 1, 1, 1, 1, 1, 1, 1, 1, 0, 0, 0, 0, 0, 0, 1])"
      ]
     },
     "execution_count": 13,
     "metadata": {},
     "output_type": "execute_result"
    }
   ],
   "source": [
    "df.target"
   ]
  },
  {
   "cell_type": "code",
   "execution_count": 14,
   "metadata": {
    "colab": {
     "base_uri": "https://localhost:8080/",
     "height": 140
    },
    "id": "4DRRL_3QRvW7",
    "outputId": "7363271f-754d-4a43-ba71-1743152c5ee0"
   },
   "outputs": [
    {
     "data": {
      "text/plain": [
       "'.. _breast_cancer_dataset:\\n\\nBreast cancer wisconsin (diagnostic) dataset\\n--------------------------------------------\\n\\n**Data Set Characteristics:**\\n\\n    :Number of Instances: 569\\n\\n    :Number of Attributes: 30 numeric, predictive attributes and the class\\n\\n    :Attribute Information:\\n        - radius (mean of distances from center to points on the perimeter)\\n        - texture (standard deviation of gray-scale values)\\n        - perimeter\\n        - area\\n        - smoothness (local variation in radius lengths)\\n        - compactness (perimeter^2 / area - 1.0)\\n        - concavity (severity of concave portions of the contour)\\n        - concave points (number of concave portions of the contour)\\n        - symmetry \\n        - fractal dimension (\"coastline approximation\" - 1)\\n\\n        The mean, standard error, and \"worst\" or largest (mean of the three\\n        largest values) of these features were computed for each image,\\n        resulting in 30 features.  For instance, field 3 is Mean Radius, field\\n        13 is Radius SE, field 23 is Worst Radius.\\n\\n        - class:\\n                - WDBC-Malignant\\n                - WDBC-Benign\\n\\n    :Summary Statistics:\\n\\n    ===================================== ====== ======\\n                                           Min    Max\\n    ===================================== ====== ======\\n    radius (mean):                        6.981  28.11\\n    texture (mean):                       9.71   39.28\\n    perimeter (mean):                     43.79  188.5\\n    area (mean):                          143.5  2501.0\\n    smoothness (mean):                    0.053  0.163\\n    compactness (mean):                   0.019  0.345\\n    concavity (mean):                     0.0    0.427\\n    concave points (mean):                0.0    0.201\\n    symmetry (mean):                      0.106  0.304\\n    fractal dimension (mean):             0.05   0.097\\n    radius (standard error):              0.112  2.873\\n    texture (standard error):             0.36   4.885\\n    perimeter (standard error):           0.757  21.98\\n    area (standard error):                6.802  542.2\\n    smoothness (standard error):          0.002  0.031\\n    compactness (standard error):         0.002  0.135\\n    concavity (standard error):           0.0    0.396\\n    concave points (standard error):      0.0    0.053\\n    symmetry (standard error):            0.008  0.079\\n    fractal dimension (standard error):   0.001  0.03\\n    radius (worst):                       7.93   36.04\\n    texture (worst):                      12.02  49.54\\n    perimeter (worst):                    50.41  251.2\\n    area (worst):                         185.2  4254.0\\n    smoothness (worst):                   0.071  0.223\\n    compactness (worst):                  0.027  1.058\\n    concavity (worst):                    0.0    1.252\\n    concave points (worst):               0.0    0.291\\n    symmetry (worst):                     0.156  0.664\\n    fractal dimension (worst):            0.055  0.208\\n    ===================================== ====== ======\\n\\n    :Missing Attribute Values: None\\n\\n    :Class Distribution: 212 - Malignant, 357 - Benign\\n\\n    :Creator:  Dr. William H. Wolberg, W. Nick Street, Olvi L. Mangasarian\\n\\n    :Donor: Nick Street\\n\\n    :Date: November, 1995\\n\\nThis is a copy of UCI ML Breast Cancer Wisconsin (Diagnostic) datasets.\\nhttps://goo.gl/U2Uwz2\\n\\nFeatures are computed from a digitized image of a fine needle\\naspirate (FNA) of a breast mass.  They describe\\ncharacteristics of the cell nuclei present in the image.\\n\\nSeparating plane described above was obtained using\\nMultisurface Method-Tree (MSM-T) [K. P. Bennett, \"Decision Tree\\nConstruction Via Linear Programming.\" Proceedings of the 4th\\nMidwest Artificial Intelligence and Cognitive Science Society,\\npp. 97-101, 1992], a classification method which uses linear\\nprogramming to construct a decision tree.  Relevant features\\nwere selected using an exhaustive search in the space of 1-4\\nfeatures and 1-3 separating planes.\\n\\nThe actual linear program used to obtain the separating plane\\nin the 3-dimensional space is that described in:\\n[K. P. Bennett and O. L. Mangasarian: \"Robust Linear\\nProgramming Discrimination of Two Linearly Inseparable Sets\",\\nOptimization Methods and Software 1, 1992, 23-34].\\n\\nThis database is also available through the UW CS ftp server:\\n\\nftp ftp.cs.wisc.edu\\ncd math-prog/cpo-dataset/machine-learn/WDBC/\\n\\n.. topic:: References\\n\\n   - W.N. Street, W.H. Wolberg and O.L. Mangasarian. Nuclear feature extraction \\n     for breast tumor diagnosis. IS&T/SPIE 1993 International Symposium on \\n     Electronic Imaging: Science and Technology, volume 1905, pages 861-870,\\n     San Jose, CA, 1993.\\n   - O.L. Mangasarian, W.N. Street and W.H. Wolberg. Breast cancer diagnosis and \\n     prognosis via linear programming. Operations Research, 43(4), pages 570-577, \\n     July-August 1995.\\n   - W.H. Wolberg, W.N. Street, and O.L. Mangasarian. Machine learning techniques\\n     to diagnose breast cancer from fine-needle aspirates. Cancer Letters 77 (1994) \\n     163-171.'"
      ]
     },
     "execution_count": 14,
     "metadata": {},
     "output_type": "execute_result"
    }
   ],
   "source": [
    "df.DESCR"
   ]
  },
  {
   "cell_type": "code",
   "execution_count": 15,
   "metadata": {
    "id": "aMl2beqXSrvi"
   },
   "outputs": [],
   "source": [
    "dataf ['target']= df.target"
   ]
  },
  {
   "cell_type": "code",
   "execution_count": 16,
   "metadata": {
    "colab": {
     "base_uri": "https://localhost:8080/"
    },
    "id": "RaVn8m36TA1G",
    "outputId": "24892d12-8025-4b39-84fe-421a85ab9291"
   },
   "outputs": [
    {
     "data": {
      "text/plain": [
       "(569, 31)"
      ]
     },
     "execution_count": 16,
     "metadata": {},
     "output_type": "execute_result"
    }
   ],
   "source": [
    "dataf.shape"
   ]
  },
  {
   "cell_type": "code",
   "execution_count": 17,
   "metadata": {
    "colab": {
     "base_uri": "https://localhost:8080/",
     "height": 232
    },
    "id": "DYH6g9IeTDrR",
    "outputId": "2e318fc0-cfc0-4a16-cb33-3641019afbfa"
   },
   "outputs": [
    {
     "data": {
      "text/html": [
       "<div>\n",
       "<style scoped>\n",
       "    .dataframe tbody tr th:only-of-type {\n",
       "        vertical-align: middle;\n",
       "    }\n",
       "\n",
       "    .dataframe tbody tr th {\n",
       "        vertical-align: top;\n",
       "    }\n",
       "\n",
       "    .dataframe thead th {\n",
       "        text-align: right;\n",
       "    }\n",
       "</style>\n",
       "<table border=\"1\" class=\"dataframe\">\n",
       "  <thead>\n",
       "    <tr style=\"text-align: right;\">\n",
       "      <th></th>\n",
       "      <th>0</th>\n",
       "      <th>1</th>\n",
       "      <th>2</th>\n",
       "      <th>3</th>\n",
       "      <th>4</th>\n",
       "      <th>5</th>\n",
       "      <th>6</th>\n",
       "      <th>7</th>\n",
       "      <th>8</th>\n",
       "      <th>9</th>\n",
       "      <th>...</th>\n",
       "      <th>21</th>\n",
       "      <th>22</th>\n",
       "      <th>23</th>\n",
       "      <th>24</th>\n",
       "      <th>25</th>\n",
       "      <th>26</th>\n",
       "      <th>27</th>\n",
       "      <th>28</th>\n",
       "      <th>29</th>\n",
       "      <th>target</th>\n",
       "    </tr>\n",
       "  </thead>\n",
       "  <tbody>\n",
       "    <tr>\n",
       "      <th>0</th>\n",
       "      <td>17.99</td>\n",
       "      <td>10.38</td>\n",
       "      <td>122.80</td>\n",
       "      <td>1001.0</td>\n",
       "      <td>0.11840</td>\n",
       "      <td>0.27760</td>\n",
       "      <td>0.3001</td>\n",
       "      <td>0.14710</td>\n",
       "      <td>0.2419</td>\n",
       "      <td>0.07871</td>\n",
       "      <td>...</td>\n",
       "      <td>17.33</td>\n",
       "      <td>184.60</td>\n",
       "      <td>2019.0</td>\n",
       "      <td>0.1622</td>\n",
       "      <td>0.6656</td>\n",
       "      <td>0.7119</td>\n",
       "      <td>0.2654</td>\n",
       "      <td>0.4601</td>\n",
       "      <td>0.11890</td>\n",
       "      <td>0</td>\n",
       "    </tr>\n",
       "    <tr>\n",
       "      <th>1</th>\n",
       "      <td>20.57</td>\n",
       "      <td>17.77</td>\n",
       "      <td>132.90</td>\n",
       "      <td>1326.0</td>\n",
       "      <td>0.08474</td>\n",
       "      <td>0.07864</td>\n",
       "      <td>0.0869</td>\n",
       "      <td>0.07017</td>\n",
       "      <td>0.1812</td>\n",
       "      <td>0.05667</td>\n",
       "      <td>...</td>\n",
       "      <td>23.41</td>\n",
       "      <td>158.80</td>\n",
       "      <td>1956.0</td>\n",
       "      <td>0.1238</td>\n",
       "      <td>0.1866</td>\n",
       "      <td>0.2416</td>\n",
       "      <td>0.1860</td>\n",
       "      <td>0.2750</td>\n",
       "      <td>0.08902</td>\n",
       "      <td>0</td>\n",
       "    </tr>\n",
       "    <tr>\n",
       "      <th>2</th>\n",
       "      <td>19.69</td>\n",
       "      <td>21.25</td>\n",
       "      <td>130.00</td>\n",
       "      <td>1203.0</td>\n",
       "      <td>0.10960</td>\n",
       "      <td>0.15990</td>\n",
       "      <td>0.1974</td>\n",
       "      <td>0.12790</td>\n",
       "      <td>0.2069</td>\n",
       "      <td>0.05999</td>\n",
       "      <td>...</td>\n",
       "      <td>25.53</td>\n",
       "      <td>152.50</td>\n",
       "      <td>1709.0</td>\n",
       "      <td>0.1444</td>\n",
       "      <td>0.4245</td>\n",
       "      <td>0.4504</td>\n",
       "      <td>0.2430</td>\n",
       "      <td>0.3613</td>\n",
       "      <td>0.08758</td>\n",
       "      <td>0</td>\n",
       "    </tr>\n",
       "    <tr>\n",
       "      <th>3</th>\n",
       "      <td>11.42</td>\n",
       "      <td>20.38</td>\n",
       "      <td>77.58</td>\n",
       "      <td>386.1</td>\n",
       "      <td>0.14250</td>\n",
       "      <td>0.28390</td>\n",
       "      <td>0.2414</td>\n",
       "      <td>0.10520</td>\n",
       "      <td>0.2597</td>\n",
       "      <td>0.09744</td>\n",
       "      <td>...</td>\n",
       "      <td>26.50</td>\n",
       "      <td>98.87</td>\n",
       "      <td>567.7</td>\n",
       "      <td>0.2098</td>\n",
       "      <td>0.8663</td>\n",
       "      <td>0.6869</td>\n",
       "      <td>0.2575</td>\n",
       "      <td>0.6638</td>\n",
       "      <td>0.17300</td>\n",
       "      <td>0</td>\n",
       "    </tr>\n",
       "    <tr>\n",
       "      <th>4</th>\n",
       "      <td>20.29</td>\n",
       "      <td>14.34</td>\n",
       "      <td>135.10</td>\n",
       "      <td>1297.0</td>\n",
       "      <td>0.10030</td>\n",
       "      <td>0.13280</td>\n",
       "      <td>0.1980</td>\n",
       "      <td>0.10430</td>\n",
       "      <td>0.1809</td>\n",
       "      <td>0.05883</td>\n",
       "      <td>...</td>\n",
       "      <td>16.67</td>\n",
       "      <td>152.20</td>\n",
       "      <td>1575.0</td>\n",
       "      <td>0.1374</td>\n",
       "      <td>0.2050</td>\n",
       "      <td>0.4000</td>\n",
       "      <td>0.1625</td>\n",
       "      <td>0.2364</td>\n",
       "      <td>0.07678</td>\n",
       "      <td>0</td>\n",
       "    </tr>\n",
       "  </tbody>\n",
       "</table>\n",
       "<p>5 rows × 31 columns</p>\n",
       "</div>"
      ],
      "text/plain": [
       "       0      1       2       3        4        5       6        7       8  \\\n",
       "0  17.99  10.38  122.80  1001.0  0.11840  0.27760  0.3001  0.14710  0.2419   \n",
       "1  20.57  17.77  132.90  1326.0  0.08474  0.07864  0.0869  0.07017  0.1812   \n",
       "2  19.69  21.25  130.00  1203.0  0.10960  0.15990  0.1974  0.12790  0.2069   \n",
       "3  11.42  20.38   77.58   386.1  0.14250  0.28390  0.2414  0.10520  0.2597   \n",
       "4  20.29  14.34  135.10  1297.0  0.10030  0.13280  0.1980  0.10430  0.1809   \n",
       "\n",
       "         9  ...     21      22      23      24      25      26      27  \\\n",
       "0  0.07871  ...  17.33  184.60  2019.0  0.1622  0.6656  0.7119  0.2654   \n",
       "1  0.05667  ...  23.41  158.80  1956.0  0.1238  0.1866  0.2416  0.1860   \n",
       "2  0.05999  ...  25.53  152.50  1709.0  0.1444  0.4245  0.4504  0.2430   \n",
       "3  0.09744  ...  26.50   98.87   567.7  0.2098  0.8663  0.6869  0.2575   \n",
       "4  0.05883  ...  16.67  152.20  1575.0  0.1374  0.2050  0.4000  0.1625   \n",
       "\n",
       "       28       29  target  \n",
       "0  0.4601  0.11890       0  \n",
       "1  0.2750  0.08902       0  \n",
       "2  0.3613  0.08758       0  \n",
       "3  0.6638  0.17300       0  \n",
       "4  0.2364  0.07678       0  \n",
       "\n",
       "[5 rows x 31 columns]"
      ]
     },
     "execution_count": 17,
     "metadata": {},
     "output_type": "execute_result"
    }
   ],
   "source": [
    "dataf.head()"
   ]
  },
  {
   "cell_type": "markdown",
   "metadata": {
    "id": "BUTgXPceTYk9"
   },
   "source": [
    "## Spitting Data Test and Train"
   ]
  },
  {
   "cell_type": "code",
   "execution_count": 18,
   "metadata": {
    "id": "w5zW8f4ITmn8"
   },
   "outputs": [],
   "source": [
    "from sklearn.model_selection import train_test_split"
   ]
  },
  {
   "cell_type": "code",
   "execution_count": 19,
   "metadata": {
    "id": "x9jmJpJhUgtT"
   },
   "outputs": [],
   "source": [
    "X= dataf.iloc[:, :-1]\n",
    "y= dataf.iloc[:, -1]"
   ]
  },
  {
   "cell_type": "code",
   "execution_count": 20,
   "metadata": {
    "id": "6PdURKv0URGP"
   },
   "outputs": [],
   "source": [
    "X_train, X_test, y_train, y_test = train_test_split(X, y, test_size =0.33)"
   ]
  },
  {
   "cell_type": "code",
   "execution_count": 21,
   "metadata": {
    "colab": {
     "base_uri": "https://localhost:8080/"
    },
    "id": "F1T_nhLmU6Zv",
    "outputId": "dd78e049-de70-41e4-e5e1-ecd02dddbea3"
   },
   "outputs": [
    {
     "name": "stdout",
     "output_type": "stream",
     "text": [
      "(381, 30) (188, 30) (381,) (188,)\n"
     ]
    }
   ],
   "source": [
    "print(X_train.shape, X_test.shape, y_train.shape, y_test.shape)"
   ]
  },
  {
   "cell_type": "markdown",
   "metadata": {
    "id": "twdTZqNJVJJX"
   },
   "source": [
    "## Scaling the Data"
   ]
  },
  {
   "cell_type": "code",
   "execution_count": 22,
   "metadata": {
    "id": "om6SC3asVN-Q"
   },
   "outputs": [],
   "source": [
    "from sklearn.preprocessing import StandardScaler"
   ]
  },
  {
   "cell_type": "code",
   "execution_count": 23,
   "metadata": {
    "id": "XD-p92b-VWri"
   },
   "outputs": [],
   "source": [
    "sc= StandardScaler()\n",
    "X_train = sc.fit_transform (X_train)\n",
    "X_test = sc.transform(X_test)"
   ]
  },
  {
   "cell_type": "code",
   "execution_count": 24,
   "metadata": {
    "id": "IJWEQaNoVrNE"
   },
   "outputs": [],
   "source": [
    "N, D = X_train.shape"
   ]
  },
  {
   "cell_type": "markdown",
   "metadata": {
    "id": "bvDuqqaHVuX6"
   },
   "source": [
    "## Lets Dive Into Tensorflow"
   ]
  },
  {
   "cell_type": "code",
   "execution_count": 25,
   "metadata": {
    "id": "93TbmyqhV9Mt"
   },
   "outputs": [],
   "source": [
    "'''\n",
    "First we are going to build a model object which is an object type \"Sequential\".\n",
    "This takes in a layer of two Objests\n",
    "          1. Input Layer and \n",
    "          2. Dense Layer\n",
    "1. Input layer : is like a placeholder to specify the size of the i/p. (i.e) in our case 30(No.of. Columns)\n",
    "2. Dense Layer : the real work happens here. It takes i/p and perform a linear Transform to produce output as in  the size 0f [0-1]\n",
    " \n",
    " '''\n",
    "# 1 st way of Defining a model\n",
    "'''\n",
    "model = tf.keras.models.Sequential(\n",
    "    tf.keras.Input(shape = (D, )),\n",
    "    tf.keras.layers. Dense(1, input_shape = (D,),\n",
    "    activation= 'sigmoid')\n",
    ")\n",
    "'''\n",
    "#2nd way of Defining a model \n",
    "model = tf.keras.models.Sequential()\n",
    "model.add(\n",
    "        tf.keras.layers.Dense(1, input_shape=(D,), activation='sigmoid')\n",
    ") \n",
    "#Here 1 - means we are pssing D no.of i/p's to a single perceptron. \n",
    "#Sigmoid will give o/p in the range of [0 - 1]\n",
    "## https://www.tensorflow.org/api_docs/python/tf/keras/Sequential\n"
   ]
  },
  {
   "cell_type": "code",
   "execution_count": 26,
   "metadata": {
    "id": "xHi9VfdGhiJe"
   },
   "outputs": [],
   "source": [
    "#Building a Model \n",
    "# Lets now call the \"compile\" wherein we pass \"adam\" as our optimizer, \"binary_cross_entropy\" as our loss, and \"accuracy\" as our metrics.\n",
    "model.compile (optimizer = 'adam',\n",
    "                loss = 'binary_crossentropy',\n",
    "                metrics = ['accuracy']\n",
    "              \n",
    ")"
   ]
  },
  {
   "cell_type": "code",
   "execution_count": 27,
   "metadata": {
    "colab": {
     "base_uri": "https://localhost:8080/"
    },
    "id": "dC-jA3vQlEF_",
    "outputId": "41597322-a59a-41ac-c413-d5fd27717708"
   },
   "outputs": [
    {
     "name": "stdout",
     "output_type": "stream",
     "text": [
      "Epoch 1/100\n",
      "12/12 [==============================] - 7s 130ms/step - loss: 0.9045 - accuracy: 0.4173 - val_loss: 0.7949 - val_accuracy: 0.5000\n",
      "Epoch 2/100\n",
      "12/12 [==============================] - 1s 71ms/step - loss: 0.8151 - accuracy: 0.4961 - val_loss: 0.7250 - val_accuracy: 0.5426\n",
      "Epoch 3/100\n",
      "12/12 [==============================] - 1s 47ms/step - loss: 0.7348 - accuracy: 0.5722 - val_loss: 0.6630 - val_accuracy: 0.6117\n",
      "Epoch 4/100\n",
      "12/12 [==============================] - 0s 44ms/step - loss: 0.6651 - accuracy: 0.6352 - val_loss: 0.6092 - val_accuracy: 0.6755\n",
      "Epoch 5/100\n",
      "12/12 [==============================] - 1s 64ms/step - loss: 0.6056 - accuracy: 0.6877 - val_loss: 0.5627 - val_accuracy: 0.7181\n",
      "Epoch 6/100\n",
      "12/12 [==============================] - 0s 21ms/step - loss: 0.5548 - accuracy: 0.7349 - val_loss: 0.5226 - val_accuracy: 0.7394\n",
      "Epoch 7/100\n",
      "12/12 [==============================] - 0s 41ms/step - loss: 0.5111 - accuracy: 0.7848 - val_loss: 0.4883 - val_accuracy: 0.7713\n",
      "Epoch 8/100\n",
      "12/12 [==============================] - 0s 38ms/step - loss: 0.4731 - accuracy: 0.8163 - val_loss: 0.4592 - val_accuracy: 0.8032\n",
      "Epoch 9/100\n",
      "12/12 [==============================] - 0s 43ms/step - loss: 0.4414 - accuracy: 0.8320 - val_loss: 0.4333 - val_accuracy: 0.8298\n",
      "Epoch 10/100\n",
      "12/12 [==============================] - 0s 16ms/step - loss: 0.4128 - accuracy: 0.8451 - val_loss: 0.4107 - val_accuracy: 0.8457\n",
      "Epoch 11/100\n",
      "12/12 [==============================] - 1s 48ms/step - loss: 0.3885 - accuracy: 0.8478 - val_loss: 0.3904 - val_accuracy: 0.8457\n",
      "Epoch 12/100\n",
      "12/12 [==============================] - 1s 48ms/step - loss: 0.3661 - accuracy: 0.8609 - val_loss: 0.3728 - val_accuracy: 0.8511\n",
      "Epoch 13/100\n",
      "12/12 [==============================] - 0s 24ms/step - loss: 0.3468 - accuracy: 0.8819 - val_loss: 0.3568 - val_accuracy: 0.8617\n",
      "Epoch 14/100\n",
      "12/12 [==============================] - 0s 13ms/step - loss: 0.3293 - accuracy: 0.8924 - val_loss: 0.3427 - val_accuracy: 0.8723\n",
      "Epoch 15/100\n",
      "12/12 [==============================] - 1s 44ms/step - loss: 0.3135 - accuracy: 0.9003 - val_loss: 0.3297 - val_accuracy: 0.8830\n",
      "Epoch 16/100\n",
      "12/12 [==============================] - 1s 55ms/step - loss: 0.2994 - accuracy: 0.9055 - val_loss: 0.3182 - val_accuracy: 0.8830\n",
      "Epoch 17/100\n",
      "12/12 [==============================] - 0s 13ms/step - loss: 0.2866 - accuracy: 0.9160 - val_loss: 0.3076 - val_accuracy: 0.8883\n",
      "Epoch 18/100\n",
      "12/12 [==============================] - 0s 33ms/step - loss: 0.2749 - accuracy: 0.9186 - val_loss: 0.2977 - val_accuracy: 0.8936\n",
      "Epoch 19/100\n",
      "12/12 [==============================] - 0s 24ms/step - loss: 0.2641 - accuracy: 0.9265 - val_loss: 0.2890 - val_accuracy: 0.9043\n",
      "Epoch 20/100\n",
      "12/12 [==============================] - 0s 20ms/step - loss: 0.2544 - accuracy: 0.9318 - val_loss: 0.2806 - val_accuracy: 0.9043\n",
      "Epoch 21/100\n",
      "12/12 [==============================] - 1s 53ms/step - loss: 0.2450 - accuracy: 0.9344 - val_loss: 0.2733 - val_accuracy: 0.9096\n",
      "Epoch 22/100\n",
      "12/12 [==============================] - 0s 22ms/step - loss: 0.2369 - accuracy: 0.9396 - val_loss: 0.2663 - val_accuracy: 0.9096\n",
      "Epoch 23/100\n",
      "12/12 [==============================] - 1s 59ms/step - loss: 0.2291 - accuracy: 0.9423 - val_loss: 0.2598 - val_accuracy: 0.9096\n",
      "Epoch 24/100\n",
      "12/12 [==============================] - 0s 15ms/step - loss: 0.2219 - accuracy: 0.9449 - val_loss: 0.2539 - val_accuracy: 0.9202\n",
      "Epoch 25/100\n",
      "12/12 [==============================] - 1s 54ms/step - loss: 0.2154 - accuracy: 0.9475 - val_loss: 0.2483 - val_accuracy: 0.9202\n",
      "Epoch 26/100\n",
      "12/12 [==============================] - 0s 19ms/step - loss: 0.2090 - accuracy: 0.9475 - val_loss: 0.2431 - val_accuracy: 0.9202\n",
      "Epoch 27/100\n",
      "12/12 [==============================] - 1s 58ms/step - loss: 0.2032 - accuracy: 0.9554 - val_loss: 0.2383 - val_accuracy: 0.9202\n",
      "Epoch 28/100\n",
      "12/12 [==============================] - 0s 38ms/step - loss: 0.1979 - accuracy: 0.9580 - val_loss: 0.2336 - val_accuracy: 0.9255\n",
      "Epoch 29/100\n",
      "12/12 [==============================] - 1s 55ms/step - loss: 0.1928 - accuracy: 0.9606 - val_loss: 0.2293 - val_accuracy: 0.9255\n",
      "Epoch 30/100\n",
      "12/12 [==============================] - 0s 19ms/step - loss: 0.1880 - accuracy: 0.9685 - val_loss: 0.2254 - val_accuracy: 0.9362\n",
      "Epoch 31/100\n",
      "12/12 [==============================] - 1s 58ms/step - loss: 0.1834 - accuracy: 0.9685 - val_loss: 0.2216 - val_accuracy: 0.9362\n",
      "Epoch 32/100\n",
      "12/12 [==============================] - 1s 60ms/step - loss: 0.1792 - accuracy: 0.9685 - val_loss: 0.2179 - val_accuracy: 0.9362\n",
      "Epoch 33/100\n",
      "12/12 [==============================] - 1s 70ms/step - loss: 0.1752 - accuracy: 0.9685 - val_loss: 0.2147 - val_accuracy: 0.9362\n",
      "Epoch 34/100\n",
      "12/12 [==============================] - 1s 79ms/step - loss: 0.1716 - accuracy: 0.9711 - val_loss: 0.2113 - val_accuracy: 0.9362\n",
      "Epoch 35/100\n",
      "12/12 [==============================] - 0s 33ms/step - loss: 0.1678 - accuracy: 0.9711 - val_loss: 0.2084 - val_accuracy: 0.9415\n",
      "Epoch 36/100\n",
      "12/12 [==============================] - 1s 82ms/step - loss: 0.1644 - accuracy: 0.9711 - val_loss: 0.2054 - val_accuracy: 0.9415\n",
      "Epoch 37/100\n",
      "12/12 [==============================] - 0s 28ms/step - loss: 0.1612 - accuracy: 0.9711 - val_loss: 0.2028 - val_accuracy: 0.9415\n",
      "Epoch 38/100\n",
      "12/12 [==============================] - 1s 76ms/step - loss: 0.1581 - accuracy: 0.9711 - val_loss: 0.2002 - val_accuracy: 0.9415\n",
      "Epoch 39/100\n",
      "12/12 [==============================] - 0s 42ms/step - loss: 0.1553 - accuracy: 0.9738 - val_loss: 0.1977 - val_accuracy: 0.9415\n",
      "Epoch 40/100\n",
      "12/12 [==============================] - 1s 64ms/step - loss: 0.1524 - accuracy: 0.9738 - val_loss: 0.1953 - val_accuracy: 0.9415\n",
      "Epoch 41/100\n",
      "12/12 [==============================] - 0s 40ms/step - loss: 0.1498 - accuracy: 0.9738 - val_loss: 0.1931 - val_accuracy: 0.9415\n",
      "Epoch 42/100\n",
      "12/12 [==============================] - 1s 92ms/step - loss: 0.1472 - accuracy: 0.9738 - val_loss: 0.1909 - val_accuracy: 0.9415\n",
      "Epoch 43/100\n",
      "12/12 [==============================] - 0s 45ms/step - loss: 0.1448 - accuracy: 0.9738 - val_loss: 0.1889 - val_accuracy: 0.9415\n",
      "Epoch 44/100\n",
      "12/12 [==============================] - 1s 81ms/step - loss: 0.1425 - accuracy: 0.9738 - val_loss: 0.1869 - val_accuracy: 0.9415\n",
      "Epoch 45/100\n",
      "12/12 [==============================] - 0s 23ms/step - loss: 0.1403 - accuracy: 0.9738 - val_loss: 0.1851 - val_accuracy: 0.9415\n",
      "Epoch 46/100\n",
      "12/12 [==============================] - 0s 29ms/step - loss: 0.1382 - accuracy: 0.9764 - val_loss: 0.1832 - val_accuracy: 0.9415\n",
      "Epoch 47/100\n",
      "12/12 [==============================] - 1s 65ms/step - loss: 0.1361 - accuracy: 0.9764 - val_loss: 0.1815 - val_accuracy: 0.9415\n",
      "Epoch 48/100\n",
      "12/12 [==============================] - 1s 78ms/step - loss: 0.1342 - accuracy: 0.9764 - val_loss: 0.1799 - val_accuracy: 0.9415\n",
      "Epoch 49/100\n",
      "12/12 [==============================] - 1s 63ms/step - loss: 0.1324 - accuracy: 0.9764 - val_loss: 0.1783 - val_accuracy: 0.9415\n",
      "Epoch 50/100\n",
      "12/12 [==============================] - 0s 14ms/step - loss: 0.1305 - accuracy: 0.9764 - val_loss: 0.1767 - val_accuracy: 0.9468\n",
      "Epoch 51/100\n",
      "12/12 [==============================] - 0s 45ms/step - loss: 0.1288 - accuracy: 0.9764 - val_loss: 0.1753 - val_accuracy: 0.9468\n",
      "Epoch 52/100\n",
      "12/12 [==============================] - 0s 23ms/step - loss: 0.1271 - accuracy: 0.9764 - val_loss: 0.1739 - val_accuracy: 0.9468\n",
      "Epoch 53/100\n",
      "12/12 [==============================] - 1s 47ms/step - loss: 0.1255 - accuracy: 0.9764 - val_loss: 0.1726 - val_accuracy: 0.9468\n",
      "Epoch 54/100\n",
      "12/12 [==============================] - 0s 23ms/step - loss: 0.1240 - accuracy: 0.9764 - val_loss: 0.1713 - val_accuracy: 0.9468\n",
      "Epoch 55/100\n",
      "12/12 [==============================] - 1s 71ms/step - loss: 0.1224 - accuracy: 0.9764 - val_loss: 0.1701 - val_accuracy: 0.9468\n",
      "Epoch 56/100\n",
      "12/12 [==============================] - 0s 15ms/step - loss: 0.1210 - accuracy: 0.9764 - val_loss: 0.1688 - val_accuracy: 0.9468\n",
      "Epoch 57/100\n",
      "12/12 [==============================] - 0s 25ms/step - loss: 0.1196 - accuracy: 0.9790 - val_loss: 0.1676 - val_accuracy: 0.9468\n",
      "Epoch 58/100\n"
     ]
    },
    {
     "name": "stdout",
     "output_type": "stream",
     "text": [
      "12/12 [==============================] - 1s 60ms/step - loss: 0.1183 - accuracy: 0.9790 - val_loss: 0.1665 - val_accuracy: 0.9468\n",
      "Epoch 59/100\n",
      "12/12 [==============================] - 0s 34ms/step - loss: 0.1170 - accuracy: 0.9790 - val_loss: 0.1653 - val_accuracy: 0.9468\n",
      "Epoch 60/100\n",
      "12/12 [==============================] - 1s 53ms/step - loss: 0.1157 - accuracy: 0.9790 - val_loss: 0.1643 - val_accuracy: 0.9468\n",
      "Epoch 61/100\n",
      "12/12 [==============================] - 0s 21ms/step - loss: 0.1145 - accuracy: 0.9790 - val_loss: 0.1633 - val_accuracy: 0.9468\n",
      "Epoch 62/100\n",
      "12/12 [==============================] - 1s 49ms/step - loss: 0.1133 - accuracy: 0.9790 - val_loss: 0.1623 - val_accuracy: 0.9468\n",
      "Epoch 63/100\n",
      "12/12 [==============================] - 0s 21ms/step - loss: 0.1121 - accuracy: 0.9790 - val_loss: 0.1613 - val_accuracy: 0.9468\n",
      "Epoch 64/100\n",
      "12/12 [==============================] - 1s 60ms/step - loss: 0.1110 - accuracy: 0.9790 - val_loss: 0.1604 - val_accuracy: 0.9468\n",
      "Epoch 65/100\n",
      "12/12 [==============================] - 0s 22ms/step - loss: 0.1099 - accuracy: 0.9790 - val_loss: 0.1595 - val_accuracy: 0.9468\n",
      "Epoch 66/100\n",
      "12/12 [==============================] - 1s 73ms/step - loss: 0.1088 - accuracy: 0.9790 - val_loss: 0.1586 - val_accuracy: 0.9415\n",
      "Epoch 67/100\n",
      "12/12 [==============================] - 0s 19ms/step - loss: 0.1078 - accuracy: 0.9790 - val_loss: 0.1577 - val_accuracy: 0.9415\n",
      "Epoch 68/100\n",
      "12/12 [==============================] - 0s 20ms/step - loss: 0.1068 - accuracy: 0.9790 - val_loss: 0.1568 - val_accuracy: 0.9415\n",
      "Epoch 69/100\n",
      "12/12 [==============================] - 1s 61ms/step - loss: 0.1058 - accuracy: 0.9790 - val_loss: 0.1561 - val_accuracy: 0.9415\n",
      "Epoch 70/100\n",
      "12/12 [==============================] - 0s 22ms/step - loss: 0.1049 - accuracy: 0.9790 - val_loss: 0.1553 - val_accuracy: 0.9415\n",
      "Epoch 71/100\n",
      "12/12 [==============================] - 1s 54ms/step - loss: 0.1040 - accuracy: 0.9790 - val_loss: 0.1545 - val_accuracy: 0.9415\n",
      "Epoch 72/100\n",
      "12/12 [==============================] - 0s 21ms/step - loss: 0.1031 - accuracy: 0.9790 - val_loss: 0.1538 - val_accuracy: 0.9415\n",
      "Epoch 73/100\n",
      "12/12 [==============================] - 1s 55ms/step - loss: 0.1022 - accuracy: 0.9790 - val_loss: 0.1530 - val_accuracy: 0.9415\n",
      "Epoch 74/100\n",
      "12/12 [==============================] - 0s 25ms/step - loss: 0.1013 - accuracy: 0.9790 - val_loss: 0.1524 - val_accuracy: 0.9415\n",
      "Epoch 75/100\n",
      "12/12 [==============================] - 1s 51ms/step - loss: 0.1006 - accuracy: 0.9790 - val_loss: 0.1518 - val_accuracy: 0.9415\n",
      "Epoch 76/100\n",
      "12/12 [==============================] - 1s 52ms/step - loss: 0.0997 - accuracy: 0.9790 - val_loss: 0.1511 - val_accuracy: 0.9415\n",
      "Epoch 77/100\n",
      "12/12 [==============================] - 0s 21ms/step - loss: 0.0989 - accuracy: 0.9790 - val_loss: 0.1504 - val_accuracy: 0.9415\n",
      "Epoch 78/100\n",
      "12/12 [==============================] - 0s 29ms/step - loss: 0.0982 - accuracy: 0.9790 - val_loss: 0.1498 - val_accuracy: 0.9415\n",
      "Epoch 79/100\n",
      "12/12 [==============================] - 0s 32ms/step - loss: 0.0974 - accuracy: 0.9790 - val_loss: 0.1492 - val_accuracy: 0.9415\n",
      "Epoch 80/100\n",
      "12/12 [==============================] - 0s 30ms/step - loss: 0.0967 - accuracy: 0.9790 - val_loss: 0.1485 - val_accuracy: 0.9415\n",
      "Epoch 81/100\n",
      "12/12 [==============================] - 0s 10ms/step - loss: 0.0960 - accuracy: 0.9790 - val_loss: 0.1480 - val_accuracy: 0.9415\n",
      "Epoch 82/100\n",
      "12/12 [==============================] - 1s 47ms/step - loss: 0.0953 - accuracy: 0.9790 - val_loss: 0.1474 - val_accuracy: 0.9415\n",
      "Epoch 83/100\n",
      "12/12 [==============================] - 0s 13ms/step - loss: 0.0946 - accuracy: 0.9790 - val_loss: 0.1469 - val_accuracy: 0.9415\n",
      "Epoch 84/100\n",
      "12/12 [==============================] - 1s 44ms/step - loss: 0.0939 - accuracy: 0.9790 - val_loss: 0.1463 - val_accuracy: 0.9415\n",
      "Epoch 85/100\n",
      "12/12 [==============================] - 0s 12ms/step - loss: 0.0932 - accuracy: 0.9790 - val_loss: 0.1458 - val_accuracy: 0.9415\n",
      "Epoch 86/100\n",
      "12/12 [==============================] - 1s 46ms/step - loss: 0.0926 - accuracy: 0.9790 - val_loss: 0.1452 - val_accuracy: 0.9415\n",
      "Epoch 87/100\n",
      "12/12 [==============================] - 0s 18ms/step - loss: 0.0920 - accuracy: 0.9816 - val_loss: 0.1448 - val_accuracy: 0.9415\n",
      "Epoch 88/100\n",
      "12/12 [==============================] - 1s 54ms/step - loss: 0.0914 - accuracy: 0.9816 - val_loss: 0.1443 - val_accuracy: 0.9415\n",
      "Epoch 89/100\n",
      "12/12 [==============================] - 0s 15ms/step - loss: 0.0908 - accuracy: 0.9816 - val_loss: 0.1438 - val_accuracy: 0.9415\n",
      "Epoch 90/100\n",
      "12/12 [==============================] - 1s 62ms/step - loss: 0.0902 - accuracy: 0.9816 - val_loss: 0.1432 - val_accuracy: 0.9415\n",
      "Epoch 91/100\n",
      "12/12 [==============================] - 0s 18ms/step - loss: 0.0896 - accuracy: 0.9816 - val_loss: 0.1428 - val_accuracy: 0.9415\n",
      "Epoch 92/100\n",
      "12/12 [==============================] - 0s 41ms/step - loss: 0.0890 - accuracy: 0.9816 - val_loss: 0.1424 - val_accuracy: 0.9415\n",
      "Epoch 93/100\n",
      "12/12 [==============================] - 0s 26ms/step - loss: 0.0885 - accuracy: 0.9816 - val_loss: 0.1419 - val_accuracy: 0.9415\n",
      "Epoch 94/100\n",
      "12/12 [==============================] - 0s 18ms/step - loss: 0.0879 - accuracy: 0.9816 - val_loss: 0.1415 - val_accuracy: 0.9415\n",
      "Epoch 95/100\n",
      "12/12 [==============================] - 1s 53ms/step - loss: 0.0874 - accuracy: 0.9816 - val_loss: 0.1411 - val_accuracy: 0.9415\n",
      "Epoch 96/100\n",
      "12/12 [==============================] - 0s 18ms/step - loss: 0.0868 - accuracy: 0.9816 - val_loss: 0.1407 - val_accuracy: 0.9415\n",
      "Epoch 97/100\n",
      "12/12 [==============================] - 1s 51ms/step - loss: 0.0863 - accuracy: 0.9816 - val_loss: 0.1402 - val_accuracy: 0.9415\n",
      "Epoch 98/100\n",
      "12/12 [==============================] - 0s 39ms/step - loss: 0.0858 - accuracy: 0.9816 - val_loss: 0.1397 - val_accuracy: 0.9415\n",
      "Epoch 99/100\n",
      "12/12 [==============================] - 1s 50ms/step - loss: 0.0853 - accuracy: 0.9816 - val_loss: 0.1394 - val_accuracy: 0.9415\n",
      "Epoch 100/100\n",
      "12/12 [==============================] - 0s 26ms/step - loss: 0.0848 - accuracy: 0.9816 - val_loss: 0.1391 - val_accuracy: 0.9415\n"
     ]
    }
   ],
   "source": [
    "# Train the model for 100 epochs i.e 100 times\n",
    "r = model.fit (X_train, y_train, validation_data = (X_test, y_test), epochs = 100)"
   ]
  },
  {
   "cell_type": "markdown",
   "metadata": {},
   "source": [
    "Here model.fit returns an object and we are storning that in **r**. Which contains the intelligence and understanding of a prediction."
   ]
  },
  {
   "cell_type": "markdown",
   "metadata": {
    "id": "yFJQ1hZ2mc9H"
   },
   "source": [
    "## Evaluating Models Accuracy"
   ]
  },
  {
   "cell_type": "code",
   "execution_count": 28,
   "metadata": {
    "colab": {
     "base_uri": "https://localhost:8080/"
    },
    "id": "zo2SQBK3mi4_",
    "outputId": "c4f487a6-1a95-4a44-df86-6c242433869a"
   },
   "outputs": [
    {
     "name": "stdout",
     "output_type": "stream",
     "text": [
      "12/12 [==============================] - 0s 8ms/step - loss: 0.0845 - accuracy: 0.9816\n",
      "Train Accuracy:  [0.08450839668512344, 0.9816272854804993]\n",
      "6/6 [==============================] - 1s 5ms/step - loss: 0.1391 - accuracy: 0.9415\n",
      "Test Accuracy:  [0.13912329077720642, 0.9414893388748169]\n"
     ]
    }
   ],
   "source": [
    "# Evaluate the model - evaluate() returns loss and accuracy\n",
    "print(\"Train Accuracy: \", model.evaluate(X_train, y_train))\n",
    "print(\"Test Accuracy: \", model.evaluate(X_test, y_test))"
   ]
  },
  {
   "cell_type": "code",
   "execution_count": null,
   "metadata": {},
   "outputs": [],
   "source": []
  }
 ],
 "metadata": {
  "colab": {
   "authorship_tag": "ABX9TyNl/7qwEY3vCqruOssu20jk",
   "collapsed_sections": [],
   "include_colab_link": true,
   "name": "LinearClassification.ipynb",
   "provenance": []
  },
  "kernelspec": {
   "display_name": "Python 3",
   "language": "python",
   "name": "python3"
  },
  "language_info": {
   "codemirror_mode": {
    "name": "ipython",
    "version": 3
   },
   "file_extension": ".py",
   "mimetype": "text/x-python",
   "name": "python",
   "nbconvert_exporter": "python",
   "pygments_lexer": "ipython3",
   "version": "3.7.6"
  }
 },
 "nbformat": 4,
 "nbformat_minor": 5
}
