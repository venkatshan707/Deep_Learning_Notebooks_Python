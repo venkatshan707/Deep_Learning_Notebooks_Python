{
 "cells": [
  {
   "cell_type": "markdown",
   "metadata": {
    "colab_type": "text",
    "id": "view-in-github"
   },
   "source": [
    "<a href=\"https://colab.research.google.com/github/venkatshan707/Deep_Learning_Notebooks_Python/blob/main/LinearClassification(on Breast Cancer Prediction).ipynb\" target=\"_parent\"><img src=\"https://colab.research.google.com/assets/colab-badge.svg\" alt=\"Open In Colab\"/></a>"
   ]
  },
  {
   "cell_type": "code",
   "execution_count": 1,
   "metadata": {
    "id": "xcuCW52ILk0T"
   },
   "outputs": [],
   "source": [
    "import tensorflow as tf # Importing Tensorflow Library\n",
    "import pandas as pd\n",
    "import numpy as np"
   ]
  },
  {
   "cell_type": "code",
   "execution_count": 2,
   "metadata": {
    "colab": {
     "base_uri": "https://localhost:8080/"
    },
    "id": "DGNolGmAOwK2",
    "outputId": "6c52c7dc-8d8b-4558-c6f5-f28dcce26d90"
   },
   "outputs": [
    {
     "name": "stdout",
     "output_type": "stream",
     "text": [
      "2.8.2\n"
     ]
    }
   ],
   "source": [
    "print(tf.__version__)"
   ]
  },
  {
   "cell_type": "code",
   "execution_count": 3,
   "metadata": {
    "id": "EC8KLJAUPm1p"
   },
   "outputs": [],
   "source": [
    "# Loading breast cancer dataset from Sklearn \n",
    "from sklearn.datasets import load_breast_cancer\n",
    "df = load_breast_cancer()"
   ]
  },
  {
   "cell_type": "code",
   "execution_count": 4,
   "metadata": {
    "colab": {
     "base_uri": "https://localhost:8080/"
    },
    "id": "YZ6L9ppqQLTF",
    "outputId": "fc65d70c-74a0-4787-8901-43e8f4ff8d35"
   },
   "outputs": [
    {
     "data": {
      "text/plain": [
       "sklearn.utils.Bunch"
      ]
     },
     "execution_count": 4,
     "metadata": {},
     "output_type": "execute_result"
    }
   ],
   "source": [
    "type (df) # It's Bunch object"
   ]
  },
  {
   "cell_type": "code",
   "execution_count": 5,
   "metadata": {
    "colab": {
     "base_uri": "https://localhost:8080/"
    },
    "id": "1K9FODnJQVTi",
    "outputId": "3f34cf7f-d375-4e2c-da93-3cd07f75cadf"
   },
   "outputs": [
    {
     "data": {
      "text/plain": [
       "array([[1.799e+01, 1.038e+01, 1.228e+02, ..., 2.654e-01, 4.601e-01,\n",
       "        1.189e-01],\n",
       "       [2.057e+01, 1.777e+01, 1.329e+02, ..., 1.860e-01, 2.750e-01,\n",
       "        8.902e-02],\n",
       "       [1.969e+01, 2.125e+01, 1.300e+02, ..., 2.430e-01, 3.613e-01,\n",
       "        8.758e-02],\n",
       "       ...,\n",
       "       [1.660e+01, 2.808e+01, 1.083e+02, ..., 1.418e-01, 2.218e-01,\n",
       "        7.820e-02],\n",
       "       [2.060e+01, 2.933e+01, 1.401e+02, ..., 2.650e-01, 4.087e-01,\n",
       "        1.240e-01],\n",
       "       [7.760e+00, 2.454e+01, 4.792e+01, ..., 0.000e+00, 2.871e-01,\n",
       "        7.039e-02]])"
      ]
     },
     "execution_count": 5,
     "metadata": {},
     "output_type": "execute_result"
    }
   ],
   "source": [
    "df.data"
   ]
  },
  {
   "cell_type": "code",
   "execution_count": 6,
   "metadata": {
    "colab": {
     "base_uri": "https://localhost:8080/"
    },
    "id": "7RLy7e1HQcwp",
    "outputId": "93a59f4c-8878-4808-c233-ec285492c96a"
   },
   "outputs": [
    {
     "data": {
      "text/plain": [
       "dict_keys(['data', 'target', 'target_names', 'DESCR', 'feature_names', 'filename'])"
      ]
     },
     "execution_count": 6,
     "metadata": {},
     "output_type": "execute_result"
    }
   ],
   "source": [
    "df.keys()"
   ]
  },
  {
   "cell_type": "code",
   "execution_count": 7,
   "metadata": {
    "colab": {
     "base_uri": "https://localhost:8080/"
    },
    "id": "YUICLl20QmIE",
    "outputId": "c249db0c-204a-4df2-b80e-d851df744f90"
   },
   "outputs": [
    {
     "data": {
      "text/plain": [
       "(569, 30)"
      ]
     },
     "execution_count": 7,
     "metadata": {},
     "output_type": "execute_result"
    }
   ],
   "source": [
    "df.data.shape # We have 569 records of 30 independant variables."
   ]
  },
  {
   "cell_type": "code",
   "execution_count": 8,
   "metadata": {
    "id": "_KSRhUeVRFLq"
   },
   "outputs": [],
   "source": [
    "dataf = pd.DataFrame (df.data)"
   ]
  },
  {
   "cell_type": "code",
   "execution_count": 9,
   "metadata": {
    "colab": {
     "base_uri": "https://localhost:8080/"
    },
    "id": "yOshNjxzRL-L",
    "outputId": "6699f61d-2c0e-4ad9-dbac-cf5b9ac452b8"
   },
   "outputs": [
    {
     "name": "stderr",
     "output_type": "stream",
     "text": [
      "C:\\Users\\ELCOT\\anaconda3\\lib\\site-packages\\ipykernel_launcher.py:1: UserWarning: Pandas doesn't allow columns to be created via a new attribute name - see https://pandas.pydata.org/pandas-docs/stable/indexing.html#attribute-access\n",
      "  \"\"\"Entry point for launching an IPython kernel.\n"
     ]
    }
   ],
   "source": [
    "dataf.coulmns = df.feature_names"
   ]
  },
  {
   "cell_type": "code",
   "execution_count": 10,
   "metadata": {
    "colab": {
     "base_uri": "https://localhost:8080/"
    },
    "id": "I4AeN0cuRp55",
    "outputId": "f6ad1ba0-dd79-4bbc-bd05-40a6b6b82e63"
   },
   "outputs": [
    {
     "data": {
      "text/plain": [
       "array(['malignant', 'benign'], dtype='<U9')"
      ]
     },
     "execution_count": 10,
     "metadata": {},
     "output_type": "execute_result"
    }
   ],
   "source": [
    "df.target_names"
   ]
  },
  {
   "cell_type": "code",
   "execution_count": 11,
   "metadata": {
    "colab": {
     "base_uri": "https://localhost:8080/"
    },
    "id": "hjrBlIc1ScS4",
    "outputId": "ad2c06f7-48da-4846-9dd4-262529900679"
   },
   "outputs": [
    {
     "data": {
      "text/plain": [
       "array([0, 0, 0, 0, 0, 0, 0, 0, 0, 0, 0, 0, 0, 0, 0, 0, 0, 0, 0, 1, 1, 1,\n",
       "       0, 0, 0, 0, 0, 0, 0, 0, 0, 0, 0, 0, 0, 0, 0, 1, 0, 0, 0, 0, 0, 0,\n",
       "       0, 0, 1, 0, 1, 1, 1, 1, 1, 0, 0, 1, 0, 0, 1, 1, 1, 1, 0, 1, 0, 0,\n",
       "       1, 1, 1, 1, 0, 1, 0, 0, 1, 0, 1, 0, 0, 1, 1, 1, 0, 0, 1, 0, 0, 0,\n",
       "       1, 1, 1, 0, 1, 1, 0, 0, 1, 1, 1, 0, 0, 1, 1, 1, 1, 0, 1, 1, 0, 1,\n",
       "       1, 1, 1, 1, 1, 1, 1, 0, 0, 0, 1, 0, 0, 1, 1, 1, 0, 0, 1, 0, 1, 0,\n",
       "       0, 1, 0, 0, 1, 1, 0, 1, 1, 0, 1, 1, 1, 1, 0, 1, 1, 1, 1, 1, 1, 1,\n",
       "       1, 1, 0, 1, 1, 1, 1, 0, 0, 1, 0, 1, 1, 0, 0, 1, 1, 0, 0, 1, 1, 1,\n",
       "       1, 0, 1, 1, 0, 0, 0, 1, 0, 1, 0, 1, 1, 1, 0, 1, 1, 0, 0, 1, 0, 0,\n",
       "       0, 0, 1, 0, 0, 0, 1, 0, 1, 0, 1, 1, 0, 1, 0, 0, 0, 0, 1, 1, 0, 0,\n",
       "       1, 1, 1, 0, 1, 1, 1, 1, 1, 0, 0, 1, 1, 0, 1, 1, 0, 0, 1, 0, 1, 1,\n",
       "       1, 1, 0, 1, 1, 1, 1, 1, 0, 1, 0, 0, 0, 0, 0, 0, 0, 0, 0, 0, 0, 0,\n",
       "       0, 0, 1, 1, 1, 1, 1, 1, 0, 1, 0, 1, 1, 0, 1, 1, 0, 1, 0, 0, 1, 1,\n",
       "       1, 1, 1, 1, 1, 1, 1, 1, 1, 1, 1, 0, 1, 1, 0, 1, 0, 1, 1, 1, 1, 1,\n",
       "       1, 1, 1, 1, 1, 1, 1, 1, 1, 0, 1, 1, 1, 0, 1, 0, 1, 1, 1, 1, 0, 0,\n",
       "       0, 1, 1, 1, 1, 0, 1, 0, 1, 0, 1, 1, 1, 0, 1, 1, 1, 1, 1, 1, 1, 0,\n",
       "       0, 0, 1, 1, 1, 1, 1, 1, 1, 1, 1, 1, 1, 0, 0, 1, 0, 0, 0, 1, 0, 0,\n",
       "       1, 1, 1, 1, 1, 0, 1, 1, 1, 1, 1, 0, 1, 1, 1, 0, 1, 1, 0, 0, 1, 1,\n",
       "       1, 1, 1, 1, 0, 1, 1, 1, 1, 1, 1, 1, 0, 1, 1, 1, 1, 1, 0, 1, 1, 0,\n",
       "       1, 1, 1, 1, 1, 1, 1, 1, 1, 1, 1, 1, 0, 1, 0, 0, 1, 0, 1, 1, 1, 1,\n",
       "       1, 0, 1, 1, 0, 1, 0, 1, 1, 0, 1, 0, 1, 1, 1, 1, 1, 1, 1, 1, 0, 0,\n",
       "       1, 1, 1, 1, 1, 1, 0, 1, 1, 1, 1, 1, 1, 1, 1, 1, 1, 0, 1, 1, 1, 1,\n",
       "       1, 1, 1, 0, 1, 0, 1, 1, 0, 1, 1, 1, 1, 1, 0, 0, 1, 0, 1, 0, 1, 1,\n",
       "       1, 1, 1, 0, 1, 1, 0, 1, 0, 1, 0, 0, 1, 1, 1, 0, 1, 1, 1, 1, 1, 1,\n",
       "       1, 1, 1, 1, 1, 0, 1, 0, 0, 1, 1, 1, 1, 1, 1, 1, 1, 1, 1, 1, 1, 1,\n",
       "       1, 1, 1, 1, 1, 1, 1, 1, 1, 1, 1, 1, 0, 0, 0, 0, 0, 0, 1])"
      ]
     },
     "execution_count": 11,
     "metadata": {},
     "output_type": "execute_result"
    }
   ],
   "source": [
    "df.target"
   ]
  },
  {
   "cell_type": "code",
   "execution_count": 12,
   "metadata": {
    "colab": {
     "base_uri": "https://localhost:8080/",
     "height": 140
    },
    "id": "4DRRL_3QRvW7",
    "outputId": "7363271f-754d-4a43-ba71-1743152c5ee0",
    "scrolled": true
   },
   "outputs": [
    {
     "data": {
      "text/plain": [
       "'.. _breast_cancer_dataset:\\n\\nBreast cancer wisconsin (diagnostic) dataset\\n--------------------------------------------\\n\\n**Data Set Characteristics:**\\n\\n    :Number of Instances: 569\\n\\n    :Number of Attributes: 30 numeric, predictive attributes and the class\\n\\n    :Attribute Information:\\n        - radius (mean of distances from center to points on the perimeter)\\n        - texture (standard deviation of gray-scale values)\\n        - perimeter\\n        - area\\n        - smoothness (local variation in radius lengths)\\n        - compactness (perimeter^2 / area - 1.0)\\n        - concavity (severity of concave portions of the contour)\\n        - concave points (number of concave portions of the contour)\\n        - symmetry \\n        - fractal dimension (\"coastline approximation\" - 1)\\n\\n        The mean, standard error, and \"worst\" or largest (mean of the three\\n        largest values) of these features were computed for each image,\\n        resulting in 30 features.  For instance, field 3 is Mean Radius, field\\n        13 is Radius SE, field 23 is Worst Radius.\\n\\n        - class:\\n                - WDBC-Malignant\\n                - WDBC-Benign\\n\\n    :Summary Statistics:\\n\\n    ===================================== ====== ======\\n                                           Min    Max\\n    ===================================== ====== ======\\n    radius (mean):                        6.981  28.11\\n    texture (mean):                       9.71   39.28\\n    perimeter (mean):                     43.79  188.5\\n    area (mean):                          143.5  2501.0\\n    smoothness (mean):                    0.053  0.163\\n    compactness (mean):                   0.019  0.345\\n    concavity (mean):                     0.0    0.427\\n    concave points (mean):                0.0    0.201\\n    symmetry (mean):                      0.106  0.304\\n    fractal dimension (mean):             0.05   0.097\\n    radius (standard error):              0.112  2.873\\n    texture (standard error):             0.36   4.885\\n    perimeter (standard error):           0.757  21.98\\n    area (standard error):                6.802  542.2\\n    smoothness (standard error):          0.002  0.031\\n    compactness (standard error):         0.002  0.135\\n    concavity (standard error):           0.0    0.396\\n    concave points (standard error):      0.0    0.053\\n    symmetry (standard error):            0.008  0.079\\n    fractal dimension (standard error):   0.001  0.03\\n    radius (worst):                       7.93   36.04\\n    texture (worst):                      12.02  49.54\\n    perimeter (worst):                    50.41  251.2\\n    area (worst):                         185.2  4254.0\\n    smoothness (worst):                   0.071  0.223\\n    compactness (worst):                  0.027  1.058\\n    concavity (worst):                    0.0    1.252\\n    concave points (worst):               0.0    0.291\\n    symmetry (worst):                     0.156  0.664\\n    fractal dimension (worst):            0.055  0.208\\n    ===================================== ====== ======\\n\\n    :Missing Attribute Values: None\\n\\n    :Class Distribution: 212 - Malignant, 357 - Benign\\n\\n    :Creator:  Dr. William H. Wolberg, W. Nick Street, Olvi L. Mangasarian\\n\\n    :Donor: Nick Street\\n\\n    :Date: November, 1995\\n\\nThis is a copy of UCI ML Breast Cancer Wisconsin (Diagnostic) datasets.\\nhttps://goo.gl/U2Uwz2\\n\\nFeatures are computed from a digitized image of a fine needle\\naspirate (FNA) of a breast mass.  They describe\\ncharacteristics of the cell nuclei present in the image.\\n\\nSeparating plane described above was obtained using\\nMultisurface Method-Tree (MSM-T) [K. P. Bennett, \"Decision Tree\\nConstruction Via Linear Programming.\" Proceedings of the 4th\\nMidwest Artificial Intelligence and Cognitive Science Society,\\npp. 97-101, 1992], a classification method which uses linear\\nprogramming to construct a decision tree.  Relevant features\\nwere selected using an exhaustive search in the space of 1-4\\nfeatures and 1-3 separating planes.\\n\\nThe actual linear program used to obtain the separating plane\\nin the 3-dimensional space is that described in:\\n[K. P. Bennett and O. L. Mangasarian: \"Robust Linear\\nProgramming Discrimination of Two Linearly Inseparable Sets\",\\nOptimization Methods and Software 1, 1992, 23-34].\\n\\nThis database is also available through the UW CS ftp server:\\n\\nftp ftp.cs.wisc.edu\\ncd math-prog/cpo-dataset/machine-learn/WDBC/\\n\\n.. topic:: References\\n\\n   - W.N. Street, W.H. Wolberg and O.L. Mangasarian. Nuclear feature extraction \\n     for breast tumor diagnosis. IS&T/SPIE 1993 International Symposium on \\n     Electronic Imaging: Science and Technology, volume 1905, pages 861-870,\\n     San Jose, CA, 1993.\\n   - O.L. Mangasarian, W.N. Street and W.H. Wolberg. Breast cancer diagnosis and \\n     prognosis via linear programming. Operations Research, 43(4), pages 570-577, \\n     July-August 1995.\\n   - W.H. Wolberg, W.N. Street, and O.L. Mangasarian. Machine learning techniques\\n     to diagnose breast cancer from fine-needle aspirates. Cancer Letters 77 (1994) \\n     163-171.'"
      ]
     },
     "execution_count": 12,
     "metadata": {},
     "output_type": "execute_result"
    }
   ],
   "source": [
    "df.DESCR"
   ]
  },
  {
   "cell_type": "code",
   "execution_count": 13,
   "metadata": {
    "id": "aMl2beqXSrvi"
   },
   "outputs": [],
   "source": [
    "dataf ['target']= df.target"
   ]
  },
  {
   "cell_type": "code",
   "execution_count": 14,
   "metadata": {
    "colab": {
     "base_uri": "https://localhost:8080/"
    },
    "id": "RaVn8m36TA1G",
    "outputId": "24892d12-8025-4b39-84fe-421a85ab9291"
   },
   "outputs": [
    {
     "data": {
      "text/plain": [
       "(569, 31)"
      ]
     },
     "execution_count": 14,
     "metadata": {},
     "output_type": "execute_result"
    }
   ],
   "source": [
    "dataf.shape"
   ]
  },
  {
   "cell_type": "code",
   "execution_count": 15,
   "metadata": {
    "colab": {
     "base_uri": "https://localhost:8080/",
     "height": 232
    },
    "id": "DYH6g9IeTDrR",
    "outputId": "2e318fc0-cfc0-4a16-cb33-3641019afbfa"
   },
   "outputs": [
    {
     "data": {
      "text/html": [
       "<div>\n",
       "<style scoped>\n",
       "    .dataframe tbody tr th:only-of-type {\n",
       "        vertical-align: middle;\n",
       "    }\n",
       "\n",
       "    .dataframe tbody tr th {\n",
       "        vertical-align: top;\n",
       "    }\n",
       "\n",
       "    .dataframe thead th {\n",
       "        text-align: right;\n",
       "    }\n",
       "</style>\n",
       "<table border=\"1\" class=\"dataframe\">\n",
       "  <thead>\n",
       "    <tr style=\"text-align: right;\">\n",
       "      <th></th>\n",
       "      <th>0</th>\n",
       "      <th>1</th>\n",
       "      <th>2</th>\n",
       "      <th>3</th>\n",
       "      <th>4</th>\n",
       "      <th>5</th>\n",
       "      <th>6</th>\n",
       "      <th>7</th>\n",
       "      <th>8</th>\n",
       "      <th>9</th>\n",
       "      <th>...</th>\n",
       "      <th>21</th>\n",
       "      <th>22</th>\n",
       "      <th>23</th>\n",
       "      <th>24</th>\n",
       "      <th>25</th>\n",
       "      <th>26</th>\n",
       "      <th>27</th>\n",
       "      <th>28</th>\n",
       "      <th>29</th>\n",
       "      <th>target</th>\n",
       "    </tr>\n",
       "  </thead>\n",
       "  <tbody>\n",
       "    <tr>\n",
       "      <th>0</th>\n",
       "      <td>17.99</td>\n",
       "      <td>10.38</td>\n",
       "      <td>122.80</td>\n",
       "      <td>1001.0</td>\n",
       "      <td>0.11840</td>\n",
       "      <td>0.27760</td>\n",
       "      <td>0.3001</td>\n",
       "      <td>0.14710</td>\n",
       "      <td>0.2419</td>\n",
       "      <td>0.07871</td>\n",
       "      <td>...</td>\n",
       "      <td>17.33</td>\n",
       "      <td>184.60</td>\n",
       "      <td>2019.0</td>\n",
       "      <td>0.1622</td>\n",
       "      <td>0.6656</td>\n",
       "      <td>0.7119</td>\n",
       "      <td>0.2654</td>\n",
       "      <td>0.4601</td>\n",
       "      <td>0.11890</td>\n",
       "      <td>0</td>\n",
       "    </tr>\n",
       "    <tr>\n",
       "      <th>1</th>\n",
       "      <td>20.57</td>\n",
       "      <td>17.77</td>\n",
       "      <td>132.90</td>\n",
       "      <td>1326.0</td>\n",
       "      <td>0.08474</td>\n",
       "      <td>0.07864</td>\n",
       "      <td>0.0869</td>\n",
       "      <td>0.07017</td>\n",
       "      <td>0.1812</td>\n",
       "      <td>0.05667</td>\n",
       "      <td>...</td>\n",
       "      <td>23.41</td>\n",
       "      <td>158.80</td>\n",
       "      <td>1956.0</td>\n",
       "      <td>0.1238</td>\n",
       "      <td>0.1866</td>\n",
       "      <td>0.2416</td>\n",
       "      <td>0.1860</td>\n",
       "      <td>0.2750</td>\n",
       "      <td>0.08902</td>\n",
       "      <td>0</td>\n",
       "    </tr>\n",
       "    <tr>\n",
       "      <th>2</th>\n",
       "      <td>19.69</td>\n",
       "      <td>21.25</td>\n",
       "      <td>130.00</td>\n",
       "      <td>1203.0</td>\n",
       "      <td>0.10960</td>\n",
       "      <td>0.15990</td>\n",
       "      <td>0.1974</td>\n",
       "      <td>0.12790</td>\n",
       "      <td>0.2069</td>\n",
       "      <td>0.05999</td>\n",
       "      <td>...</td>\n",
       "      <td>25.53</td>\n",
       "      <td>152.50</td>\n",
       "      <td>1709.0</td>\n",
       "      <td>0.1444</td>\n",
       "      <td>0.4245</td>\n",
       "      <td>0.4504</td>\n",
       "      <td>0.2430</td>\n",
       "      <td>0.3613</td>\n",
       "      <td>0.08758</td>\n",
       "      <td>0</td>\n",
       "    </tr>\n",
       "    <tr>\n",
       "      <th>3</th>\n",
       "      <td>11.42</td>\n",
       "      <td>20.38</td>\n",
       "      <td>77.58</td>\n",
       "      <td>386.1</td>\n",
       "      <td>0.14250</td>\n",
       "      <td>0.28390</td>\n",
       "      <td>0.2414</td>\n",
       "      <td>0.10520</td>\n",
       "      <td>0.2597</td>\n",
       "      <td>0.09744</td>\n",
       "      <td>...</td>\n",
       "      <td>26.50</td>\n",
       "      <td>98.87</td>\n",
       "      <td>567.7</td>\n",
       "      <td>0.2098</td>\n",
       "      <td>0.8663</td>\n",
       "      <td>0.6869</td>\n",
       "      <td>0.2575</td>\n",
       "      <td>0.6638</td>\n",
       "      <td>0.17300</td>\n",
       "      <td>0</td>\n",
       "    </tr>\n",
       "    <tr>\n",
       "      <th>4</th>\n",
       "      <td>20.29</td>\n",
       "      <td>14.34</td>\n",
       "      <td>135.10</td>\n",
       "      <td>1297.0</td>\n",
       "      <td>0.10030</td>\n",
       "      <td>0.13280</td>\n",
       "      <td>0.1980</td>\n",
       "      <td>0.10430</td>\n",
       "      <td>0.1809</td>\n",
       "      <td>0.05883</td>\n",
       "      <td>...</td>\n",
       "      <td>16.67</td>\n",
       "      <td>152.20</td>\n",
       "      <td>1575.0</td>\n",
       "      <td>0.1374</td>\n",
       "      <td>0.2050</td>\n",
       "      <td>0.4000</td>\n",
       "      <td>0.1625</td>\n",
       "      <td>0.2364</td>\n",
       "      <td>0.07678</td>\n",
       "      <td>0</td>\n",
       "    </tr>\n",
       "  </tbody>\n",
       "</table>\n",
       "<p>5 rows × 31 columns</p>\n",
       "</div>"
      ],
      "text/plain": [
       "       0      1       2       3        4        5       6        7       8  \\\n",
       "0  17.99  10.38  122.80  1001.0  0.11840  0.27760  0.3001  0.14710  0.2419   \n",
       "1  20.57  17.77  132.90  1326.0  0.08474  0.07864  0.0869  0.07017  0.1812   \n",
       "2  19.69  21.25  130.00  1203.0  0.10960  0.15990  0.1974  0.12790  0.2069   \n",
       "3  11.42  20.38   77.58   386.1  0.14250  0.28390  0.2414  0.10520  0.2597   \n",
       "4  20.29  14.34  135.10  1297.0  0.10030  0.13280  0.1980  0.10430  0.1809   \n",
       "\n",
       "         9  ...     21      22      23      24      25      26      27  \\\n",
       "0  0.07871  ...  17.33  184.60  2019.0  0.1622  0.6656  0.7119  0.2654   \n",
       "1  0.05667  ...  23.41  158.80  1956.0  0.1238  0.1866  0.2416  0.1860   \n",
       "2  0.05999  ...  25.53  152.50  1709.0  0.1444  0.4245  0.4504  0.2430   \n",
       "3  0.09744  ...  26.50   98.87   567.7  0.2098  0.8663  0.6869  0.2575   \n",
       "4  0.05883  ...  16.67  152.20  1575.0  0.1374  0.2050  0.4000  0.1625   \n",
       "\n",
       "       28       29  target  \n",
       "0  0.4601  0.11890       0  \n",
       "1  0.2750  0.08902       0  \n",
       "2  0.3613  0.08758       0  \n",
       "3  0.6638  0.17300       0  \n",
       "4  0.2364  0.07678       0  \n",
       "\n",
       "[5 rows x 31 columns]"
      ]
     },
     "execution_count": 15,
     "metadata": {},
     "output_type": "execute_result"
    }
   ],
   "source": [
    "dataf.head()"
   ]
  },
  {
   "cell_type": "markdown",
   "metadata": {
    "id": "BUTgXPceTYk9"
   },
   "source": [
    "## Spitting Data Test and Train"
   ]
  },
  {
   "cell_type": "code",
   "execution_count": 16,
   "metadata": {
    "id": "w5zW8f4ITmn8"
   },
   "outputs": [],
   "source": [
    "from sklearn.model_selection import train_test_split"
   ]
  },
  {
   "cell_type": "code",
   "execution_count": 17,
   "metadata": {
    "id": "x9jmJpJhUgtT"
   },
   "outputs": [],
   "source": [
    "X= dataf.iloc[:, :-1]\n",
    "y= dataf.iloc[:, -1]"
   ]
  },
  {
   "cell_type": "code",
   "execution_count": 18,
   "metadata": {
    "id": "6PdURKv0URGP"
   },
   "outputs": [],
   "source": [
    "X_train, X_test, y_train, y_test = train_test_split(X, y, test_size =0.33)"
   ]
  },
  {
   "cell_type": "code",
   "execution_count": 19,
   "metadata": {
    "colab": {
     "base_uri": "https://localhost:8080/"
    },
    "id": "F1T_nhLmU6Zv",
    "outputId": "dd78e049-de70-41e4-e5e1-ecd02dddbea3"
   },
   "outputs": [
    {
     "name": "stdout",
     "output_type": "stream",
     "text": [
      "(381, 30) (188, 30) (381,) (188,)\n"
     ]
    }
   ],
   "source": [
    "print(X_train.shape, X_test.shape, y_train.shape, y_test.shape)"
   ]
  },
  {
   "cell_type": "markdown",
   "metadata": {
    "id": "twdTZqNJVJJX"
   },
   "source": [
    "## Scaling the Data"
   ]
  },
  {
   "cell_type": "code",
   "execution_count": 20,
   "metadata": {
    "id": "om6SC3asVN-Q"
   },
   "outputs": [],
   "source": [
    "from sklearn.preprocessing import StandardScaler"
   ]
  },
  {
   "cell_type": "code",
   "execution_count": 21,
   "metadata": {
    "id": "XD-p92b-VWri"
   },
   "outputs": [],
   "source": [
    "sc= StandardScaler()\n",
    "X_train = sc.fit_transform (X_train)\n",
    "X_test = sc.transform(X_test)"
   ]
  },
  {
   "cell_type": "code",
   "execution_count": 22,
   "metadata": {
    "id": "IJWEQaNoVrNE"
   },
   "outputs": [],
   "source": [
    "N, D = X_train.shape"
   ]
  },
  {
   "cell_type": "markdown",
   "metadata": {
    "id": "bvDuqqaHVuX6"
   },
   "source": [
    "## Lets Dive Into Tensorflow"
   ]
  },
  {
   "cell_type": "code",
   "execution_count": 23,
   "metadata": {
    "id": "93TbmyqhV9Mt"
   },
   "outputs": [],
   "source": [
    "'''\n",
    "First we are going to build a model object which is an object type \"Sequential\".\n",
    "This takes in a layer of two Objests\n",
    "          1. Input Layer and \n",
    "          2. Dense Layer\n",
    "1. Input layer : is like a placeholder to specify the size of the i/p. (i.e) in our case 30(No.of. Columns)\n",
    "2. Dense Layer : the real work happens here. It takes i/p and perform a linear Transform to produce output as in  the size 0f [0-1]\n",
    " \n",
    " '''\n",
    "# 1 st way of Defining a model\n",
    "'''\n",
    "model = tf.keras.models.Sequential(\n",
    "    tf.keras.Input(shape = (D, )),\n",
    "    tf.keras.layers. Dense(1, input_shape = (D,),\n",
    "    activation= 'sigmoid')\n",
    ")\n",
    "'''\n",
    "#2nd way of Defining a model \n",
    "model = tf.keras.models.Sequential()\n",
    "model.add(\n",
    "        tf.keras.layers.Dense(1, input_shape=(D,), activation='sigmoid')\n",
    ") \n",
    "#Here 1 - means we are pssing D no.of i/p's to a single perceptron. \n",
    "#Sigmoid will give o/p in the range of [0 - 1]\n",
    "## https://www.tensorflow.org/api_docs/python/tf/keras/Sequential\n"
   ]
  },
  {
   "cell_type": "code",
   "execution_count": 24,
   "metadata": {
    "id": "xHi9VfdGhiJe"
   },
   "outputs": [],
   "source": [
    "#Building a Model \n",
    "# Lets now call the \"compile\" wherein we pass \"adam\" as our optimizer, \"binary_cross_entropy\" as our loss, and \"accuracy\" as our metrics.\n",
    "model.compile (optimizer = 'adam',\n",
    "                loss = 'binary_crossentropy',\n",
    "                metrics = ['accuracy']\n",
    "              \n",
    ")"
   ]
  },
  {
   "cell_type": "code",
   "execution_count": 25,
   "metadata": {
    "colab": {
     "base_uri": "https://localhost:8080/"
    },
    "id": "dC-jA3vQlEF_",
    "outputId": "41597322-a59a-41ac-c413-d5fd27717708"
   },
   "outputs": [
    {
     "name": "stdout",
     "output_type": "stream",
     "text": [
      "Epoch 1/100\n",
      "12/12 [==============================] - 14s 132ms/step - loss: 0.8681 - accuracy: 0.4042 - val_loss: 0.7814 - val_accuracy: 0.4681\n",
      "Epoch 2/100\n",
      "12/12 [==============================] - 0s 13ms/step - loss: 0.7831 - accuracy: 0.5039 - val_loss: 0.7065 - val_accuracy: 0.5638\n",
      "Epoch 3/100\n",
      "12/12 [==============================] - 0s 14ms/step - loss: 0.7055 - accuracy: 0.6115 - val_loss: 0.6421 - val_accuracy: 0.6383\n",
      "Epoch 4/100\n",
      "12/12 [==============================] - 1s 52ms/step - loss: 0.6423 - accuracy: 0.6903 - val_loss: 0.5844 - val_accuracy: 0.6915\n",
      "Epoch 5/100\n",
      "12/12 [==============================] - 0s 31ms/step - loss: 0.5875 - accuracy: 0.7795 - val_loss: 0.5346 - val_accuracy: 0.7660\n",
      "Epoch 6/100\n",
      "12/12 [==============================] - 0s 19ms/step - loss: 0.5394 - accuracy: 0.8189 - val_loss: 0.4929 - val_accuracy: 0.8191\n",
      "Epoch 7/100\n",
      "12/12 [==============================] - 0s 19ms/step - loss: 0.4995 - accuracy: 0.8478 - val_loss: 0.4569 - val_accuracy: 0.8351\n",
      "Epoch 8/100\n",
      "12/12 [==============================] - 0s 21ms/step - loss: 0.4655 - accuracy: 0.8609 - val_loss: 0.4259 - val_accuracy: 0.8617\n",
      "Epoch 9/100\n",
      "12/12 [==============================] - 0s 31ms/step - loss: 0.4358 - accuracy: 0.8766 - val_loss: 0.3994 - val_accuracy: 0.8830\n",
      "Epoch 10/100\n",
      "12/12 [==============================] - 0s 20ms/step - loss: 0.4104 - accuracy: 0.8819 - val_loss: 0.3760 - val_accuracy: 0.8830\n",
      "Epoch 11/100\n",
      "12/12 [==============================] - 0s 14ms/step - loss: 0.3881 - accuracy: 0.8871 - val_loss: 0.3555 - val_accuracy: 0.8989\n",
      "Epoch 12/100\n",
      "12/12 [==============================] - 0s 12ms/step - loss: 0.3683 - accuracy: 0.8976 - val_loss: 0.3376 - val_accuracy: 0.9096\n",
      "Epoch 13/100\n",
      "12/12 [==============================] - 0s 17ms/step - loss: 0.3511 - accuracy: 0.9081 - val_loss: 0.3216 - val_accuracy: 0.9096\n",
      "Epoch 14/100\n",
      "12/12 [==============================] - 0s 25ms/step - loss: 0.3358 - accuracy: 0.9160 - val_loss: 0.3071 - val_accuracy: 0.9149\n",
      "Epoch 15/100\n",
      "12/12 [==============================] - 0s 14ms/step - loss: 0.3219 - accuracy: 0.9160 - val_loss: 0.2943 - val_accuracy: 0.9415\n",
      "Epoch 16/100\n",
      "12/12 [==============================] - 0s 15ms/step - loss: 0.3095 - accuracy: 0.9291 - val_loss: 0.2824 - val_accuracy: 0.9468\n",
      "Epoch 17/100\n",
      "12/12 [==============================] - 0s 27ms/step - loss: 0.2983 - accuracy: 0.9291 - val_loss: 0.2717 - val_accuracy: 0.9468\n",
      "Epoch 18/100\n",
      "12/12 [==============================] - 1s 72ms/step - loss: 0.2880 - accuracy: 0.9318 - val_loss: 0.2620 - val_accuracy: 0.9521\n",
      "Epoch 19/100\n",
      "12/12 [==============================] - 0s 19ms/step - loss: 0.2785 - accuracy: 0.9344 - val_loss: 0.2530 - val_accuracy: 0.9521\n",
      "Epoch 20/100\n",
      "12/12 [==============================] - 0s 24ms/step - loss: 0.2700 - accuracy: 0.9370 - val_loss: 0.2446 - val_accuracy: 0.9574\n",
      "Epoch 21/100\n",
      "12/12 [==============================] - 1s 79ms/step - loss: 0.2619 - accuracy: 0.9370 - val_loss: 0.2371 - val_accuracy: 0.9574\n",
      "Epoch 22/100\n",
      "12/12 [==============================] - 0s 25ms/step - loss: 0.2545 - accuracy: 0.9370 - val_loss: 0.2300 - val_accuracy: 0.9574\n",
      "Epoch 23/100\n",
      "12/12 [==============================] - 0s 12ms/step - loss: 0.2476 - accuracy: 0.9396 - val_loss: 0.2232 - val_accuracy: 0.9734\n",
      "Epoch 24/100\n",
      "12/12 [==============================] - 0s 11ms/step - loss: 0.2410 - accuracy: 0.9396 - val_loss: 0.2171 - val_accuracy: 0.9734\n",
      "Epoch 25/100\n",
      "12/12 [==============================] - 0s 14ms/step - loss: 0.2352 - accuracy: 0.9423 - val_loss: 0.2112 - val_accuracy: 0.9734\n",
      "Epoch 26/100\n",
      "12/12 [==============================] - 0s 12ms/step - loss: 0.2293 - accuracy: 0.9449 - val_loss: 0.2059 - val_accuracy: 0.9734\n",
      "Epoch 27/100\n",
      "12/12 [==============================] - 0s 10ms/step - loss: 0.2241 - accuracy: 0.9475 - val_loss: 0.2008 - val_accuracy: 0.9681\n",
      "Epoch 28/100\n",
      "12/12 [==============================] - 0s 29ms/step - loss: 0.2191 - accuracy: 0.9475 - val_loss: 0.1961 - val_accuracy: 0.9681\n",
      "Epoch 29/100\n",
      "12/12 [==============================] - 0s 12ms/step - loss: 0.2143 - accuracy: 0.9501 - val_loss: 0.1917 - val_accuracy: 0.9681\n",
      "Epoch 30/100\n",
      "12/12 [==============================] - 0s 9ms/step - loss: 0.2099 - accuracy: 0.9528 - val_loss: 0.1873 - val_accuracy: 0.9681\n",
      "Epoch 31/100\n",
      "12/12 [==============================] - 0s 13ms/step - loss: 0.2055 - accuracy: 0.9554 - val_loss: 0.1833 - val_accuracy: 0.9681\n",
      "Epoch 32/100\n",
      "12/12 [==============================] - 0s 41ms/step - loss: 0.2014 - accuracy: 0.9606 - val_loss: 0.1795 - val_accuracy: 0.9681\n",
      "Epoch 33/100\n",
      "12/12 [==============================] - 0s 41ms/step - loss: 0.1977 - accuracy: 0.9606 - val_loss: 0.1758 - val_accuracy: 0.9681\n",
      "Epoch 34/100\n",
      "12/12 [==============================] - 1s 50ms/step - loss: 0.1940 - accuracy: 0.9633 - val_loss: 0.1726 - val_accuracy: 0.9734\n",
      "Epoch 35/100\n",
      "12/12 [==============================] - 0s 29ms/step - loss: 0.1905 - accuracy: 0.9633 - val_loss: 0.1693 - val_accuracy: 0.9734\n",
      "Epoch 36/100\n",
      "12/12 [==============================] - 0s 17ms/step - loss: 0.1869 - accuracy: 0.9633 - val_loss: 0.1663 - val_accuracy: 0.9734\n",
      "Epoch 37/100\n",
      "12/12 [==============================] - 0s 16ms/step - loss: 0.1839 - accuracy: 0.9633 - val_loss: 0.1633 - val_accuracy: 0.9734\n",
      "Epoch 38/100\n",
      "12/12 [==============================] - 0s 19ms/step - loss: 0.1808 - accuracy: 0.9633 - val_loss: 0.1604 - val_accuracy: 0.9734\n",
      "Epoch 39/100\n",
      "12/12 [==============================] - 1s 56ms/step - loss: 0.1778 - accuracy: 0.9633 - val_loss: 0.1578 - val_accuracy: 0.9734\n",
      "Epoch 40/100\n",
      "12/12 [==============================] - 0s 25ms/step - loss: 0.1750 - accuracy: 0.9633 - val_loss: 0.1551 - val_accuracy: 0.9734\n",
      "Epoch 41/100\n",
      "12/12 [==============================] - 1s 47ms/step - loss: 0.1723 - accuracy: 0.9633 - val_loss: 0.1526 - val_accuracy: 0.9734\n",
      "Epoch 42/100\n",
      "12/12 [==============================] - 0s 15ms/step - loss: 0.1696 - accuracy: 0.9633 - val_loss: 0.1504 - val_accuracy: 0.9734\n",
      "Epoch 43/100\n",
      "12/12 [==============================] - 0s 19ms/step - loss: 0.1672 - accuracy: 0.9633 - val_loss: 0.1482 - val_accuracy: 0.9734\n",
      "Epoch 44/100\n",
      "12/12 [==============================] - 0s 42ms/step - loss: 0.1647 - accuracy: 0.9633 - val_loss: 0.1461 - val_accuracy: 0.9734\n",
      "Epoch 45/100\n",
      "12/12 [==============================] - 0s 19ms/step - loss: 0.1624 - accuracy: 0.9633 - val_loss: 0.1440 - val_accuracy: 0.9734\n",
      "Epoch 46/100\n",
      "12/12 [==============================] - 0s 11ms/step - loss: 0.1603 - accuracy: 0.9633 - val_loss: 0.1420 - val_accuracy: 0.9734\n",
      "Epoch 47/100\n",
      "12/12 [==============================] - 0s 20ms/step - loss: 0.1580 - accuracy: 0.9633 - val_loss: 0.1402 - val_accuracy: 0.9734\n",
      "Epoch 48/100\n",
      "12/12 [==============================] - 0s 27ms/step - loss: 0.1559 - accuracy: 0.9659 - val_loss: 0.1383 - val_accuracy: 0.9787\n",
      "Epoch 49/100\n",
      "12/12 [==============================] - 0s 20ms/step - loss: 0.1541 - accuracy: 0.9659 - val_loss: 0.1364 - val_accuracy: 0.9787\n",
      "Epoch 50/100\n",
      "12/12 [==============================] - 0s 13ms/step - loss: 0.1521 - accuracy: 0.9659 - val_loss: 0.1349 - val_accuracy: 0.9787\n",
      "Epoch 51/100\n",
      "12/12 [==============================] - 0s 10ms/step - loss: 0.1502 - accuracy: 0.9659 - val_loss: 0.1331 - val_accuracy: 0.9787\n",
      "Epoch 52/100\n",
      "12/12 [==============================] - 0s 29ms/step - loss: 0.1484 - accuracy: 0.9659 - val_loss: 0.1316 - val_accuracy: 0.9787\n",
      "Epoch 53/100\n",
      "12/12 [==============================] - 0s 23ms/step - loss: 0.1466 - accuracy: 0.9659 - val_loss: 0.1301 - val_accuracy: 0.9787\n",
      "Epoch 54/100\n",
      "12/12 [==============================] - 0s 16ms/step - loss: 0.1450 - accuracy: 0.9685 - val_loss: 0.1285 - val_accuracy: 0.9787\n",
      "Epoch 55/100\n",
      "12/12 [==============================] - 0s 20ms/step - loss: 0.1434 - accuracy: 0.9685 - val_loss: 0.1270 - val_accuracy: 0.9787\n",
      "Epoch 56/100\n",
      "12/12 [==============================] - 0s 15ms/step - loss: 0.1417 - accuracy: 0.9685 - val_loss: 0.1257 - val_accuracy: 0.9787\n",
      "Epoch 57/100\n",
      "12/12 [==============================] - 1s 56ms/step - loss: 0.1403 - accuracy: 0.9685 - val_loss: 0.1244 - val_accuracy: 0.9787\n",
      "Epoch 58/100\n"
     ]
    },
    {
     "name": "stdout",
     "output_type": "stream",
     "text": [
      "12/12 [==============================] - 0s 14ms/step - loss: 0.1389 - accuracy: 0.9685 - val_loss: 0.1231 - val_accuracy: 0.9787\n",
      "Epoch 59/100\n",
      "12/12 [==============================] - 0s 17ms/step - loss: 0.1374 - accuracy: 0.9685 - val_loss: 0.1219 - val_accuracy: 0.9787\n",
      "Epoch 60/100\n",
      "12/12 [==============================] - 0s 16ms/step - loss: 0.1361 - accuracy: 0.9685 - val_loss: 0.1206 - val_accuracy: 0.9787\n",
      "Epoch 61/100\n",
      "12/12 [==============================] - 1s 51ms/step - loss: 0.1348 - accuracy: 0.9685 - val_loss: 0.1194 - val_accuracy: 0.9787\n",
      "Epoch 62/100\n",
      "12/12 [==============================] - 0s 22ms/step - loss: 0.1335 - accuracy: 0.9711 - val_loss: 0.1184 - val_accuracy: 0.9787\n",
      "Epoch 63/100\n",
      "12/12 [==============================] - 0s 25ms/step - loss: 0.1323 - accuracy: 0.9711 - val_loss: 0.1172 - val_accuracy: 0.9787\n",
      "Epoch 64/100\n",
      "12/12 [==============================] - 1s 54ms/step - loss: 0.1311 - accuracy: 0.9738 - val_loss: 0.1162 - val_accuracy: 0.9734\n",
      "Epoch 65/100\n",
      "12/12 [==============================] - 0s 42ms/step - loss: 0.1300 - accuracy: 0.9738 - val_loss: 0.1151 - val_accuracy: 0.9734\n",
      "Epoch 66/100\n",
      "12/12 [==============================] - 0s 14ms/step - loss: 0.1288 - accuracy: 0.9738 - val_loss: 0.1141 - val_accuracy: 0.9734\n",
      "Epoch 67/100\n",
      "12/12 [==============================] - 0s 22ms/step - loss: 0.1278 - accuracy: 0.9738 - val_loss: 0.1132 - val_accuracy: 0.9734\n",
      "Epoch 68/100\n",
      "12/12 [==============================] - 0s 16ms/step - loss: 0.1267 - accuracy: 0.9738 - val_loss: 0.1122 - val_accuracy: 0.9734\n",
      "Epoch 69/100\n",
      "12/12 [==============================] - 1s 48ms/step - loss: 0.1257 - accuracy: 0.9738 - val_loss: 0.1112 - val_accuracy: 0.9734\n",
      "Epoch 70/100\n",
      "12/12 [==============================] - 0s 19ms/step - loss: 0.1247 - accuracy: 0.9738 - val_loss: 0.1102 - val_accuracy: 0.9734\n",
      "Epoch 71/100\n",
      "12/12 [==============================] - 0s 20ms/step - loss: 0.1238 - accuracy: 0.9738 - val_loss: 0.1094 - val_accuracy: 0.9734\n",
      "Epoch 72/100\n",
      "12/12 [==============================] - 0s 43ms/step - loss: 0.1228 - accuracy: 0.9738 - val_loss: 0.1086 - val_accuracy: 0.9734\n",
      "Epoch 73/100\n",
      "12/12 [==============================] - 1s 78ms/step - loss: 0.1220 - accuracy: 0.9764 - val_loss: 0.1077 - val_accuracy: 0.9734\n",
      "Epoch 74/100\n",
      "12/12 [==============================] - 0s 19ms/step - loss: 0.1211 - accuracy: 0.9764 - val_loss: 0.1070 - val_accuracy: 0.9734\n",
      "Epoch 75/100\n",
      "12/12 [==============================] - 0s 16ms/step - loss: 0.1202 - accuracy: 0.9764 - val_loss: 0.1063 - val_accuracy: 0.9734\n",
      "Epoch 76/100\n",
      "12/12 [==============================] - 0s 10ms/step - loss: 0.1193 - accuracy: 0.9764 - val_loss: 0.1054 - val_accuracy: 0.9734\n",
      "Epoch 77/100\n",
      "12/12 [==============================] - 0s 16ms/step - loss: 0.1186 - accuracy: 0.9764 - val_loss: 0.1047 - val_accuracy: 0.9734\n",
      "Epoch 78/100\n",
      "12/12 [==============================] - 0s 41ms/step - loss: 0.1178 - accuracy: 0.9764 - val_loss: 0.1040 - val_accuracy: 0.9734\n",
      "Epoch 79/100\n",
      "12/12 [==============================] - 0s 30ms/step - loss: 0.1170 - accuracy: 0.9764 - val_loss: 0.1032 - val_accuracy: 0.9681\n",
      "Epoch 80/100\n",
      "12/12 [==============================] - 0s 15ms/step - loss: 0.1163 - accuracy: 0.9764 - val_loss: 0.1025 - val_accuracy: 0.9681\n",
      "Epoch 81/100\n",
      "12/12 [==============================] - 0s 17ms/step - loss: 0.1155 - accuracy: 0.9764 - val_loss: 0.1018 - val_accuracy: 0.9681\n",
      "Epoch 82/100\n",
      "12/12 [==============================] - 1s 56ms/step - loss: 0.1149 - accuracy: 0.9764 - val_loss: 0.1011 - val_accuracy: 0.9681\n",
      "Epoch 83/100\n",
      "12/12 [==============================] - 0s 12ms/step - loss: 0.1142 - accuracy: 0.9764 - val_loss: 0.1004 - val_accuracy: 0.9681\n",
      "Epoch 84/100\n",
      "12/12 [==============================] - 0s 9ms/step - loss: 0.1135 - accuracy: 0.9764 - val_loss: 0.0999 - val_accuracy: 0.9681\n",
      "Epoch 85/100\n",
      "12/12 [==============================] - 0s 14ms/step - loss: 0.1128 - accuracy: 0.9764 - val_loss: 0.0993 - val_accuracy: 0.9681\n",
      "Epoch 86/100\n",
      "12/12 [==============================] - 1s 76ms/step - loss: 0.1122 - accuracy: 0.9764 - val_loss: 0.0987 - val_accuracy: 0.9681\n",
      "Epoch 87/100\n",
      "12/12 [==============================] - 0s 31ms/step - loss: 0.1116 - accuracy: 0.9764 - val_loss: 0.0981 - val_accuracy: 0.9681\n",
      "Epoch 88/100\n",
      "12/12 [==============================] - 0s 19ms/step - loss: 0.1110 - accuracy: 0.9764 - val_loss: 0.0976 - val_accuracy: 0.9681\n",
      "Epoch 89/100\n",
      "12/12 [==============================] - 0s 13ms/step - loss: 0.1104 - accuracy: 0.9764 - val_loss: 0.0971 - val_accuracy: 0.9681\n",
      "Epoch 90/100\n",
      "12/12 [==============================] - 0s 12ms/step - loss: 0.1098 - accuracy: 0.9764 - val_loss: 0.0964 - val_accuracy: 0.9681\n",
      "Epoch 91/100\n",
      "12/12 [==============================] - 1s 53ms/step - loss: 0.1092 - accuracy: 0.9764 - val_loss: 0.0959 - val_accuracy: 0.9681\n",
      "Epoch 92/100\n",
      "12/12 [==============================] - 1s 84ms/step - loss: 0.1087 - accuracy: 0.9764 - val_loss: 0.0954 - val_accuracy: 0.9681\n",
      "Epoch 93/100\n",
      "12/12 [==============================] - 0s 33ms/step - loss: 0.1081 - accuracy: 0.9764 - val_loss: 0.0949 - val_accuracy: 0.9681\n",
      "Epoch 94/100\n",
      "12/12 [==============================] - 0s 26ms/step - loss: 0.1076 - accuracy: 0.9764 - val_loss: 0.0943 - val_accuracy: 0.9681\n",
      "Epoch 95/100\n",
      "12/12 [==============================] - 1s 38ms/step - loss: 0.1071 - accuracy: 0.9764 - val_loss: 0.0939 - val_accuracy: 0.9681\n",
      "Epoch 96/100\n",
      "12/12 [==============================] - 0s 22ms/step - loss: 0.1066 - accuracy: 0.9764 - val_loss: 0.0934 - val_accuracy: 0.9681\n",
      "Epoch 97/100\n",
      "12/12 [==============================] - 0s 20ms/step - loss: 0.1061 - accuracy: 0.9738 - val_loss: 0.0929 - val_accuracy: 0.9681\n",
      "Epoch 98/100\n",
      "12/12 [==============================] - 1s 56ms/step - loss: 0.1056 - accuracy: 0.9738 - val_loss: 0.0924 - val_accuracy: 0.9681\n",
      "Epoch 99/100\n",
      "12/12 [==============================] - 0s 19ms/step - loss: 0.1051 - accuracy: 0.9738 - val_loss: 0.0919 - val_accuracy: 0.9681\n",
      "Epoch 100/100\n",
      "12/12 [==============================] - 0s 20ms/step - loss: 0.1046 - accuracy: 0.9738 - val_loss: 0.0915 - val_accuracy: 0.9681\n"
     ]
    }
   ],
   "source": [
    "# Train the model for 100 epochs i.e 100 times\n",
    "r = model.fit (X_train, y_train, validation_data = (X_test, y_test), epochs = 100)"
   ]
  },
  {
   "cell_type": "markdown",
   "metadata": {},
   "source": [
    "Here model.fit returns an object and we are storning that in **r**. Which contains the intelligence and understanding of a prediction from the training process."
   ]
  },
  {
   "cell_type": "markdown",
   "metadata": {
    "id": "yFJQ1hZ2mc9H"
   },
   "source": [
    "## Evaluating Model's Accuracy"
   ]
  },
  {
   "cell_type": "code",
   "execution_count": 26,
   "metadata": {},
   "outputs": [
    {
     "name": "stdout",
     "output_type": "stream",
     "text": [
      "12/12 [==============================] - 0s 3ms/step - loss: 0.1044 - accuracy: 0.9738\n",
      "Train Accuracy:  [0.10436342656612396, 0.9737532734870911]\n",
      "6/6 [==============================] - 0s 3ms/step - loss: 0.0915 - accuracy: 0.9681\n",
      "Test Accuracy:  [0.09152211248874664, 0.9680851101875305]\n"
     ]
    }
   ],
   "source": [
    "# Evaluate the model - evaluate() returns loss and accuracy\n",
    "print(\"Train Accuracy: \", model.evaluate(X_train, y_train))\n",
    "print(\"Test Accuracy: \", model.evaluate(X_test, y_test))\n"
   ]
  },
  {
   "cell_type": "markdown",
   "metadata": {},
   "source": [
    "#### Loss Vs Interation"
   ]
  },
  {
   "cell_type": "code",
   "execution_count": 27,
   "metadata": {},
   "outputs": [],
   "source": [
    "import matplotlib.pyplot as plt "
   ]
  },
  {
   "cell_type": "code",
   "execution_count": 28,
   "metadata": {},
   "outputs": [
    {
     "data": {
      "image/png": "[encoded data removed]",
      "text/plain": [
       "<Figure size 432x288 with 1 Axes>"
      ]
     },
     "metadata": {
      "needs_background": "light"
     },
     "output_type": "display_data"
    }
   ],
   "source": [
    "plt. plot(r.history ['loss'], label = 'loss', color = 'b')\n",
    "plt.plot(r.history['val_loss'], label = 'val_loss', color = 'r')\n",
    "plt.title(\"Loss and Val_Loss vs Iteration\", loc='center')\n",
    "plt.xlabel(\"Loss and Val_Loss\")\n",
    "plt.ylabel(\"Iteration\")\n",
    "plt.legend()\n",
    "plt.show()"
   ]
  },
  {
   "cell_type": "markdown",
   "metadata": {},
   "source": [
    "We see a steady demcrease of loss at each iteration."
   ]
  },
  {
   "cell_type": "markdown",
   "metadata": {},
   "source": [
    "#### Accuracy Vs Iterration "
   ]
  },
  {
   "cell_type": "code",
   "execution_count": 29,
   "metadata": {},
   "outputs": [
    {
     "data": {
      "image/png": "[encoded data removed]",
      "text/plain": [
       "<Figure size 432x288 with 1 Axes>"
      ]
     },
     "metadata": {
      "needs_background": "light"
     },
     "output_type": "display_data"
    }
   ],
   "source": [
    "plt. plot(r.history ['accuracy'], label = 'loss', color = 'b')\n",
    "plt.plot(r.history['val_accuracy'], label = 'val_loss', color = 'r')\n",
    "plt.title(\"accuracy and Val_accuracy vs Iteration\", loc='center')\n",
    "plt.xlabel(\"accuracy and Val_accuracy\")\n",
    "plt.ylabel(\"Iteration\")\n",
    "plt.legend()\n",
    "plt.show()"
   ]
  },
  {
   "cell_type": "markdown",
   "metadata": {},
   "source": [
    "We see a steady increase of Accuracy at each iteration."
   ]
  },
  {
   "cell_type": "markdown",
   "metadata": {},
   "source": [
    "### Making Predictions on the Data"
   ]
  },
  {
   "cell_type": "code",
   "execution_count": 30,
   "metadata": {},
   "outputs": [
    {
     "name": "stdout",
     "output_type": "stream",
     "text": [
      "[[7.03075528e-02]\n",
      " [9.70220327e-01]\n",
      " [9.51645732e-01]\n",
      " [4.78371322e-01]\n",
      " [8.92460346e-04]\n",
      " [5.47094643e-02]\n",
      " [9.60813999e-01]\n",
      " [8.79716039e-01]\n",
      " [9.96720612e-01]\n",
      " [4.19482589e-03]\n",
      " [8.14953268e-01]\n",
      " [9.82848346e-01]\n",
      " [9.22911465e-01]\n",
      " [9.87263441e-01]\n",
      " [9.83737230e-01]\n",
      " [9.74002242e-01]\n",
      " [5.96237183e-03]\n",
      " [6.10564939e-06]\n",
      " [1.32479519e-01]\n",
      " [1.01730883e-01]\n",
      " [9.87282515e-01]\n",
      " [9.81317878e-01]\n",
      " [9.99978065e-01]\n",
      " [5.55540323e-02]\n",
      " [1.21900439e-03]\n",
      " [8.57724845e-02]\n",
      " [9.97819841e-01]\n",
      " [6.27720356e-03]\n",
      " [4.44057584e-03]\n",
      " [9.93684649e-01]\n",
      " [9.99448776e-01]\n",
      " [9.99616504e-01]\n",
      " [2.65121460e-04]\n",
      " [9.98437881e-01]\n",
      " [9.27403927e-01]\n",
      " [9.89827752e-01]\n",
      " [7.29081333e-02]\n",
      " [6.36713743e-01]\n",
      " [9.71916080e-01]\n",
      " [6.92516565e-02]\n",
      " [9.91615534e-01]\n",
      " [9.96508241e-01]\n",
      " [9.88207042e-01]\n",
      " [9.88080502e-01]\n",
      " [6.79701567e-04]\n",
      " [9.79820848e-01]\n",
      " [9.58944917e-01]\n",
      " [8.89761806e-01]\n",
      " [1.57186747e-01]\n",
      " [9.96289849e-01]\n",
      " [3.43739986e-04]\n",
      " [6.93628192e-03]\n",
      " [4.86029118e-01]\n",
      " [8.98760140e-01]\n",
      " [9.77424741e-01]\n",
      " [9.93462145e-01]\n",
      " [9.95055318e-01]\n",
      " [9.85342264e-01]\n",
      " [9.96876478e-01]\n",
      " [9.27944899e-01]\n",
      " [3.57747078e-04]\n",
      " [9.96837556e-01]\n",
      " [2.98852623e-02]\n",
      " [7.85862803e-02]\n",
      " [1.10503925e-10]\n",
      " [6.13991380e-01]\n",
      " [9.71391797e-01]\n",
      " [1.52242184e-03]\n",
      " [1.59574829e-05]\n",
      " [9.86742377e-01]\n",
      " [8.80934715e-01]\n",
      " [7.99158514e-02]\n",
      " [8.55400681e-01]\n",
      " [7.95721650e-01]\n",
      " [8.58719945e-01]\n",
      " [9.71518755e-01]\n",
      " [9.94461894e-01]\n",
      " [8.62451434e-01]\n",
      " [8.83931994e-01]\n",
      " [1.34360790e-03]\n",
      " [1.02555752e-03]\n",
      " [9.95497525e-01]\n",
      " [4.38286662e-02]\n",
      " [1.59547031e-02]\n",
      " [3.65665257e-02]\n",
      " [9.87804651e-01]\n",
      " [8.86766851e-01]\n",
      " [1.51664019e-04]\n",
      " [9.70241487e-01]\n",
      " [9.47807670e-01]\n",
      " [9.85262632e-01]\n",
      " [9.50324178e-01]\n",
      " [9.98760700e-01]\n",
      " [9.47142541e-01]\n",
      " [9.85551417e-01]\n",
      " [9.95758653e-01]\n",
      " [9.96489048e-01]\n",
      " [9.97893870e-01]\n",
      " [8.98250163e-01]\n",
      " [9.92258370e-01]\n",
      " [9.66659069e-01]\n",
      " [9.92937744e-01]\n",
      " [7.15615928e-01]\n",
      " [2.00727105e-01]\n",
      " [3.81192267e-02]\n",
      " [9.76843297e-01]\n",
      " [9.90840673e-01]\n",
      " [9.87838984e-01]\n",
      " [2.02783942e-01]\n",
      " [9.97378469e-01]\n",
      " [9.96270657e-01]\n",
      " [1.53595209e-03]\n",
      " [9.79499698e-01]\n",
      " [9.95779455e-01]\n",
      " [9.74829674e-01]\n",
      " [9.88377631e-01]\n",
      " [9.93431687e-01]\n",
      " [7.96001196e-01]\n",
      " [1.61579549e-02]\n",
      " [9.71296191e-01]\n",
      " [9.75600123e-01]\n",
      " [5.20125985e-01]\n",
      " [2.89669812e-01]\n",
      " [1.25744492e-01]\n",
      " [8.77784491e-01]\n",
      " [9.78953600e-01]\n",
      " [3.42021599e-06]\n",
      " [9.97681856e-01]\n",
      " [2.34026313e-02]\n",
      " [1.28355145e-01]\n",
      " [3.84491682e-03]\n",
      " [9.96726990e-01]\n",
      " [2.42546737e-01]\n",
      " [8.24049354e-01]\n",
      " [9.43987668e-01]\n",
      " [6.28359048e-05]\n",
      " [1.48928791e-01]\n",
      " [2.71887481e-02]\n",
      " [8.84096801e-01]\n",
      " [9.95422244e-01]\n",
      " [8.79821539e-01]\n",
      " [1.10784173e-03]\n",
      " [8.96704555e-01]\n",
      " [9.56462085e-01]\n",
      " [3.26365232e-04]\n",
      " [9.98312473e-01]\n",
      " [6.76886141e-02]\n",
      " [3.19128633e-02]\n",
      " [9.62795258e-01]\n",
      " [9.99713004e-01]\n",
      " [7.23929882e-01]\n",
      " [1.45567298e-01]\n",
      " [9.89795804e-01]\n",
      " [7.27932502e-07]\n",
      " [8.87641668e-01]\n",
      " [9.86167073e-01]\n",
      " [6.22097790e-01]\n",
      " [9.11023855e-01]\n",
      " [9.54269648e-01]\n",
      " [9.94647980e-01]\n",
      " [9.62334991e-01]\n",
      " [9.84166622e-01]\n",
      " [9.62656081e-01]\n",
      " [4.64886427e-04]\n",
      " [8.64807129e-01]\n",
      " [9.78822827e-01]\n",
      " [4.80134815e-01]\n",
      " [9.47109580e-01]\n",
      " [9.88969326e-01]\n",
      " [9.99741316e-01]\n",
      " [7.04694331e-01]\n",
      " [9.94258106e-01]\n",
      " [6.21610284e-02]\n",
      " [9.93104935e-01]\n",
      " [5.25046289e-02]\n",
      " [1.64141729e-05]\n",
      " [5.21197081e-01]\n",
      " [7.94202328e-01]\n",
      " [8.42174530e-01]\n",
      " [1.55857503e-02]\n",
      " [9.89864647e-01]\n",
      " [9.77471828e-01]\n",
      " [2.03139186e-02]\n",
      " [9.00398254e-01]\n",
      " [2.38156319e-03]\n",
      " [1.05191469e-02]\n",
      " [4.44978476e-04]\n",
      " [9.10082459e-01]]\n"
     ]
    }
   ],
   "source": [
    "y_pred = model.predict (X_test)\n",
    "print(y_pred)\n"
   ]
  },
  {
   "cell_type": "code",
   "execution_count": 31,
   "metadata": {},
   "outputs": [
    {
     "data": {
      "text/plain": [
       "0.94011122"
      ]
     },
     "execution_count": 31,
     "metadata": {},
     "output_type": "execute_result"
    }
   ],
   "source": [
    "9.40111220e-01"
   ]
  },
  {
   "cell_type": "code",
   "execution_count": 32,
   "metadata": {},
   "outputs": [
    {
     "data": {
      "text/plain": [
       "(188, 1)"
      ]
     },
     "execution_count": 32,
     "metadata": {},
     "output_type": "execute_result"
    }
   ],
   "source": [
    "y_pred.shape"
   ]
  },
  {
   "cell_type": "markdown",
   "metadata": {},
   "source": [
    "Above we can see y_pred giving result in as exponential values and long vertical op. We are going to round the value and flatten thme result"
   ]
  },
  {
   "cell_type": "code",
   "execution_count": 33,
   "metadata": {},
   "outputs": [],
   "source": [
    "import numpy as np\n",
    "y_pred= np.round(y_pred).flatten()\n",
    "\n",
    "# Round to get the actual predictions\n",
    "# Note: has to be flattened since the targets are size (N,), while the predictions are size (N,1)"
   ]
  },
  {
   "cell_type": "code",
   "execution_count": 34,
   "metadata": {},
   "outputs": [
    {
     "name": "stdout",
     "output_type": "stream",
     "text": [
      "[0. 1. 1. 0. 0. 0. 1. 1. 1. 0. 1. 1. 1. 1. 1. 1. 0. 0. 0. 0. 1. 1. 1. 0.\n",
      " 0. 0. 1. 0. 0. 1. 1. 1. 0. 1. 1. 1. 0. 1. 1. 0. 1. 1. 1. 1. 0. 1. 1. 1.\n",
      " 0. 1. 0. 0. 0. 1. 1. 1. 1. 1. 1. 1. 0. 1. 0. 0. 0. 1. 1. 0. 0. 1. 1. 0.\n",
      " 1. 1. 1. 1. 1. 1. 1. 0. 0. 1. 0. 0. 0. 1. 1. 0. 1. 1. 1. 1. 1. 1. 1. 1.\n",
      " 1. 1. 1. 1. 1. 1. 1. 0. 0. 1. 1. 1. 0. 1. 1. 0. 1. 1. 1. 1. 1. 1. 0. 1.\n",
      " 1. 1. 0. 0. 1. 1. 0. 1. 0. 0. 0. 1. 0. 1. 1. 0. 0. 0. 1. 1. 1. 0. 1. 1.\n",
      " 0. 1. 0. 0. 1. 1. 1. 0. 1. 0. 1. 1. 1. 1. 1. 1. 1. 1. 1. 0. 1. 1. 0. 1.\n",
      " 1. 1. 1. 1. 0. 1. 0. 0. 1. 1. 1. 0. 1. 1. 0. 1. 0. 0. 0. 1.]\n"
     ]
    }
   ],
   "source": [
    "print(y_pred)"
   ]
  },
  {
   "cell_type": "code",
   "execution_count": 35,
   "metadata": {},
   "outputs": [
    {
     "name": "stdout",
     "output_type": "stream",
     "text": [
      "12/12 [==============================] - 0s 12ms/step - loss: 0.1044 - accuracy: 0.9738\n",
      "Train score:  [0.10436342656612396, 0.9737532734870911]\n",
      "6/6 [==============================] - 0s 7ms/step - loss: 0.0915 - accuracy: 0.9681\n",
      "Test score:  [0.09152211248874664, 0.9680851101875305]\n"
     ]
    }
   ],
   "source": [
    "# Evaluate the model - evaluate() returns loss and accuracy\n",
    "print(\"Train score: \", model.evaluate(X_train, y_train))\n",
    "print(\"Test score: \", model.evaluate(X_test, y_test)) # ouput in the form of (loss, accuracy)"
   ]
  },
  {
   "cell_type": "code",
   "execution_count": 36,
   "metadata": {},
   "outputs": [
    {
     "name": "stdout",
     "output_type": "stream",
     "text": [
      "Manual evaluation od the Model: 0.9680851063829787\n"
     ]
    }
   ],
   "source": [
    "print (\"Manual evaluation od the Model:\", np.mean (y_pred==y_test))"
   ]
  },
  {
   "cell_type": "markdown",
   "metadata": {},
   "source": [
    "We can find the Manually calcumated Accuracy same as the Accuracy we calculated by the evaluate function before. "
   ]
  },
  {
   "cell_type": "markdown",
   "metadata": {},
   "source": [
    "\n",
    "### Saving the Model"
   ]
  },
  {
   "cell_type": "markdown",
   "metadata": {},
   "source": [
    "#### Using Pickle"
   ]
  },
  {
   "cell_type": "code",
   "execution_count": 37,
   "metadata": {},
   "outputs": [],
   "source": [
    "import pickle"
   ]
  },
  {
   "cell_type": "code",
   "execution_count": 52,
   "metadata": {},
   "outputs": [
    {
     "data": {
      "text/plain": [
       "\"with open ('model_pickle', 'wb') as f :\\n    pickle.dump(model, f)\\n    \\n    # model.save('path to save')\\nwith open ('model_pickle', 'rb') as f :\\n    modd = pickle.load(f)\""
      ]
     },
     "execution_count": 52,
     "metadata": {},
     "output_type": "execute_result"
    }
   ],
   "source": [
    "# model.save('path to save')\n",
    "\n",
    "\n",
    "'''with open ('model_pickle', 'wb') as f :\n",
    "    pickle.dump(model, f)\n",
    "    \n",
    "    # model.save('path to save')\n",
    "with open ('model_pickle', 'rb') as f :\n",
    "    modd = pickle.load(f)'''"
   ]
  },
  {
   "cell_type": "code",
   "execution_count": 60,
   "metadata": {
    "scrolled": true
   },
   "outputs": [
    {
     "name": "stdout",
     "output_type": "stream",
     "text": [
      "INFO:tensorflow:Assets written to: ram://5d4eaa2b-9858-439f-b9f1-4507e38f221d/assets\n"
     ]
    }
   ],
   "source": [
    "venkat = 'venkat.sav'\n",
    "pickle.dump(model, open(venkat, 'wb'))\n",
    " \n",
    "# some time later...\n",
    "\n",
    "# load the model from disk\n",
    "#loaded_model =  pickle.loads(open( venkat, \"rb\" ).read())\n",
    " \n"
   ]
  },
  {
   "cell_type": "markdown",
   "metadata": {},
   "source": [
    "####  using Sklearn's Joblib Library"
   ]
  },
  {
   "cell_type": "code",
   "execution_count": 55,
   "metadata": {},
   "outputs": [
    {
     "name": "stderr",
     "output_type": "stream",
     "text": [
      "C:\\Users\\ELCOT\\anaconda3\\lib\\site-packages\\sklearn\\externals\\joblib\\__init__.py:15: FutureWarning: sklearn.externals.joblib is deprecated in 0.21 and will be removed in 0.23. Please import this functionality directly from joblib, which can be installed with: pip install joblib. If this warning is raised when loading pickled models, you may need to re-serialize those models with scikit-learn 0.21+.\n",
      "  warnings.warn(msg, category=FutureWarning)\n"
     ]
    }
   ],
   "source": [
    "from sklearn.externals import joblib"
   ]
  },
  {
   "cell_type": "code",
   "execution_count": 56,
   "metadata": {},
   "outputs": [
    {
     "name": "stdout",
     "output_type": "stream",
     "text": [
      "INFO:tensorflow:Assets written to: ram://1773314c-c7f8-44f2-8823-ec5cabecadea/assets\n"
     ]
    },
    {
     "data": {
      "text/plain": [
       "['venkat1']"
      ]
     },
     "execution_count": 56,
     "metadata": {},
     "output_type": "execute_result"
    }
   ],
   "source": [
    "#joblib.dump(model, 'venkat1')"
   ]
  },
  {
   "cell_type": "code",
   "execution_count": 59,
   "metadata": {},
   "outputs": [],
   "source": [
    "#vv = joblib.load('venkat1')"
   ]
  },
  {
   "cell_type": "markdown",
   "metadata": {},
   "source": [
    "####  Using Keras Libray (Recommend)"
   ]
  },
  {
   "cell_type": "code",
   "execution_count": 61,
   "metadata": {},
   "outputs": [],
   "source": [
    "#https://www.tensorflow.org/guide/keras/save_and_serialize\n",
    "# model.save('path to save')\n",
    "model.save('linearclassifier.h5')"
   ]
  },
  {
   "cell_type": "code",
   "execution_count": 67,
   "metadata": {},
   "outputs": [
    {
     "name": "stdout",
     "output_type": "stream",
     "text": [
      "<keras.engine.sequential.Sequential object at 0x0000025ADA73CD48>\n"
     ]
    }
   ],
   "source": [
    "client_venkat = tf.keras.models.load_model('linearclassifier.h5')\n",
    "print(client)"
   ]
  },
  {
   "cell_type": "code",
   "execution_count": 68,
   "metadata": {},
   "outputs": [
    {
     "name": "stdout",
     "output_type": "stream",
     "text": [
      "6/6 [==============================] - 0s 3ms/step - loss: 0.0915 - accuracy: 0.9681\n"
     ]
    },
    {
     "data": {
      "text/plain": [
       "[0.09152211248874664, 0.9680851101875305]"
      ]
     },
     "execution_count": 68,
     "metadata": {},
     "output_type": "execute_result"
    }
   ],
   "source": [
    "# Checking if we get the same accuracy as we got previously\n",
    "client.evaluate(X_test, y_test)"
   ]
  },
  {
   "cell_type": "code",
   "execution_count": 69,
   "metadata": {},
   "outputs": [
    {
     "data": {
      "text/plain": [
       "\"from google.colab import files\\nfiles.download('linearclassifier.h5')\""
      ]
     },
     "execution_count": 69,
     "metadata": {},
     "output_type": "execute_result"
    }
   ],
   "source": [
    "# To download the file we are working on Colab - requires Chrome (at this point)\n",
    "\n",
    "'''from google.colab import files\n",
    "files.download('linearclassifier.h5')'''"
   ]
  }
 ],
 "metadata": {
  "colab": {
   "authorship_tag": "ABX9TyNl/7qwEY3vCqruOssu20jk",
   "collapsed_sections": [],
   "include_colab_link": true,
   "name": "LinearClassification.ipynb",
   "provenance": []
  },
  "kernelspec": {
   "display_name": "Python 3",
   "language": "python",
   "name": "python3"
  },
  "language_info": {
   "codemirror_mode": {
    "name": "ipython",
    "version": 3
   },
   "file_extension": ".py",
   "mimetype": "text/x-python",
   "name": "python",
   "nbconvert_exporter": "python",
   "pygments_lexer": "ipython3",
   "version": "3.7.6"
  }
 },
 "nbformat": 4,
 "nbformat_minor": 5
}
